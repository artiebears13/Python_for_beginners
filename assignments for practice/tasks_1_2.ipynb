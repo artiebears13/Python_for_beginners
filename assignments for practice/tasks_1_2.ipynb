{
 "cells": [
  {
   "cell_type": "markdown",
   "metadata": {},
   "source": [
    "# Задачи для лекций по теме строки"
   ]
  },
  {
   "cell_type": "markdown",
   "metadata": {},
   "source": [
    "## Задача 1.1\n",
    "Сравнить строки: '12304'  и '234'. Как из них больше?\n"
   ]
  },
  {
   "cell_type": "code",
   "execution_count": 4,
   "metadata": {},
   "outputs": [
    {
     "name": "stdout",
     "output_type": "stream",
     "text": [
      "234\n"
     ]
    }
   ],
   "source": [
    "import numpy as np\n",
    "a='12304'\n",
    "b='234'\n",
    "if a>b:\n",
    "    print(a)\n",
    "else:\n",
    "    print(b)"
   ]
  },
  {
   "cell_type": "markdown",
   "metadata": {},
   "source": [
    "## Задача 1.2\n",
    "Переводчик с русского на выдуманный прусский: принимается предложение. Необхиодимо каждому слову в предложении прибавить в начале букву п"
   ]
  },
  {
   "cell_type": "code",
   "execution_count": 31,
   "metadata": {},
   "outputs": [
    {
     "name": "stdout",
     "output_type": "stream",
     "text": [
      "шла саша по шоссе\n",
      "пшла псаша ппо пшоссе\n"
     ]
    }
   ],
   "source": [
    "string=input()\n",
    "new_string='п'\n",
    "for i in string:\n",
    "    new_string=new_string+i\n",
    "    if i==' ':\n",
    "        new_string=new_string+'п'\n",
    "print(new_string)"
   ]
  },
  {
   "cell_type": "code",
   "execution_count": 35,
   "metadata": {},
   "outputs": [
    {
     "name": "stdout",
     "output_type": "stream",
     "text": [
      "Шла саша по шоссе\n",
      "пШла псаша ппо пшоссе\n"
     ]
    }
   ],
   "source": [
    "string=input()\n",
    "string = string.replace(' ', ' п')\n",
    "if string[0]!=' ':\n",
    "    string='п'+string\n",
    "print(string)"
   ]
  },
  {
   "cell_type": "markdown",
   "metadata": {},
   "source": [
    "## Задача 1.3\n",
    "\n",
    "Провекрка строки: Проверьте, начинается ли строка с заглавной буквы? Если да, то сообщите об этом, точно также проверьте, какие буквы в строке? все маленькие? Все большие? Или смешанные? Сделайте обратное преобразование, если строка состоит из маленьких букв, сделайте ее большими, если из больших - маленькими. "
   ]
  },
  {
   "cell_type": "code",
   "execution_count": 19,
   "metadata": {},
   "outputs": [
    {
     "name": "stdout",
     "output_type": "stream",
     "text": [
      "abCd\n",
      "первая буква маленькая\n",
      "букв нижнего регистра: 3, букв верхнего регистра: 1\n",
      "ABcD\n"
     ]
    }
   ],
   "source": [
    "\n",
    "\n",
    "str=input()\n",
    "if str[0].isupper():\n",
    "    print('первая буква заглавная')\n",
    "else:\n",
    "    print('первая буква маленькая')\n",
    "upper_counter=0\n",
    "lower_counter=0\n",
    "for i in str:\n",
    "    if i.isupper():\n",
    "        upper_counter=upper_counter+1\n",
    "        i.lower\n",
    "    else:\n",
    "        lower_counter=lower_counter+1\n",
    "        i.upper\n",
    "print('букв нижнего регистра: {}, букв верхнего регистра: {}'.format(lower_counter,upper_counter))\n",
    "print(str.swapcase())"
   ]
  },
  {
   "cell_type": "markdown",
   "metadata": {},
   "source": [
    "## Задача 1.4\n",
    "\n",
    "Проверьте строку на знаки препинания. Есть ли там знаки препинания? Если нет, то сообщите об этом пользователю"
   ]
  },
  {
   "cell_type": "code",
   "execution_count": 21,
   "metadata": {},
   "outputs": [
    {
     "name": "stdout",
     "output_type": "stream",
     "text": [
      "ab,c.\n",
      "yes\n"
     ]
    }
   ],
   "source": [
    "list=[',','.','!','?']\n",
    "str=input()\n",
    "check=False\n",
    "for i in str:\n",
    "    if i in list:\n",
    "        check=True\n",
    "if check:\n",
    "    print('yes')\n",
    "else:\n",
    "    print('no')"
   ]
  },
  {
   "cell_type": "markdown",
   "metadata": {},
   "source": [
    "## Задача 1.5\n",
    "\n",
    "Пользователем передаются 2 строки. s1 и s2. Задача - определить, какая строка длиннее и проверить, есть ли котороткая строка внутри длинной строки."
   ]
  },
  {
   "cell_type": "code",
   "execution_count": 7,
   "metadata": {},
   "outputs": [
    {
     "name": "stdout",
     "output_type": "stream",
     "text": [
      "abcd\n",
      "abcd\n",
      "strings have equal lengths\n",
      "its same strings\n"
     ]
    }
   ],
   "source": [
    "s1=input()\n",
    "s2=input()\n",
    "if len(s1)>len(s2):\n",
    "    print('first string is longer')\n",
    "    if  (s2 in s1):\n",
    "        print('s2 is a part of s1')\n",
    "elif len(s1)<len(s2):\n",
    "    print('secont string is longer')\n",
    "    if (s1 in s2):\n",
    "        print('s1 is a part of s2')\n",
    "else:\n",
    "    print('strings have equal lengths')\n",
    "    if s1==s2:\n",
    "        print('its same strings')\n"
   ]
  },
  {
   "cell_type": "markdown",
   "metadata": {},
   "source": [
    "## Задача 1.6\n",
    "\n",
    "Передается 4 строки, сама строка, старт, стоп и замена. Задача найти висходной строке старт и стоп, вырезать их из исходной последовательности и вставить на это место строку-замену\n",
    "s = 'GCTGGGGGGCTATAAAAAGAGGAGGCGCAGCGGAGAGACAGAGACGGACAAAGACCAAGAGAGCGAAACC'  \n",
    "start = 'CTA'  \n",
    "end = 'CCA'  \n",
    "insert = 'CCCCGGGGCGCGGGGGCGCCCGATATACGCGCGCG'  "
   ]
  },
  {
   "cell_type": "code",
   "execution_count": 24,
   "metadata": {},
   "outputs": [
    {
     "name": "stdout",
     "output_type": "stream",
     "text": [
      "artemmedvedev\n",
      "tem\n",
      "start= 2\n",
      "end=5\n"
     ]
    }
   ],
   "source": [
    "def FindPlace(a,b):\n",
    "    check=True\n",
    "    i=-1\n",
    "    while check:\n",
    "        i=i+1\n",
    "        if a[i]==b[0]:\n",
    "            check=False\n",
    "            for j in range(1,len(b)):\n",
    "                if a[i+j]==b[j]:\n",
    "                    continue\n",
    "                else:\n",
    "                    check=True\n",
    "        \n",
    "    return i\n",
    "\n",
    "\n",
    "s=input()\n",
    "start=input()\n",
    "stop=input()\n",
    "insert=input()\n",
    "start_pos=FindPlace(s,start)\n",
    "end_pos=FindPlace(s,stop)+len(stop)\n",
    "delete=''\n",
    "for i in range(start_pos,end_pos):\n",
    "    delete=delete+s[i]\n",
    "s=s.replace(delete,insert)\n",
    "print(s)"
   ]
  },
  {
   "cell_type": "code",
   "execution_count": 36,
   "metadata": {},
   "outputs": [
    {
     "data": {
      "text/plain": [
       "2"
      ]
     },
     "execution_count": 36,
     "metadata": {},
     "output_type": "execute_result"
    }
   ],
   "source": [
    "def FindPlace(a,b):\n",
    "    check=True\n",
    "    i=-1\n",
    "    while check:\n",
    "        i=i+1\n",
    "        if a[i]==b[0]:\n",
    "            check=False\n",
    "            for j in range(1,len(b)):\n",
    "                if a[i+j]==b[j]:\n",
    "                    continue\n",
    "                else:\n",
    "                    check=True\n",
    "        \n",
    "    return i\n",
    "\n",
    "a='abcde'\n",
    "b='cd'\n",
    "\n",
    "FindPlace(a,b)"
   ]
  },
  {
   "cell_type": "code",
   "execution_count": 32,
   "metadata": {},
   "outputs": [
    {
     "name": "stdout",
     "output_type": "stream",
     "text": [
      "м\n",
      "а\n",
      "м\n",
      "а\n",
      " \n",
      "и\n",
      "д\n",
      "е\n",
      "т\n",
      " \n",
      "в\n",
      " \n",
      "м\n",
      "а\n",
      "г\n",
      "а\n",
      "з\n",
      "и\n",
      "н\n"
     ]
    }
   ],
   "source": [
    "a='мама идет в магазин'\n",
    "for i in a:\n",
    "    print(i)"
   ]
  },
  {
   "cell_type": "code",
   "execution_count": 16,
   "metadata": {},
   "outputs": [
    {
     "data": {
      "text/plain": [
       "35"
      ]
     },
     "execution_count": 16,
     "metadata": {},
     "output_type": "execute_result"
    }
   ],
   "source": []
  },
  {
   "cell_type": "code",
   "execution_count": 18,
   "metadata": {},
   "outputs": [
    {
     "data": {
      "text/plain": [
       "'a'"
      ]
     },
     "execution_count": 18,
     "metadata": {},
     "output_type": "execute_result"
    }
   ],
   "source": []
  },
  {
   "cell_type": "code",
   "execution_count": null,
   "metadata": {},
   "outputs": [],
   "source": []
  }
 ],
 "metadata": {
  "kernelspec": {
   "display_name": "Python 3",
   "language": "python",
   "name": "python3"
  },
  "language_info": {
   "codemirror_mode": {
    "name": "ipython",
    "version": 3
   },
   "file_extension": ".py",
   "mimetype": "text/x-python",
   "name": "python",
   "nbconvert_exporter": "python",
   "pygments_lexer": "ipython3",
   "version": "3.8.5"
  }
 },
 "nbformat": 4,
 "nbformat_minor": 4
}
