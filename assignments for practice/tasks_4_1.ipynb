{
 "cells": [
  {
   "cell_type": "markdown",
   "metadata": {},
   "source": [
    "### Задача 1\n",
    "Попробуйте модифицировать данное регулярное выражение для телефонного номера так, чтобы оно допускало отсутствие дефисов, а также кода страны и города."
   ]
  },
  {
   "cell_type": "code",
   "execution_count": 5,
   "metadata": {},
   "outputs": [
    {
     "name": "stdout",
     "output_type": "stream",
     "text": [
      "None\n"
     ]
    }
   ],
   "source": [
    "import re\n",
    "s = '3452823'\n",
    "\n",
    "regexp = re.compile('\\d{1}-\\d{3}-\\d{3}-\\d{2}-\\d{2}')\n",
    "print(regexp.search(s))"
   ]
  },
  {
   "cell_type": "markdown",
   "metadata": {},
   "source": [
    "### Задача 2\n",
    "Напишите регулярное выражение, описывающая стоп-кодоны: UAA, UAG, UGA. Модифицируйте ваше решение задачи №6 из практических задач tasks_3_1 так, чтобы были использованы регулярные выражения"
   ]
  },
  {
   "cell_type": "code",
   "execution_count": 1,
   "metadata": {},
   "outputs": [],
   "source": [
    "# Место для решения"
   ]
  },
  {
   "cell_type": "markdown",
   "metadata": {},
   "source": [
    "### Задача 3\n",
    "Напишите скрипт для поиска десятичных дробей (разделитель - .) меньше 5 в строке. Результатом выполнения программы должен быть список"
   ]
  },
  {
   "cell_type": "code",
   "execution_count": 1,
   "metadata": {},
   "outputs": [],
   "source": [
    "s = '6.12 .5 12 альпака 0,23 0,24 1.5 0.11 32 4.5'\n",
    "\n",
    "# Место для решения"
   ]
  },
  {
   "cell_type": "markdown",
   "metadata": {},
   "source": [
    "### Задача 4\n",
    "В результате выполнения пайплайна был получен файл assoc_tab.txt в директории lections/files_and_images. Однако вместо стандартных разделителей в нём используются последовательности пробелов произвольной длины. Напишите программу, конвертирующую данный файл в формат CSV"
   ]
  },
  {
   "cell_type": "code",
   "execution_count": 1,
   "metadata": {},
   "outputs": [],
   "source": [
    "# Место для решения"
   ]
  },
  {
   "cell_type": "markdown",
   "metadata": {},
   "source": [
    "### Задача 5\n",
    "В файле quote.txt, расположенном в директории lections/files_and_images, содержится текст. Напищите программу, выводящую ввиде списка первые три буквы каждого слова"
   ]
  },
  {
   "cell_type": "code",
   "execution_count": 1,
   "metadata": {},
   "outputs": [],
   "source": [
    "# Место для решения"
   ]
  },
  {
   "cell_type": "markdown",
   "metadata": {},
   "source": [
    "### Задача 6\n",
    "В файле quote.txt, расположенном в директории lections/files_and_images, содержится текст. Напищите программу, выводящую ввиде строки (с пробелом в качестве разделителя) все слова, начинающиеся с глассной буквы."
   ]
  },
  {
   "cell_type": "code",
   "execution_count": 1,
   "metadata": {},
   "outputs": [],
   "source": [
    "# Место для решения"
   ]
  },
  {
   "cell_type": "markdown",
   "metadata": {},
   "source": [
    "### Задача 7\n",
    "Дан файл sites.bed (в директории lections/files_and_images) вида \"имя_хромосомы\"\\t\"старт\"\\t\"конец\", содержащий координаты сайтов. Используя регулярные выражения, посчитайте среднюю длину и медиану интервала в данном файле."
   ]
  },
  {
   "cell_type": "code",
   "execution_count": 1,
   "metadata": {},
   "outputs": [],
   "source": [
    "# Место для решения"
   ]
  },
  {
   "cell_type": "markdown",
   "metadata": {},
   "source": [
    "### Задача 8\n",
    "В директории lections/files_and_images располагается файл exp_submission_dates.tab. В данном файле первая колонка содержит идентификатор эксперимента, а вторая колонка - дату публикации данных (раделитель - таб). Обратите внимание, что в файле встречаются идентификаторы двух типов: EXP###### и HEXP######. Напишите программу, которая отбирает эксперименты с идентификатором вида EXP######, опубликованные после 2016 года. Результатом выполнения программы должен быть словарь, где ключ - идентификатор эксперимента, а значение - дата публикации."
   ]
  },
  {
   "cell_type": "code",
   "execution_count": 1,
   "metadata": {},
   "outputs": [],
   "source": [
    "# Место для решения"
   ]
  }
 ],
 "metadata": {
  "kernelspec": {
   "display_name": "Python 3",
   "language": "python",
   "name": "python3"
  },
  "language_info": {
   "codemirror_mode": {
    "name": "ipython",
    "version": 3
   },
   "file_extension": ".py",
   "mimetype": "text/x-python",
   "name": "python",
   "nbconvert_exporter": "python",
   "pygments_lexer": "ipython3",
   "version": "3.7.3"
  }
 },
 "nbformat": 4,
 "nbformat_minor": 2
}
