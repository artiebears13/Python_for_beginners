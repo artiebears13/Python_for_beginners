{
 "cells": [
  {
   "cell_type": "markdown",
   "metadata": {},
   "source": [
    "## Задача 1\n",
    "В файле gsm_list.txt содержатся идентификаторы GEO NCBI (идентификаторы вида GSM#####). Вам необходимо подгрузить html-страницу с информацией по каждому эксперименту. Например, https://www.ncbi.nlm.nih.gov/geo/query/acc.cgi?acc=GSM5176077. Обратите внимание на то, как устроена URL-ссылка. Ознакомтесь со страницей и имеющейся на ней информацией. Напишите программу, которая ищет соответствие серии экспериментов и эксперимента. Результат запищите ввиде таблицы, состоящей из 2 колонок.\n",
    "\n",
    "\\* В базе данных GEO NCBI некоторые из серий экспермиентов являются суперсериями, т. е. включают в себя другие серии экспериментов. Информацию об этом можно найти на соответствующих им страницам. Модифицируйте вашу программу так, чтобы идентификаторы суперсерий игнорировались"
   ]
  },
  {
   "cell_type": "code",
   "execution_count": 2,
   "metadata": {},
   "outputs": [],
   "source": [
    "# Место для решения"
   ]
  },
  {
   "cell_type": "markdown",
   "metadata": {},
   "source": [
    "## Задача 2\n",
    "В файле encode_id_list.txt содержатся идентификаторы базы данных ENCODE (идентификаторы с префиксом ENCSR). Вам необходимо подгрузить json с информацией по каждому эксперименту. Например, https://www.encodeproject.org/experiments/ENCSR747VUU/?format=json. Обратите внимание на то, как устроена URL-ссылка. Ознакомтесь с JSON'ом и имеющейся в нём информацией. Напишите программу, которая собирает информацию об типе эксперимента (assay_title), таргете (target -> label) и дате сабмита данных (date_submitted) для каждого идентификатора. Результат представьте в виде таблицы, состоящей из 4 колонок."
   ]
  },
  {
   "cell_type": "code",
   "execution_count": 2,
   "metadata": {},
   "outputs": [],
   "source": [
    "# Место для решения"
   ]
  }
 ],
 "metadata": {
  "kernelspec": {
   "display_name": "Python 3",
   "language": "python",
   "name": "python3"
  },
  "language_info": {
   "codemirror_mode": {
    "name": "ipython",
    "version": 3
   },
   "file_extension": ".py",
   "mimetype": "text/x-python",
   "name": "python",
   "nbconvert_exporter": "python",
   "pygments_lexer": "ipython3",
   "version": "3.7.3"
  }
 },
 "nbformat": 4,
 "nbformat_minor": 2
}
