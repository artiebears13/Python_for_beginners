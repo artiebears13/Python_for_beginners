{
 "cells": [
  {
   "cell_type": "markdown",
   "metadata": {},
   "source": [
    "# Задача 1\n",
    "\n",
    "Прочитайте файл, сосстоящий из 1 строки. Возьмите строку из файла и постройте лесенку. Т.е., сначала 1 слово, потом первые два слова, затем первые три слова и так до конца.\n"
   ]
  },
  {
   "cell_type": "code",
   "execution_count": 2,
   "metadata": {},
   "outputs": [],
   "source": [
    "# Место для решения"
   ]
  },
  {
   "cell_type": "markdown",
   "metadata": {},
   "source": [
    "# Задача 2\n",
    "\n",
    "Сделайте конвертер из tsv формата в csv формат и запишите его."
   ]
  },
  {
   "cell_type": "code",
   "execution_count": null,
   "metadata": {},
   "outputs": [],
   "source": [
    "# Место для решения"
   ]
  },
  {
   "cell_type": "markdown",
   "metadata": {},
   "source": [
    "# Задача 3\n",
    "Задача на дозапись в файл: Создайте никнеймы пользователей, которые зарегестрированны на сервере. Напишите цикл, который будет случайно генерировать два числа через ':' иммитируя время последнего появления пользователя на сервере. На каждом шаге цикла, записывайте в файл информацию обо всех изменениях. Т.е., должна созраняться информация о всех предыдущих появлениях на сервере и дополняться информацией о новых появлениях."
   ]
  },
  {
   "cell_type": "code",
   "execution_count": null,
   "metadata": {},
   "outputs": [],
   "source": [
    "# Место для решения\n"
   ]
  },
  {
   "cell_type": "markdown",
   "metadata": {},
   "source": [
    "# Задача 4\n",
    "\n",
    "Вам даны 2 файла. Задача построить 'расческу', т.е. файл должен выглядеться следующим образом:  \n",
    "\n",
    "'первая строка первого файла'  \n",
    "                             'первая строка второго файла'  \n",
    "'вторая строка первого файла'\n"
   ]
  },
  {
   "cell_type": "code",
   "execution_count": null,
   "metadata": {},
   "outputs": [],
   "source": []
  }
 ],
 "metadata": {
  "kernelspec": {
   "display_name": "Python 3",
   "language": "python",
   "name": "python3"
  },
  "language_info": {
   "codemirror_mode": {
    "name": "ipython",
    "version": 3
   },
   "file_extension": ".py",
   "mimetype": "text/x-python",
   "name": "python",
   "nbconvert_exporter": "python",
   "pygments_lexer": "ipython3",
   "version": "3.8.5"
  }
 },
 "nbformat": 4,
 "nbformat_minor": 4
}
