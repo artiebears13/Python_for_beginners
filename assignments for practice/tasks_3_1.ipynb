{
 "cells": [
  {
   "cell_type": "markdown",
   "metadata": {},
   "source": [
    "### Задача 1\n",
    "У вас есть программа, которая обрабатывает экспериментальные данные. Однако работает ваша программа только для человека, мыши, крысы, лисы, альпаки и вомбата. Пользователь подаёт на вход название животного. Если введённое животное не поддерживается програмой-обработчиком, то необходимо попросить пользователя повторить ввод. Ввод должен продолжаться пока не будет введён организм из списка, поддерживаемых животных. После чего выведите сообщение о запуске программы.\n",
    "\n",
    "\\* Если на ввод подаётся лама, выведите сообщение \"Одумайся! Забудь про лам! Альпаки рулят!\""
   ]
  },
  {
   "cell_type": "code",
   "execution_count": 6,
   "metadata": {},
   "outputs": [],
   "source": [
    "# Место для решения"
   ]
  },
  {
   "cell_type": "markdown",
   "metadata": {},
   "source": [
    "### Задача 2\n",
    "Вам дан список чисел: 21, 4, 7, 12, 15, 10, 2, 5. Напишите программу, возвращающую новый список, содержащий значения произведения чисел на их индекс"
   ]
  },
  {
   "cell_type": "code",
   "execution_count": 13,
   "metadata": {},
   "outputs": [],
   "source": [
    "# Место для решения"
   ]
  },
  {
   "cell_type": "markdown",
   "metadata": {},
   "source": [
    "### Задача 3\n",
    "Напишите скрипт создания словаря, содержащего четные числа от 5 до 15 и их кубы"
   ]
  },
  {
   "cell_type": "code",
   "execution_count": null,
   "metadata": {},
   "outputs": [],
   "source": [
    "# Место для решения"
   ]
  },
  {
   "cell_type": "markdown",
   "metadata": {},
   "source": [
    "### Задача 4\n",
    "Напишите программу, которая вычисляет значение суммы произведений двух чисел каждого кортежа"
   ]
  },
  {
   "cell_type": "code",
   "execution_count": 29,
   "metadata": {},
   "outputs": [],
   "source": [
    "list_of_tuples = [(3, 5), (2, 10), (4, 6), (1, 2), (0, 1)]\n",
    "\n",
    "# Место для решения"
   ]
  },
  {
   "cell_type": "markdown",
   "metadata": {},
   "source": [
    "### Задача 5\n",
    "Напишите скрипт для определения простоты числа. Программа должна принимать на вход целое число и сообщать является ли оно простым или нет"
   ]
  },
  {
   "cell_type": "code",
   "execution_count": null,
   "metadata": {},
   "outputs": [],
   "source": [
    "# Место для решения"
   ]
  },
  {
   "cell_type": "markdown",
   "metadata": {},
   "source": [
    "### Задача 6\n",
    "Дан список последовательностей. Напиште программу, которая добавляет последовательность \"TGCATCG\" в начало каждой строки с нечётным индексом, и последовательность \"TTTGGGC\" в конец каждой строки с чётным индексом, включая 0"
   ]
  },
  {
   "cell_type": "code",
   "execution_count": 3,
   "metadata": {},
   "outputs": [],
   "source": [
    "some_sequences = [\n",
    "    'ATGCAGCTGACTCTGACTGCTGAT',\n",
    "    'GGATTGAGCTCGCATGGACTGCTA',\n",
    "    'TAGCTCAGCTCAGCACTGACTGCA',\n",
    "    'AGCTGCCAGCTCAGTCGCGATCGC',\n",
    "    'GCGTCCGACTGACTGACGCGCATA',\n",
    "    'CCTGACTGACGTGCACGTGCAGCT',\n",
    "    'GCGTCAGTCACTGCATCGAGTCGA',\n",
    "    'CTAGCTGCATCGACTCGATCGACT',\n",
    "    'CTGACTGCATCGACTCACTCGATC',\n",
    "    'CTCAGTCGACTCGGCTGCACGTAG',\n",
    "    'CGTCAGCTAGCTGCATGCATGCTG'\n",
    "]\n",
    "\n",
    "# Место для решения"
   ]
  },
  {
   "cell_type": "markdown",
   "metadata": {},
   "source": [
    "### Задача 7\n",
    "Напишите программу, случайным образом генерирующую 30 последовательностей нуклеотидов (A, U, G, T) длиной 30. <br/>В полученном списке последовательностей необходимо найти последовательности стоп-кодонов (UAA, UAG, UGA) и вывести последовательности, содержащие стоп-кодоны и их количество. Обратите внимание, что рамка считывания \"стартует\" с первого нуклеотида.\n",
    "\n",
    "*Подсказка: для получения случайного нуклеотида из списка можно воспользоваться методом choice из пакета random (<a href=\"https://metanit.com/python/tutorial/6.1.php\">см. подробнее</a>)*"
   ]
  },
  {
   "cell_type": "code",
   "execution_count": 27,
   "metadata": {},
   "outputs": [],
   "source": [
    "# Место для решения"
   ]
  },
  {
   "cell_type": "markdown",
   "metadata": {},
   "source": [
    "### Задача 8"
   ]
  },
  {
   "cell_type": "markdown",
   "metadata": {},
   "source": [
    "Пермешивание Фаро (faro shuffle) — это тасовка, при которой колода делится ровно пополам, а затем карты в двух половинках идеально переплетаются, так что исходная нижняя карта остается внизу, а исходная верхняя карта - вверху.\n",
    "Например, применим данный метод перемешивания к списку:"
   ]
  },
  {
   "cell_type": "code",
   "execution_count": null,
   "metadata": {},
   "outputs": [],
   "source": [
    "['туз', 'два', 'три', 'четыре', 'пять', 'шесть']"
   ]
  },
  {
   "cell_type": "markdown",
   "metadata": {},
   "source": [
    "После первой итерации список принимает следующий вид:"
   ]
  },
  {
   "cell_type": "code",
   "execution_count": null,
   "metadata": {},
   "outputs": [],
   "source": [
    "['туз', 'четыре', 'два', 'пять', 'три', 'шесть']"
   ]
  },
  {
   "cell_type": "markdown",
   "metadata": {},
   "source": [
    "Известно, что колода из 52 карт при перемешивании таким образом за 8 итераций возвращается в исходное состояние.\n",
    "\n",
    "Напишите программу, которая принимает от пользователя целое число n и возвращает целое число, представляющее количество перетасовок фаро, необходимых для восстановления исходного порядка колоды из n карт.\n",
    "Предположим, что n — чётное число от 2 до 2000.\n",
    "\n",
    "<a href=\"https://en.wikipedia.org/wiki/Faro_shuffle\">Подробнее о перемешивании фаро</a>\n",
    "\n",
    "*@DZGoldman*"
   ]
  },
  {
   "cell_type": "code",
   "execution_count": 7,
   "metadata": {},
   "outputs": [],
   "source": [
    "# Место для решения"
   ]
  },
  {
   "attachments": {},
   "cell_type": "markdown",
   "metadata": {},
   "source": [
    "### \\* Задача 9\n",
    "Напишите программу эхо-локатор для игры в морской бой. На первом этапе скрипт должен сгенерировать поле 8 на 8 и случайным образом расставить на нём кораблики. Допустим, 0 - пустые клетки, а 1 - кораблики. После этого программа должна классифицировать корабли, определить их количество и выдать пользователю.\n",
    "\n",
    "\\* может быть занято кораблями ровно 20 клеток\n"
   ]
  },
  {
   "cell_type": "code",
   "execution_count": 5,
   "metadata": {},
   "outputs": [
    {
     "data": {
      "text/plain": [
       "array([[0., 0., 0., 0., 0., 0., 0., 0.],\n",
       "       [0., 0., 0., 0., 0., 0., 0., 0.],\n",
       "       [0., 0., 0., 0., 0., 0., 0., 0.],\n",
       "       [0., 0., 0., 0., 0., 0., 0., 0.],\n",
       "       [0., 0., 0., 0., 0., 0., 0., 0.],\n",
       "       [0., 0., 0., 0., 0., 0., 0., 0.],\n",
       "       [0., 0., 0., 0., 0., 0., 0., 0.],\n",
       "       [0., 0., 0., 0., 0., 0., 0., 0.]])"
      ]
     },
     "execution_count": 5,
     "metadata": {},
     "output_type": "execute_result"
    }
   ],
   "source": [
    "import numpy as np\n",
    "a=np.zeros((8,8))\n",
    "a"
   ]
  },
  {
   "cell_type": "code",
   "execution_count": 11,
   "metadata": {},
   "outputs": [
    {
     "ename": "ValueError",
     "evalue": "too many values to unpack (expected 2)",
     "output_type": "error",
     "traceback": [
      "\u001b[1;31m---------------------------------------------------------------------------\u001b[0m",
      "\u001b[1;31mValueError\u001b[0m                                Traceback (most recent call last)",
      "\u001b[1;32m<ipython-input-11-47be0ebbb5f1>\u001b[0m in \u001b[0;36m<module>\u001b[1;34m\u001b[0m\n\u001b[1;32m----> 1\u001b[1;33m \u001b[1;32mfor\u001b[0m \u001b[0mi\u001b[0m\u001b[1;33m,\u001b[0m\u001b[0mj\u001b[0m \u001b[1;32min\u001b[0m \u001b[0mrange\u001b[0m\u001b[1;33m(\u001b[0m\u001b[1;36m5\u001b[0m\u001b[1;33m)\u001b[0m\u001b[1;33m,\u001b[0m\u001b[0mrange\u001b[0m\u001b[1;33m(\u001b[0m\u001b[1;36m5\u001b[0m\u001b[1;33m)\u001b[0m\u001b[1;33m:\u001b[0m\u001b[1;33m\u001b[0m\u001b[1;33m\u001b[0m\u001b[0m\n\u001b[0m\u001b[0;32m      2\u001b[0m     \u001b[0mprint\u001b[0m\u001b[1;33m(\u001b[0m\u001b[0mi\u001b[0m\u001b[1;33m,\u001b[0m\u001b[0mj\u001b[0m\u001b[1;33m)\u001b[0m\u001b[1;33m\u001b[0m\u001b[1;33m\u001b[0m\u001b[0m\n",
      "\u001b[1;31mValueError\u001b[0m: too many values to unpack (expected 2)"
     ]
    }
   ],
   "source": [
    "for i,j in range(5),range(5):\n",
    "    print(i,j)"
   ]
  },
  {
   "cell_type": "code",
   "execution_count": null,
   "metadata": {},
   "outputs": [],
   "source": []
  }
 ],
 "metadata": {
  "kernelspec": {
   "display_name": "Python 3",
   "language": "python",
   "name": "python3"
  },
  "language_info": {
   "codemirror_mode": {
    "name": "ipython",
    "version": 3
   },
   "file_extension": ".py",
   "mimetype": "text/x-python",
   "name": "python",
   "nbconvert_exporter": "python",
   "pygments_lexer": "ipython3",
   "version": "3.8.5"
  }
 },
 "nbformat": 4,
 "nbformat_minor": 4
}
