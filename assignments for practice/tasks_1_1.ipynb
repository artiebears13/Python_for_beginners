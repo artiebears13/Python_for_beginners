{
 "cells": [
  {
   "cell_type": "markdown",
   "metadata": {},
   "source": [
    "# Задачи для лекций по темам числа, логические типы данных, переменные и логические конструкции"
   ]
  },
  {
   "cell_type": "markdown",
   "metadata": {},
   "source": [
    "## Задача 1.1\n",
    "\n",
    "Обозначьте порядок вычисления выражения по операциям:\n",
    "11 * 2 ** 2 – 13 / 4 + 7.\n",
    "\n",
    "Какой будет ответ?\n",
    "Какое целое число получается?\n"
   ]
  },
  {
   "cell_type": "code",
   "execution_count": 1,
   "metadata": {},
   "outputs": [],
   "source": [
    "# Поле для решения задачи"
   ]
  },
  {
   "cell_type": "markdown",
   "metadata": {},
   "source": [
    "## Задача 1.2\n",
    "\n",
    "Используя стандартные арифметические операции получите наибольшее число в результате комбинации цифр 4, 6 3"
   ]
  },
  {
   "cell_type": "code",
   "execution_count": 2,
   "metadata": {},
   "outputs": [],
   "source": [
    "# Поле для решения задачи"
   ]
  },
  {
   "cell_type": "markdown",
   "metadata": {},
   "source": [
    "## Задача 1.3\n",
    "\n",
    "Решить пример:  \n",
    "\n",
    "37052.28 : 76 − 49.03"
   ]
  },
  {
   "cell_type": "code",
   "execution_count": 3,
   "metadata": {},
   "outputs": [],
   "source": [
    "# Поле для решения задачи"
   ]
  },
  {
   "cell_type": "markdown",
   "metadata": {},
   "source": [
    "## Задача 1.4\n",
    "\n",
    "запишите число Эйлера (2.718281828459045) в экспоненциальной форме "
   ]
  },
  {
   "cell_type": "code",
   "execution_count": 4,
   "metadata": {},
   "outputs": [],
   "source": [
    "# Поле для решения задачи"
   ]
  },
  {
   "cell_type": "markdown",
   "metadata": {},
   "source": [
    "## Задача 1.5\n",
    "\n",
    "Запишите число 3141592e-6 в виде десятичной дроби и проверьте равны ли они"
   ]
  },
  {
   "cell_type": "code",
   "execution_count": 5,
   "metadata": {},
   "outputs": [],
   "source": [
    "# Поле для решения задачи"
   ]
  },
  {
   "cell_type": "markdown",
   "metadata": {},
   "source": [
    "## Задача 1.6\n",
    "\n",
    "Решите пример: 6 ** 34 - int(float(6 ** 34)). Какой получили ответ и какой ответ должен был получиться?"
   ]
  },
  {
   "cell_type": "code",
   "execution_count": 17,
   "metadata": {},
   "outputs": [],
   "source": [
    "# Поле для решения задачи"
   ]
  },
  {
   "cell_type": "markdown",
   "metadata": {},
   "source": [
    "## Задача 1.7\n",
    "\n",
    "Решите пример: 0.1 + 0.2. Проверьте, равен ли результат 0.3"
   ]
  },
  {
   "cell_type": "code",
   "execution_count": 7,
   "metadata": {},
   "outputs": [],
   "source": [
    "# Поле для решения задачи"
   ]
  },
  {
   "cell_type": "markdown",
   "metadata": {},
   "source": [
    "## Задача 1.8\n",
    "\n",
    "Решить логарифмическое уравнение: \n",
    "log5(5 - x) = 2 log5(3)"
   ]
  },
  {
   "cell_type": "code",
   "execution_count": 8,
   "metadata": {},
   "outputs": [],
   "source": [
    "# Поле для решения задачи"
   ]
  },
  {
   "cell_type": "markdown",
   "metadata": {},
   "source": [
    "## Задача 1.9\n",
    "\n",
    "Найти объем конуса с pi = 3,14 и pi из библиотеки math, и сравнить результаты. R = 10, h = 8"
   ]
  },
  {
   "cell_type": "code",
   "execution_count": 9,
   "metadata": {},
   "outputs": [],
   "source": [
    "# Поле для решения задачи"
   ]
  },
  {
   "cell_type": "markdown",
   "metadata": {},
   "source": [
    "## Задача 1.10  \n",
    "Дано 2 скрипта. Запустите оба, в каком возникает ошибка? Объясните почему\n",
    "\n",
    "Скрипт 1.  \n",
    "a = None  \n",
    "if len(a) > 0 and a is not None:  \n",
    "<p style=\"margin-left: 20px\">print('Это не None')</p>\n",
    "\n",
    "Скрипт 2.  \n",
    "a = None  \n",
    "if a is not None and len(a) > 0:  \n",
    "<p style=\"margin-left: 20px\">print('Это не None')</p>"
   ]
  },
  {
   "cell_type": "code",
   "execution_count": 10,
   "metadata": {},
   "outputs": [],
   "source": [
    "# Поле для решения задачи"
   ]
  },
  {
   "cell_type": "markdown",
   "metadata": {},
   "source": [
    "## Задача 1.11\n",
    "\n",
    "Написать программу, проверяющую выполнение условия для введённого пользователем числа.  \n",
    "Условия:  \n",
    "(-∞, -10] U [-5, 5] U (2, +∞)"
   ]
  },
  {
   "cell_type": "code",
   "execution_count": 11,
   "metadata": {},
   "outputs": [],
   "source": [
    "# Поле для решения задачи"
   ]
  },
  {
   "cell_type": "markdown",
   "metadata": {},
   "source": [
    "## Задача 1.12 \\*\n",
    "\n",
    "Напишите программу, которая будет принимать аргументы и реализовывать алгоритм угадывания даты рождения и возраста: http://www.scanword.net/focus/124.htm"
   ]
  },
  {
   "cell_type": "code",
   "execution_count": 12,
   "metadata": {},
   "outputs": [],
   "source": [
    "# Поле для решения задачи"
   ]
  },
  {
   "cell_type": "markdown",
   "metadata": {},
   "source": [
    "## Задача 1.13 \\*\n",
    "\n",
    "Напишите программу для определения какой пиццы больше: двух средних или одной большей или они равны (пользователь сам задаёт диаметр каждого типа пиццы)\n"
   ]
  },
  {
   "cell_type": "code",
   "execution_count": 13,
   "metadata": {},
   "outputs": [],
   "source": [
    "# Поле для решения задачи"
   ]
  }
 ],
 "metadata": {
  "kernelspec": {
   "display_name": "Python 3",
   "language": "python",
   "name": "python3"
  },
  "language_info": {
   "codemirror_mode": {
    "name": "ipython",
    "version": 3
   },
   "file_extension": ".py",
   "mimetype": "text/x-python",
   "name": "python",
   "nbconvert_exporter": "python",
   "pygments_lexer": "ipython3",
   "version": "3.8.5"
  }
 },
 "nbformat": 4,
 "nbformat_minor": 4
}
