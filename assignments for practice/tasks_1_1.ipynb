{
 "cells": [
  {
   "cell_type": "markdown",
   "metadata": {},
   "source": [
    "# Задачи для лекций по темам числа, логические типы данных, переменные и логические конструкции"
   ]
  },
  {
   "cell_type": "markdown",
   "metadata": {},
   "source": [
    "## Задача 1.1\n",
    "\n",
    "Обозначьте порядок вычисления выражения по операциям:\n",
    "11 * 2 ** 2 – 13 / 4 + 7.\n",
    "\n",
    "Какой будет ответ?\n",
    "Какое целое число получается?\n"
   ]
  },
  {
   "cell_type": "code",
   "execution_count": 3,
   "metadata": {},
   "outputs": [
    {
     "data": {
      "text/plain": [
       "47"
      ]
     },
     "execution_count": 3,
     "metadata": {},
     "output_type": "execute_result"
    }
   ],
   "source": [
    "a=2**2\n",
    "a=11*a\n",
    "b=13/4\n",
    "c=a-b\n",
    "c=c+7\n",
    "int(c)"
   ]
  },
  {
   "cell_type": "markdown",
   "metadata": {},
   "source": [
    "## Задача 1.2\n",
    "\n",
    "Используя стандартные арифметические операции получите наибольшее число в результате комбинации цифр 4, 6 3"
   ]
  },
  {
   "cell_type": "code",
   "execution_count": 28,
   "metadata": {},
   "outputs": [
    {
     "data": {
      "text/plain": [
       "1.109067877648326e+130"
      ]
     },
     "execution_count": 28,
     "metadata": {},
     "output_type": "execute_result"
    }
   ],
   "source": [
    "a=np.zeros(3)\n",
    "a[0]=4\n",
    "a[1]=6\n",
    "a[2]=3\n",
    "a1=a[0]**a[1]**a[2]\n",
    "a2=a[1]**a[0]**a[2]\n",
    "list=[a1,a2]\n",
    "np.max(list)\n",
    "\n",
    "            \n"
   ]
  },
  {
   "cell_type": "markdown",
   "metadata": {},
   "source": [
    "## Задача 1.3\n",
    "\n",
    "Решить пример:  \n",
    "\n",
    "37052.28 : 76 − 49.03"
   ]
  },
  {
   "cell_type": "code",
   "execution_count": 4,
   "metadata": {},
   "outputs": [
    {
     "data": {
      "text/plain": [
       "438.5"
      ]
     },
     "execution_count": 4,
     "metadata": {},
     "output_type": "execute_result"
    }
   ],
   "source": [
    "37052.28/76-49.03"
   ]
  },
  {
   "cell_type": "markdown",
   "metadata": {},
   "source": [
    "## Задача 1.4\n",
    "\n",
    "запишите число Эйлера (2.718281828459045) в экспоненциальной форме "
   ]
  },
  {
   "cell_type": "code",
   "execution_count": 6,
   "metadata": {},
   "outputs": [
    {
     "data": {
      "text/plain": [
       "2.718281828459045"
      ]
     },
     "execution_count": 6,
     "metadata": {},
     "output_type": "execute_result"
    }
   ],
   "source": [
    "import numpy as np\n",
    "np.exp(1)"
   ]
  },
  {
   "cell_type": "markdown",
   "metadata": {},
   "source": [
    "## Задача 1.5\n",
    "\n",
    "Запишите число 3141592e-6 в виде десятичной дроби и проверьте равны ли они"
   ]
  },
  {
   "cell_type": "code",
   "execution_count": 7,
   "metadata": {},
   "outputs": [
    {
     "name": "stdout",
     "output_type": "stream",
     "text": [
      "3.1415919999999997\n",
      "pi:  3.141592653589793\n"
     ]
    }
   ],
   "source": [
    "print(3141592*(10**-6))\n",
    "print('pi: ', np.pi)"
   ]
  },
  {
   "cell_type": "markdown",
   "metadata": {},
   "source": [
    "## Задача 1.6\n",
    "\n",
    "Решите пример: 6 ** 34 - int(float(6 ** 34)). Какой получили ответ и какой ответ должен был получиться?"
   ]
  },
  {
   "cell_type": "code",
   "execution_count": 29,
   "metadata": {},
   "outputs": [
    {
     "name": "stdout",
     "output_type": "stream",
     "text": [
      "17179869184\n",
      "а должно было быть 0\n"
     ]
    }
   ],
   "source": [
    "print(6**34-int(float(6**34)))\n",
    "print('а должно было быть 0')"
   ]
  },
  {
   "cell_type": "markdown",
   "metadata": {},
   "source": [
    "## Задача 1.7\n",
    "\n",
    "Решите пример: 0.1 + 0.2. Проверьте, равен ли результат 0.3"
   ]
  },
  {
   "cell_type": "code",
   "execution_count": 31,
   "metadata": {},
   "outputs": [
    {
     "name": "stdout",
     "output_type": "stream",
     "text": [
      "0.30000000000000004\n",
      "должно было быть 0.3\n"
     ]
    }
   ],
   "source": [
    "print(0.1+0.2)\n",
    "print('должно было быть 0.3')"
   ]
  },
  {
   "cell_type": "markdown",
   "metadata": {},
   "source": [
    "## Задача 1.8\n",
    "\n",
    "Решить логарифмическое уравнение: \n",
    "log5(5 - x) = 2 log5(3)"
   ]
  },
  {
   "cell_type": "code",
   "execution_count": 50,
   "metadata": {},
   "outputs": [
    {
     "name": "stdout",
     "output_type": "stream",
     "text": [
      "-4\n",
      "[-4]\n"
     ]
    }
   ],
   "source": [
    "print(-3**2+5)\n",
    "import numpy as np\n",
    "\n",
    "import math as m\n",
    "import sympy as sp\n",
    "from sympy.solvers import solve\n",
    "from sympy import Symbol\n",
    "x = Symbol('x')\n",
    "x=solve(sp.log(5-x,5)-2*sp.log(3,5), x)\n",
    "\n",
    "print(x)"
   ]
  },
  {
   "cell_type": "code",
   "execution_count": null,
   "metadata": {},
   "outputs": [],
   "source": []
  },
  {
   "cell_type": "markdown",
   "metadata": {},
   "source": [
    "## Задача 1.9\n",
    "\n",
    "Найти объем конуса с pi = 3,14 и pi из библиотеки math, и сравнить результаты. R = 10, h = 8"
   ]
  },
  {
   "cell_type": "code",
   "execution_count": 59,
   "metadata": {},
   "outputs": [
    {
     "data": {
      "text/plain": [
       "False"
      ]
     },
     "execution_count": 59,
     "metadata": {},
     "output_type": "execute_result"
    }
   ],
   "source": [
    "import math as m\n",
    "R = 10\n",
    "h = 8\n",
    "s1 = ((m.pi*R**2*h)/3)\n",
    "s2 = ((3.14*R**2*h)/3)\n",
    "s1 == s2"
   ]
  },
  {
   "cell_type": "markdown",
   "metadata": {},
   "source": [
    "## Задача 1.10  \n",
    "Дано 2 скрипта. Запустите оба, в каком возникает ошибка? Объясните почему\n",
    "\n",
    "Скрипт 1.  \n",
    "a = None  \n",
    "if len(a) > 0 and a is not None:  \n",
    "<p style=\"margin-left: 20px\">print('Это не None')</p>\n",
    "\n",
    "Скрипт 2.  \n",
    "a = None  \n",
    "if a is not None and len(a) > 0:  \n",
    "<p style=\"margin-left: 20px\">print('Это не None')</p>"
   ]
  },
  {
   "cell_type": "code",
   "execution_count": 53,
   "metadata": {},
   "outputs": [
    {
     "ename": "TypeError",
     "evalue": "object of type 'NoneType' has no len()",
     "output_type": "error",
     "traceback": [
      "\u001b[1;31m---------------------------------------------------------------------------\u001b[0m",
      "\u001b[1;31mTypeError\u001b[0m                                 Traceback (most recent call last)",
      "\u001b[1;32m<ipython-input-53-ef134b5236f2>\u001b[0m in \u001b[0;36m<module>\u001b[1;34m\u001b[0m\n\u001b[0;32m      1\u001b[0m \u001b[0ma\u001b[0m \u001b[1;33m=\u001b[0m \u001b[1;32mNone\u001b[0m\u001b[1;33m\u001b[0m\u001b[1;33m\u001b[0m\u001b[0m\n\u001b[1;32m----> 2\u001b[1;33m \u001b[1;32mif\u001b[0m \u001b[0mlen\u001b[0m\u001b[1;33m(\u001b[0m\u001b[0ma\u001b[0m\u001b[1;33m)\u001b[0m \u001b[1;33m>\u001b[0m \u001b[1;36m0\u001b[0m \u001b[1;32mand\u001b[0m \u001b[0ma\u001b[0m \u001b[1;32mis\u001b[0m \u001b[1;32mnot\u001b[0m \u001b[1;32mNone\u001b[0m\u001b[1;33m:\u001b[0m\u001b[1;33m\u001b[0m\u001b[1;33m\u001b[0m\u001b[0m\n\u001b[0m\u001b[0;32m      3\u001b[0m     \u001b[0mprint\u001b[0m\u001b[1;33m(\u001b[0m\u001b[1;34m'Это не None'\u001b[0m\u001b[1;33m)\u001b[0m\u001b[1;33m\u001b[0m\u001b[1;33m\u001b[0m\u001b[0m\n",
      "\u001b[1;31mTypeError\u001b[0m: object of type 'NoneType' has no len()"
     ]
    }
   ],
   "source": [
    "a = None  \n",
    "if len(a) > 0 and a is not None:  \n",
    "    print('Это не None')"
   ]
  },
  {
   "cell_type": "code",
   "execution_count": 55,
   "metadata": {},
   "outputs": [],
   "source": [
    "a = None\n",
    "if a is not None and len(a) > 0:\n",
    "\n",
    "    print('Это не None')"
   ]
  },
  {
   "cell_type": "markdown",
   "metadata": {},
   "source": [
    "он идет последовательно во втором случае до проверки длины не дошло, тк а не none и после and второе условие можно уже не проверять, а в первом случае сначала не смогли проверить длину и вышла ошибка"
   ]
  },
  {
   "cell_type": "markdown",
   "metadata": {},
   "source": [
    "## Задача 1.11\n",
    "\n",
    "Написать программу, проверяющую выполнение условия для введённого пользователем числа.  \n",
    "Условия:  \n",
    "(-∞, -10] U [-5, 5] U (2, +∞)"
   ]
  },
  {
   "cell_type": "code",
   "execution_count": 63,
   "metadata": {},
   "outputs": [
    {
     "name": "stdout",
     "output_type": "stream",
     "text": [
      "-6\n",
      "Число НЕ удовлетворяет условию\n"
     ]
    }
   ],
   "source": [
    "a=float(input())\n",
    "if a<=-10 or (-5<=a<=5) or a>=2:\n",
    "    print('Число удовлетворяет условию')\n",
    "else:\n",
    "    print('Число НЕ удовлетворяет условию')"
   ]
  },
  {
   "cell_type": "markdown",
   "metadata": {},
   "source": [
    "## Задача 1.12 \\*\n",
    "\n",
    "Напишите программу, которая будет принимать аргументы и реализовывать алгоритм угадывания даты рождения и возраста: http://www.scanword.net/focus/124.htm"
   ]
  },
  {
   "cell_type": "code",
   "execution_count": 67,
   "metadata": {},
   "outputs": [
    {
     "name": "stdout",
     "output_type": "stream",
     "text": [
      "day4\n",
      "month5\n",
      "655\n"
     ]
    }
   ],
   "source": [
    "day=int(input('day'))\n",
    "day=day*2\n",
    "day=day+5\n",
    "day=day*50\n",
    "month=int(input('month'))\n",
    "day=day+month\n",
    "print(day)"
   ]
  },
  {
   "cell_type": "code",
   "execution_count": 68,
   "metadata": {},
   "outputs": [
    {
     "name": "stdout",
     "output_type": "stream",
     "text": [
      "655\n",
      "месяц:  5\n",
      "день:  4\n"
     ]
    }
   ],
   "source": [
    "\n",
    "num = int(input())\n",
    "num = num - 250\n",
    "print('месяц: ', num%100)\n",
    "print('день: ', num//100)"
   ]
  },
  {
   "cell_type": "markdown",
   "metadata": {},
   "source": [
    "## Задача 1.13 \\*\n",
    "\n",
    "Напишите программу для определения какой пиццы больше: двух средних или одной большей или они равны (пользователь сам задаёт диаметр каждого типа пиццы)\n"
   ]
  },
  {
   "cell_type": "code",
   "execution_count": 69,
   "metadata": {},
   "outputs": [
    {
     "name": "stdout",
     "output_type": "stream",
     "text": [
      "диаметр средней пиццы: 35\n",
      "диаметр большой пиццы: 40\n",
      "площадь двух средних:  1924.2255003237483\n",
      "площадь одной большой:  1256.6370614359173\n",
      "две средние больше\n"
     ]
    }
   ],
   "source": [
    "d1 = int(input('диаметр средней пиццы: '))\n",
    "d2 = int(input('диаметр большой пиццы: '))\n",
    "s1=m.pi*(d1/2)**2*2\n",
    "s2=m.pi*(d2/2)**2*1\n",
    "print('площадь двух средних: ',s1)\n",
    "print('площадь одной большой: ',s2)\n",
    "if s1>s2:\n",
    "    print('две средние больше')\n",
    "else:\n",
    "    print('большая больше')"
   ]
  },
  {
   "cell_type": "code",
   "execution_count": null,
   "metadata": {},
   "outputs": [],
   "source": []
  }
 ],
 "metadata": {
  "kernelspec": {
   "display_name": "Python 3",
   "language": "python",
   "name": "python3"
  },
  "language_info": {
   "codemirror_mode": {
    "name": "ipython",
    "version": 3
   },
   "file_extension": ".py",
   "mimetype": "text/x-python",
   "name": "python",
   "nbconvert_exporter": "python",
   "pygments_lexer": "ipython3",
   "version": "3.8.5"
  }
 },
 "nbformat": 4,
 "nbformat_minor": 4
}
