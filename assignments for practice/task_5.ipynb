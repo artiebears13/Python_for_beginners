{
 "cells": [
  {
   "cell_type": "markdown",
   "metadata": {},
   "source": [
    "# Задача 1\n",
    "\n",
    "Создайте DataFrame который будет содержать 3 столбцов и 4 строки. Название строк и стоблцов должны быть заданы, а не получены автогенерацией самого Pandas. DataFrame должен содержать числа"
   ]
  },
  {
   "cell_type": "code",
   "execution_count": 80,
   "metadata": {},
   "outputs": [],
   "source": [
    "# Место для решения"
   ]
  },
  {
   "cell_type": "markdown",
   "metadata": {},
   "source": [
    "# Задача 2\n",
    "\n",
    "- Получите данные из второго и 4 столбцов. Получите сумму значений для каждого стоблца и сложите их\n",
    "- Получите сумму всех столбцов в DataFrame"
   ]
  },
  {
   "cell_type": "code",
   "execution_count": 29,
   "metadata": {},
   "outputs": [],
   "source": [
    "# Место для решения"
   ]
  },
  {
   "cell_type": "markdown",
   "metadata": {},
   "source": [
    "# Задача 3\n",
    "\n",
    "Откройте таблицу vac_bsg.txt и отсортируйте ее по вакцине hepb3 и какой-то стране которая вам интересна. (Если возникнут проблемы с кодировкой используйте аргумент encoding='cp1252')."
   ]
  },
  {
   "cell_type": "code",
   "execution_count": 79,
   "metadata": {},
   "outputs": [],
   "source": [
    "# Место для решения\n"
   ]
  },
  {
   "cell_type": "markdown",
   "metadata": {},
   "source": [
    "# Задача 4\n",
    "\n",
    "- Замените буквы в столбце ISOCountryCode на верхний регистр\n",
    "- Удалите столбец Comment\n",
    "- Создайте столбец в котром будет содержаться информация о разнице между ChildrenInTarget и ChildrenVaccinated"
   ]
  },
  {
   "cell_type": "code",
   "execution_count": 71,
   "metadata": {},
   "outputs": [],
   "source": [
    "# Место для решения"
   ]
  },
  {
   "cell_type": "markdown",
   "metadata": {},
   "source": [
    "# Задача 5\n",
    "\n",
    "- Сгруппируйте данные по году и количеству вакцинированных детей. Какую статистику удалось получить?\n",
    "- Проверьте, есть ли в вашей таблице пустые значения\n",
    "- Если пустые значения есть, то удалите только те строки, в которых они есть"
   ]
  },
  {
   "cell_type": "code",
   "execution_count": 78,
   "metadata": {},
   "outputs": [],
   "source": [
    "# Место для решения\n"
   ]
  },
  {
   "cell_type": "markdown",
   "metadata": {},
   "source": [
    "# Задача 6\n",
    "\n",
    "- Переименуйте названия страны в столбце Country, на Country_modifyed\n",
    "- Добавьте вашу таблицу к исходной таблице и сохраните ее в новую таблицу с расширением tsv"
   ]
  },
  {
   "cell_type": "code",
   "execution_count": null,
   "metadata": {},
   "outputs": [],
   "source": [
    "# Место для решения"
   ]
  }
 ],
 "metadata": {
  "kernelspec": {
   "display_name": "Python 3",
   "language": "python",
   "name": "python3"
  },
  "language_info": {
   "codemirror_mode": {
    "name": "ipython",
    "version": 3
   },
   "file_extension": ".py",
   "mimetype": "text/x-python",
   "name": "python",
   "nbconvert_exporter": "python",
   "pygments_lexer": "ipython3",
   "version": "3.8.5"
  }
 },
 "nbformat": 4,
 "nbformat_minor": 4
}
