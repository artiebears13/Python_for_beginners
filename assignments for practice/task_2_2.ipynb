{
 "cells": [
  {
   "cell_type": "markdown",
   "metadata": {},
   "source": [
    "# Задача 1\n",
    "Код принимает какой-то список. Необходимо преобразовать это список в словарь таким образом, чтобы для каждого элемента списка ключом и значением был этот элемент"
   ]
  },
  {
   "cell_type": "code",
   "execution_count": 2,
   "metadata": {},
   "outputs": [
    {
     "name": "stdout",
     "output_type": "stream",
     "text": [
      "abdcf\n"
     ]
    },
    {
     "data": {
      "text/plain": [
       "{'a': 'a', 'b': 'b', 'd': 'd', 'c': 'c', 'f': 'f'}"
      ]
     },
     "execution_count": 2,
     "metadata": {},
     "output_type": "execute_result"
    }
   ],
   "source": [
    "a=tuple(input())\n",
    "dict={i:i for i in a}\n",
    "dict\n"
   ]
  },
  {
   "cell_type": "markdown",
   "metadata": {},
   "source": [
    "# Задача 2\n",
    "Дана последовательность ATTTCATTTAGGGGGCCGCAATATCGGCGATCATGCAT. Записать в словарь общую длину последовательности и количество каждого нуклеотида в ней."
   ]
  },
  {
   "cell_type": "code",
   "execution_count": 6,
   "metadata": {},
   "outputs": [
    {
     "data": {
      "text/plain": [
       "{'A': 9, 'C': 8, 'G': 10, 'T': 11, 'lenght': 38}"
      ]
     },
     "execution_count": 6,
     "metadata": {},
     "output_type": "execute_result"
    }
   ],
   "source": [
    "import numpy as np\n",
    "a=tuple('ATTTCATTTAGGGGGCCGCAATATCGGCGATCATGCAT')\n",
    "dict=dict.fromkeys(np.unique(a),0)\n",
    "dict['lenght']=len(a)\n",
    "for i in a:\n",
    "    dict[i]=dict[i]+1\n",
    "dict\n"
   ]
  },
  {
   "cell_type": "markdown",
   "metadata": {},
   "source": [
    "# Задача 3\n",
    "\n",
    "Создайте словарь генетического кода. Объясните, какой вариант вы выбрали и почему?"
   ]
  },
  {
   "cell_type": "code",
   "execution_count": null,
   "metadata": {},
   "outputs": [],
   "source": [
    "# Решение задача"
   ]
  }
 ],
 "metadata": {
  "kernelspec": {
   "display_name": "Python 3",
   "language": "python",
   "name": "python3"
  },
  "language_info": {
   "codemirror_mode": {
    "name": "ipython",
    "version": 3
   },
   "file_extension": ".py",
   "mimetype": "text/x-python",
   "name": "python",
   "nbconvert_exporter": "python",
   "pygments_lexer": "ipython3",
   "version": "3.8.5"
  }
 },
 "nbformat": 4,
 "nbformat_minor": 4
}
