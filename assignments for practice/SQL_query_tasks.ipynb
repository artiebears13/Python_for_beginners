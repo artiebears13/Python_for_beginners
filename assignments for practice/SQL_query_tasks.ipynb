{
 "cells": [
  {
   "cell_type": "markdown",
   "metadata": {},
   "source": [
    "### Задача 1\n",
    "Выведите список видов (specie), описываемых в таблице chip_experiments "
   ]
  },
  {
   "cell_type": "code",
   "execution_count": null,
   "metadata": {},
   "outputs": [],
   "source": [
    "# Место для ответа"
   ]
  },
  {
   "cell_type": "markdown",
   "metadata": {},
   "source": [
    "### Задача 2\n",
    "Выведите колонки: id, treatment и cell_id первых 10 записей из таблицы dnase_experiments, упорядоченные по cell_id по убыванию."
   ]
  },
  {
   "cell_type": "code",
   "execution_count": null,
   "metadata": {},
   "outputs": [],
   "source": [
    "# Место для ответа"
   ]
  },
  {
   "cell_type": "markdown",
   "metadata": {},
   "source": [
    "### Задача 3\n",
    "Выведите 10 записей из таблицы cells, в которых title содержит слово \"cancer\". Ограничьте вывод только колонками id и title. Какой минимальный и максимальный идентификатор имеют эти записи (не ограничиваясь 10)?"
   ]
  },
  {
   "cell_type": "code",
   "execution_count": null,
   "metadata": {},
   "outputs": [],
   "source": [
    "# Место для ответа"
   ]
  },
  {
   "cell_type": "markdown",
   "metadata": {},
   "source": [
    "### Задача 4\n",
    "Сколько записей с значением поля specie равного либо 'Homo sapiens' либо 'Drosophila melanogaster' присутствует в таблице chip_experiments?"
   ]
  },
  {
   "cell_type": "code",
   "execution_count": null,
   "metadata": {},
   "outputs": [],
   "source": [
    "# Место для ответа"
   ]
  },
  {
   "cell_type": "markdown",
   "metadata": {},
   "source": [
    "### Задача 5\n",
    "Сгруппируйте записи таблицы chip_experiments по идентификатору транскрипционного фактора (tf_uniprot_db). Выведите на экран транскрипционные факторы и количество экспериментов, соответствующее им. Выведите на экран только ту часть таблицы, содержащую транскрипционные факторы, описанные в более чем 50 экспериментах"
   ]
  },
  {
   "cell_type": "code",
   "execution_count": null,
   "metadata": {},
   "outputs": [],
   "source": [
    "# Место для ответа"
   ]
  },
  {
   "cell_type": "markdown",
   "metadata": {},
   "source": [
    "### Задача 6\n",
    "Получите список идентификаторов клеточных типов (из таблицы cells), которые не встречаются в таблице chip_experiments. Сколько таких клеточных типов?"
   ]
  },
  {
   "cell_type": "code",
   "execution_count": null,
   "metadata": {},
   "outputs": [],
   "source": [
    "# Место для ответа"
   ]
  },
  {
   "cell_type": "markdown",
   "metadata": {},
   "source": [
    "### Задача 7\n",
    "Какое количество транскрипционных факторов описывается экспериментами из chip_experiments для клеточных типов: 514, 113, 546 и 27. Следует исключить эксперименты, относящиеся к контролю, т. е. эксперименты, содержащие в experiment_type слово control."
   ]
  },
  {
   "cell_type": "code",
   "execution_count": null,
   "metadata": {},
   "outputs": [],
   "source": [
    "# Место для ответа"
   ]
  },
  {
   "cell_type": "markdown",
   "metadata": {},
   "source": [
    "### Задача 8\n",
    "Получите список названий генов (gene_name) для всех экспериментов, содержащихся в таблице chip_experiments"
   ]
  },
  {
   "cell_type": "code",
   "execution_count": null,
   "metadata": {},
   "outputs": [],
   "source": [
    "# Место для ответа"
   ]
  },
  {
   "cell_type": "markdown",
   "metadata": {},
   "source": [
    "### Задача 9\n",
    "Необходимо получить таблицу, в которой для каждого эксперимента приводится описание клеточного типа и транскрипионного фактора. Для этого напишите запрос, выводящий 5 строк вида chip_experiments.id, chip_experiments.cell_id, cells.title, chip_experiments.tf_uniprot_id, uniprot.gene_name."
   ]
  },
  {
   "cell_type": "code",
   "execution_count": null,
   "metadata": {},
   "outputs": [],
   "source": [
    "# Место для ответа"
   ]
  },
  {
   "cell_type": "markdown",
   "metadata": {},
   "source": [
    "### Задача 10\n",
    "Выведите все строки из таблицы cells, содержащие в title слово \"embryo\"; добавьте префикс \"EMBRYO:\" в названия всех клеточных типов.\n",
    "\n",
    "Для решения данной задачи пригодится функция CONCAT(string1, string2, ...) либо конструкция вида string1 || string2, возвращающие сконкатенированную строку"
   ]
  },
  {
   "cell_type": "code",
   "execution_count": null,
   "metadata": {},
   "outputs": [],
   "source": [
    "# Место для ответа"
   ]
  }
 ],
 "metadata": {
  "kernelspec": {
   "display_name": "Python 3 (ipykernel)",
   "language": "python",
   "name": "python3"
  },
  "language_info": {
   "codemirror_mode": {
    "name": "ipython",
    "version": 3
   },
   "file_extension": ".py",
   "mimetype": "text/x-python",
   "name": "python",
   "nbconvert_exporter": "python",
   "pygments_lexer": "ipython3",
   "version": "3.9.2"
  }
 },
 "nbformat": 4,
 "nbformat_minor": 2
}
