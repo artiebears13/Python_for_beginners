{
 "cells": [
  {
   "cell_type": "markdown",
   "metadata": {},
   "source": [
    "# Задача 1"
   ]
  },
  {
   "cell_type": "markdown",
   "metadata": {},
   "source": [
    "# Поле для решения\n",
    "\n",
    "Представьте список в обратном порядке\n",
    "\n",
    "[2,4,'string', 'another_string', 3.29, 22]"
   ]
  },
  {
   "cell_type": "code",
   "execution_count": 5,
   "metadata": {},
   "outputs": [
    {
     "data": {
      "text/plain": [
       "[22, 3.29, 'another_string', 'string', 4, 2]"
      ]
     },
     "execution_count": 5,
     "metadata": {},
     "output_type": "execute_result"
    }
   ],
   "source": [
    "list=[2,4,'string', 'another_string', 3.29, 22]\n",
    "list2=[]\n",
    "for i in range(len(list)-1,-1,-1):\n",
    "    list2.append(list[i])\n",
    "list2"
   ]
  },
  {
   "cell_type": "markdown",
   "metadata": {},
   "source": [
    "# Задача 2\n",
    "\n",
    "Дан список ['A', 'T', 'G', 'C', 'T', 'G', 'C', 'A', 'T', 'G', 'G', 'G', 'C', 'A', 'G', 'C', 'T', 'T', 'T', 'T', 'A', 'G', 'C', 'G', 'A']\n",
    ". Замените в нем 1 символ на последний, а последний на первый"
   ]
  },
  {
   "cell_type": "code",
   "execution_count": 10,
   "metadata": {},
   "outputs": [
    {
     "name": "stdout",
     "output_type": "stream",
     "text": [
      "['F', 'T', 'G', 'C', 'T', 'G', 'C', 'A', 'T', 'G', 'G', 'G', 'C', 'A', 'G', 'C', 'T', 'T', 'T', 'T', 'A', 'G', 'C', 'G', 'A']\n"
     ]
    }
   ],
   "source": [
    "list= ['A', 'T', 'G', 'C', 'T', 'G', 'C', 'A', 'T', 'G', 'G', \n",
    "       'G', 'C', 'A', 'G', 'C', 'T', 'T', 'T', 'T', 'A', 'G', 'C', 'G', 'F']\n",
    "list[0],list[-1]=list[-1],list[0]\n",
    "print(list)"
   ]
  },
  {
   "cell_type": "markdown",
   "metadata": {},
   "source": [
    "# Задача 3\n",
    "\n",
    "Примите от пользователя 4 строки. Если длина строки больше 5 символов, поместите ее в список1, а если меньше то в список2. Выведите в конце оба списка"
   ]
  },
  {
   "cell_type": "code",
   "execution_count": 9,
   "metadata": {},
   "outputs": [
    {
     "name": "stdout",
     "output_type": "stream",
     "text": [
      "строка 1:аа\n",
      "строка 2:бббббб\n",
      "строка 3:вввввввввввв\n",
      "строка 4:г\n",
      "list1:  ['бббббб', 'вввввввввввв']\n",
      "list2:  ['аа', 'г']\n"
     ]
    }
   ],
   "source": [
    "list1=[]\n",
    "list2=[]\n",
    "for i in range(4):\n",
    "    str=input('строка {}:'.format(i+1))\n",
    "    if len(str)>5:\n",
    "        list1.append(str)\n",
    "    else:\n",
    "        list2.append(str)\n",
    "        \n",
    "print('list1: ', list1)\n",
    "print('list2: ', list2)\n",
    "    \n",
    "    "
   ]
  },
  {
   "cell_type": "markdown",
   "metadata": {},
   "source": [
    "# Задача 4\n",
    "\n",
    "На вход принимает кортеж и случайный элемент. Требуется вернуть новый кортеж, начинающийся с первого появления элемента в нем и заканчивающийся вторым его появлением включительно.\n",
    "Если элемента нет вовсе – вернуть пустой кортеж.\n",
    "Если элемент встречается только один раз, то вернуть кортеж, который начинается с него и идет до конца исходного."
   ]
  },
  {
   "cell_type": "code",
   "execution_count": 21,
   "metadata": {},
   "outputs": [
    {
     "name": "stdout",
     "output_type": "stream",
     "text": [
      "5abvcda675abd\n",
      "a\n",
      "('a', 'b', 'v', 'c', 'd', 'a', '6', '7', '5', 'a')\n"
     ]
    }
   ],
   "source": [
    "a=tuple(input())\n",
    "b=input()\n",
    "start=0\n",
    "stop=0\n",
    "for i in range(len(a)):\n",
    "    if a[i]==b:\n",
    "        if start==0:\n",
    "            start=i\n",
    "        else:\n",
    "            stop=i\n",
    "result=tuple()\n",
    "for i in range(start,stop+1):\n",
    "    result=result+tuple(a[i])\n",
    "print(result)\n"
   ]
  },
  {
   "cell_type": "markdown",
   "metadata": {},
   "source": [
    "# Задача 5\n",
    "\n",
    "На вход кортеж и элемент. Задача сделать так, чтобы удалять первое появление определенного элемента из кортежа по значению и возвращать кортеж без этого элемента. Если элемента в кортеже нет, кортеж надо вернуть в исходном виде\n",
    "\n"
   ]
  },
  {
   "cell_type": "code",
   "execution_count": 29,
   "metadata": {},
   "outputs": [
    {
     "name": "stdout",
     "output_type": "stream",
     "text": [
      "abc\n",
      "t\n"
     ]
    },
    {
     "data": {
      "text/plain": [
       "('a', 'b', 'c')"
      ]
     },
     "execution_count": 29,
     "metadata": {},
     "output_type": "execute_result"
    }
   ],
   "source": [
    "a=tuple(input())\n",
    "b=input()\n",
    "ind=len(a)\n",
    "if b in a:\n",
    "    ind=a.index(b)\n",
    "a=a[:ind]+a[ind+1:]\n",
    "a"
   ]
  },
  {
   "cell_type": "markdown",
   "metadata": {},
   "source": [
    "# Задача 6\n",
    "\n",
    "На вход подается строка, преобразовать ее в множество и сравнить длину исходной строки и новой"
   ]
  },
  {
   "cell_type": "code",
   "execution_count": 31,
   "metadata": {},
   "outputs": [
    {
     "name": "stdout",
     "output_type": "stream",
     "text": [
      "absdkj jkhk  jkbf\n",
      "длина строки: 17 \n",
      "длина множества: 17\n"
     ]
    }
   ],
   "source": [
    "a=input()\n",
    "b=tuple(a)\n",
    "print('длина строки: {} \\nдлина множества: {}'.format(len(a),len(b)))"
   ]
  },
  {
   "cell_type": "markdown",
   "metadata": {},
   "source": [
    "# Задача 7\n",
    "\n",
    "Передаются 3 строки. Необходимо получить только уникальные элементы из этих строк"
   ]
  },
  {
   "cell_type": "code",
   "execution_count": 37,
   "metadata": {},
   "outputs": [
    {
     "name": "stdout",
     "output_type": "stream",
     "text": [
      "abcd\n",
      "bcdf\n",
      "cdfe\n",
      "['a' 'b' 'c' 'd' 'e' 'f']\n"
     ]
    }
   ],
   "source": [
    "import numpy as np\n",
    "a=tuple()\n",
    "for i in range(3):\n",
    "    a=a+tuple(input())\n",
    "print(np.unique(a))"
   ]
  },
  {
   "cell_type": "markdown",
   "metadata": {},
   "source": [
    "# Задача 9\n",
    "\n",
    "У вас есть аминокислотная последовательность: QVQLQESGGGLVQAGGSLRLSCAASGRTFSSTGHTFSSYAMGWFRQTPGKEREFVAAISWSGTSTYYADSVKGRFTISRDNAKNTVYLQMNSLKPEDTAVYYCAARFWDYGLGSSDLKSPREYDYWGQGTQVTVSS. На данный момент выделяют 20 аминокислот (хотя некоторые биохимики выделяют до 22 аминокислот). Проверьте, все ли аминокислоты присутсвуют в этой последовательности?"
   ]
  },
  {
   "cell_type": "code",
   "execution_count": 41,
   "metadata": {},
   "outputs": [
    {
     "data": {
      "text/plain": [
       "20"
      ]
     },
     "execution_count": 41,
     "metadata": {},
     "output_type": "execute_result"
    }
   ],
   "source": [
    "a='QVQLQESGGGLVQAGGSLRLSCAASGRTFSSTGHTFSSYAMGWFRQTPGKEREFVAAISWSGTSTYYADSVKGRFTISRDNAKNTVYLQMNSLKPEDTAVYYCAARFWDYGLGSSDLKSPREYDYWGQGTQVTVSS'\n",
    "a=tuple(a)\n",
    "len(np.unique(a))"
   ]
  },
  {
   "cell_type": "code",
   "execution_count": null,
   "metadata": {},
   "outputs": [],
   "source": []
  }
 ],
 "metadata": {
  "kernelspec": {
   "display_name": "Python 3",
   "language": "python",
   "name": "python3"
  },
  "language_info": {
   "codemirror_mode": {
    "name": "ipython",
    "version": 3
   },
   "file_extension": ".py",
   "mimetype": "text/x-python",
   "name": "python",
   "nbconvert_exporter": "python",
   "pygments_lexer": "ipython3",
   "version": "3.8.5"
  }
 },
 "nbformat": 4,
 "nbformat_minor": 4
}
