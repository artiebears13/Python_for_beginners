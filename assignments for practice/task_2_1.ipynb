{
 "cells": [
  {
   "cell_type": "markdown",
   "metadata": {},
   "source": [
    "# Задача 1"
   ]
  },
  {
   "cell_type": "markdown",
   "metadata": {},
   "source": [
    "# Поле для решения\n",
    "\n",
    "Представьте список в обратном порядке\n",
    "\n",
    "[2,4,'string', 'another_string', 3.29, 22]"
   ]
  },
  {
   "cell_type": "code",
   "execution_count": 7,
   "metadata": {},
   "outputs": [],
   "source": [
    "# Место для решения"
   ]
  },
  {
   "cell_type": "markdown",
   "metadata": {},
   "source": [
    "# Задача 2\n",
    "\n",
    "Дан список ['A', 'T', 'G', 'C', 'T', 'G', 'C', 'A', 'T', 'G', 'G', 'G', 'C', 'A', 'G', 'C', 'T', 'T', 'T', 'T', 'A', 'G', 'C', 'G', 'A']\n",
    ". Замените в нем 1 символ на последний, а последний на первый"
   ]
  },
  {
   "cell_type": "code",
   "execution_count": 8,
   "metadata": {},
   "outputs": [],
   "source": [
    "# Место для решения"
   ]
  },
  {
   "cell_type": "markdown",
   "metadata": {},
   "source": [
    "# Задача 3\n",
    "\n",
    "Примите от пользователя 4 строки. Если длина строки больше 5 символов, поместите ее в список1, а если меньше то в список2. Выведите в конце оба списка"
   ]
  },
  {
   "cell_type": "code",
   "execution_count": null,
   "metadata": {},
   "outputs": [],
   "source": [
    "# Место для решения"
   ]
  },
  {
   "cell_type": "markdown",
   "metadata": {},
   "source": [
    "# Задача 4\n",
    "\n",
    "На вход принимает кортеж и случайный элемент. Требуется вернуть новый кортеж, начинающийся с первого появления элемента в нем и заканчивающийся вторым его появлением включительно.\n",
    "Если элемента нет вовсе – вернуть пустой кортеж.\n",
    "Если элемент встречается только один раз, то вернуть кортеж, который начинается с него и идет до конца исходного."
   ]
  },
  {
   "cell_type": "code",
   "execution_count": null,
   "metadata": {},
   "outputs": [],
   "source": [
    "# Место для решения"
   ]
  },
  {
   "cell_type": "markdown",
   "metadata": {},
   "source": [
    "# Задача 5\n",
    "\n",
    "На вход кортеж и элемент. Задача сделать так, чтобы удалять первое появление определенного элемента из кортежа по значению и возвращать кортеж без этого элемента. Если элемента в кортеже нет, кортеж надо вернуть в исходном виде\n",
    "\n"
   ]
  },
  {
   "cell_type": "code",
   "execution_count": null,
   "metadata": {},
   "outputs": [],
   "source": [
    "# Место для решения"
   ]
  },
  {
   "cell_type": "markdown",
   "metadata": {},
   "source": [
    "# Задача 6\n",
    "\n",
    "На вход подается строка, преобразовать ее в множество и сравнить длину исходной строки и новой"
   ]
  },
  {
   "cell_type": "code",
   "execution_count": null,
   "metadata": {},
   "outputs": [],
   "source": [
    "# Место для решения"
   ]
  },
  {
   "cell_type": "markdown",
   "metadata": {},
   "source": [
    "# Задача 7\n",
    "\n",
    "Передаются 3 строки. Необходимо получить только уникальные элементы из этих строк"
   ]
  },
  {
   "cell_type": "code",
   "execution_count": null,
   "metadata": {},
   "outputs": [],
   "source": [
    "# Место для решения"
   ]
  },
  {
   "cell_type": "markdown",
   "metadata": {},
   "source": [
    "# Задача 9\n",
    "\n",
    "У вас есть аминокислотная последовательность: QVQLQESGGGLVQAGGSLRLSCAASGRTFSSTGHTFSSYAMGWFRQTPGKEREFVAAISWSGTSTYYADSVKGRFTISRDNAKNTVYLQMNSLKPEDTAVYYCAARFWDYGLGSSDLKSPREYDYWGQGTQVTVSS. На данный момент выделяют 20 аминокислот (хотя некоторые биохимики выделяют до 22 аминокислот). Проверьте, все ли аминокислоты присутсвуют в этой последовательности?"
   ]
  },
  {
   "cell_type": "code",
   "execution_count": 10,
   "metadata": {},
   "outputs": [],
   "source": [
    "# Место для решения"
   ]
  }
 ],
 "metadata": {
  "kernelspec": {
   "display_name": "Python 3",
   "language": "python",
   "name": "python3"
  },
  "language_info": {
   "codemirror_mode": {
    "name": "ipython",
    "version": 3
   },
   "file_extension": ".py",
   "mimetype": "text/x-python",
   "name": "python",
   "nbconvert_exporter": "python",
   "pygments_lexer": "ipython3",
   "version": "3.8.5"
  }
 },
 "nbformat": 4,
 "nbformat_minor": 4
}
