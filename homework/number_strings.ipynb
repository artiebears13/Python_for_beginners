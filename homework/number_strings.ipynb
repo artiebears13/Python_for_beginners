{
 "cells": [
  {
   "cell_type": "markdown",
   "metadata": {},
   "source": [
    "# Задача\n",
    "Вам дана нуклеотидная последовательность:\n",
    "- Дать возможность передавать пользователю последовательность в код\n",
    "- Определить, РНК это или ДНК\n",
    "- Посчитать средне количество нуклеотидов\n",
    "- Определить длинну последовательности\n",
    "- Посчитать встречаемость каждого нуклеотида\n",
    "- Посчитать GC состав\n",
    "- Получить прямую и обратную цепь, если последовательность это ДНК\n",
    "- Сделать красивый вывод насчитанной статистики для пользователя\n",
    "- \\* Сделать возможность выбора пользователем какую статистику ему считать"
   ]
  },
  {
   "cell_type": "code",
   "execution_count": 1,
   "metadata": {},
   "outputs": [],
   "source": [
    "# Поле для решения (можно и больше одного поля использовать :))"
   ]
  }
 ],
 "metadata": {
  "kernelspec": {
   "display_name": "Python 3",
   "language": "python",
   "name": "python3"
  },
  "language_info": {
   "codemirror_mode": {
    "name": "ipython",
    "version": 3
   },
   "file_extension": ".py",
   "mimetype": "text/x-python",
   "name": "python",
   "nbconvert_exporter": "python",
   "pygments_lexer": "ipython3",
   "version": "3.8.5"
  }
 },
 "nbformat": 4,
 "nbformat_minor": 4
}
