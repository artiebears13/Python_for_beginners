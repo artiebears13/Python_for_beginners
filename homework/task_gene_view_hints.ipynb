{
 "cells": [
  {
   "cell_type": "markdown",
   "id": "6097f93c-8866-4b2c-9d27-bb2f70e4740b",
   "metadata": {},
   "source": [
    "# Домашнее задание \n",
    "\n",
    "1. Изучить паттерны проектирования:\n",
    "* [Builder (Строитель)](https://refactoring.guru/ru/design-patterns/builder)\n",
    "* [Composite (Компоновщик)](https://refactoring.guru/ru/design-patterns/composite)\n",
    " \n",
    "2. Разработать иерархию классов для рисования простых фигур (BoxView, TextView) и составных из них фигур (CompositeView, паттерн Composite)\n",
    "* спроектировать \n",
    "* нарисовать разработанную иерархию классов, используя [Plant UML](https://plantuml.com/ru/class-diagram)\n",
    "* реализовать разработанную иерархию, используя для рисования функции [ipycnvas](https://ipycanvas.readthedocs.io/en/latest/)\n",
    "\n",
    "При реализации каждого класса, отдельной клеточкой делать тест для его тестирования и отладки\n",
    "\n",
    "3. Разработать простой геномный браузер для визуализации генов\n",
    "* использовать подход [Model-View-Controller](https://ru.wikipedia.org/wiki/Model-View-Controller)\n",
    "* Разработать модель гена, изобразить ее используя [Plant UML](https://plantuml.com/ru/class-diagram)\n",
    "* Для генерации View для гена использовать шаблон [Composite (Компоновщик)](https://refactoring.guru/ru/design-patterns/composite)\n",
    "\n",
    "4. Продемонстрировать работу геномного браузера, получив примерно такую картинку\n",
    "\n",
    "<img src=\"https://gitlab.sirius-web.org/students/2021/kolpakov.fa/python-for-beginners/-/raw/master/lections/files_and_images/gene_view.png\">\n",
    "\n",
    "## Подсказки\n",
    "\n",
    "### Интерфейс View, BaseView\n",
    "приведены ниже\n",
    "\n",
    "### определение размера текста для TextView\n",
    "def textSize(x, y, text, font_size, font_name):\n",
    "    '''\n",
    "    Некоторая проблема - узнать размер отображения текста.\n",
    "    Напрямую библиотека pycanvas не имеет такого метода, поэтому мы делаем некоторую эвристику, чтобы угадать размер текста.\n",
    "    \n",
    "    Параметры:\n",
    "    x, y - координаты, используемые для рисования текста в pycanvas\n",
    "    text - текст, для которого рассчитывается размер\n",
    "    font_size - размер шрифта\n",
    "    \n",
    "    Возвращает Rectangle, описывающий размер заданного текста.\n",
    "    '''\n",
    "    k = 0.55\n",
    "    if font_name != 'monospace': \n",
    "        k = 0.47\n",
    "    \n",
    "    return Rectangle(x, y, font_size*len(text)*k, font_size*1)\n",
    "\n",
    "### версия с заголовками и тестами\n",
    "это версия с тестами и заготовками классов, которые использовал преподаватель для выполнения этой работы.\n"
   ]
  },
  {
   "cell_type": "markdown",
   "id": "62e48d1d-d9b9-4844-b9d6-ed80c629861b",
   "metadata": {},
   "source": [
    "## Рисование диаграмм черер PlantUML и kroki\n",
    "https://github.com/sunhwan/jupyter-kroki-magic\n",
    "https://ipython.readthedocs.io/en/stable/config/custommagics.html#defining-magics"
   ]
  },
  {
   "cell_type": "code",
   "execution_count": 1,
   "id": "8d206c2d-1b50-4d76-b06c-b6c3333ced2e",
   "metadata": {},
   "outputs": [],
   "source": [
    "# поддержка типа клеток %%kroki\n",
    "import requests\n",
    "from IPython.display import SVG, display\n",
    "from IPython.core.magic import register_cell_magic\n",
    "\n",
    "diagrams_supported = set(['blockdiag', 'seqdiag', 'mermaid', 'actdiag', 'nwdiag',\n",
    "                          'packetdiag', 'rackdiag', 'erd', 'nomnoml', 'plantuml',\n",
    "                          'umlet', 'wavedrom', 'bpmn', 'bytefield', 'pikchr',\n",
    "                          'graphviz', 'vega', 'vega-lite', 'ditaa', 'svgbob'])\n",
    "\n",
    "\n",
    "@register_cell_magic\n",
    "def kroki(line, cell):\n",
    "        \"simple wrapper for kroki.io\"\n",
    "        \n",
    "        if line not in diagrams_supported:\n",
    "            raise NotImplemented\n",
    "            \n",
    "        url = 'https://kroki.io'\n",
    "        r = requests.post(f'{url}/{line}/svg', json={'diagram_source': cell})\n",
    "        if r.status_code == 200:\n",
    "            return display(SVG(r.text))\n",
    "        else:\n",
    "            raise ValueError\n"
   ]
  },
  {
   "cell_type": "markdown",
   "id": "66ed0354-5f00-4c73-becc-6e4ff715ab48",
   "metadata": {},
   "source": [
    "## Примеры диаграмм "
   ]
  },
  {
   "cell_type": "code",
   "execution_count": 2,
   "id": "1e42e1ab-59bd-4d3a-9926-ce642657002e",
   "metadata": {},
   "outputs": [
    {
     "data": {
      "image/svg+xml": [
       "<svg xmlns=\"http://www.w3.org/2000/svg\" xmlns:xlink=\"http://www.w3.org/1999/xlink\" contentScriptType=\"application/ecmascript\" contentStyleType=\"text/css\" height=\"311px\" preserveAspectRatio=\"none\" style=\"width:291px;height:311px;background:#FFFFFF;\" version=\"1.1\" viewBox=\"0 0 291 311\" width=\"291px\" zoomAndPan=\"magnify\"><defs><filter height=\"300%\" id=\"fsmzdywlff851\" width=\"300%\" x=\"-1\" y=\"-1\"><feGaussianBlur result=\"blurOut\" stdDeviation=\"2.0\"/><feColorMatrix in=\"blurOut\" result=\"blurOut2\" type=\"matrix\" values=\"0 0 0 0 0 0 0 0 0 0 0 0 0 0 0 0 0 0 .4 0\"/><feOffset dx=\"4.0\" dy=\"4.0\" in=\"blurOut2\" result=\"blurOut3\"/><feBlend in=\"SourceGraphic\" in2=\"blurOut3\" mode=\"normal\"/></filter></defs><g><!--MD5=[b4fa10df80476353258f72a232547d63]\n",
       "class AbstractList--><rect codeLine=\"1\" fill=\"#FEFECE\" filter=\"url(#fsmzdywlff851)\" height=\"48\" id=\"AbstractList\" style=\"stroke:#A80036;stroke-width:1.5;\" width=\"95\" x=\"172.5\" y=\"115\"/><ellipse cx=\"187.5\" cy=\"131\" fill=\"#A9DCDF\" rx=\"11\" ry=\"11\" style=\"stroke:#A80036;stroke-width:1.0;\"/><path d=\"M188.4531,134.6563 Q188.4531,134.1563 188.7344,133.9844 Q189.0313,133.7969 189.5781,133.7969 L189.9688,133.7969 L189.5781,132.8125 L185.5313,132.8125 L185.1406,133.7969 L185.5313,133.7969 Q186.6406,133.7969 186.6406,134.6563 Q186.6406,135.5 185.5313,135.5 L183.2656,135.5 Q182.1406,135.5 182.1406,134.6563 Q182.1406,134.1406 182.4375,133.9688 Q182.7344,133.7969 183.2813,133.7969 L185.9219,127.2813 L184.8438,127.2813 Q183.7031,127.2813 183.7031,126.4375 Q183.7031,125.9219 184,125.7656 Q184.2969,125.5938 184.8438,125.5938 L188.5156,125.5938 L191.9063,133.7969 Q193.0625,133.7969 193.0625,134.6563 Q193.0625,135.5 191.9375,135.5 L189.5781,135.5 Q188.4531,135.5 188.4531,134.6563 Z M188.875,131.1094 L187.5469,127.8438 L186.2031,131.1094 L188.875,131.1094 Z \" fill=\"#000000\"/><text fill=\"#000000\" font-family=\"sans-serif\" font-size=\"12\" font-style=\"italic\" lengthAdjust=\"spacing\" textLength=\"63\" x=\"201.5\" y=\"135.8\">AbstractList</text><line style=\"stroke:#A80036;stroke-width:1.5;\" x1=\"173.5\" x2=\"266.5\" y1=\"147\" y2=\"147\"/><line style=\"stroke:#A80036;stroke-width:1.5;\" x1=\"173.5\" x2=\"266.5\" y1=\"155\" y2=\"155\"/><!--MD5=[8e34b16d8d8f96f4a11290cd523ed859]\n",
       "class AbstractCollection--><rect codeLine=\"2\" fill=\"#FEFECE\" filter=\"url(#fsmzdywlff851)\" height=\"48\" id=\"AbstractCollection\" style=\"stroke:#A80036;stroke-width:1.5;\" width=\"130\" x=\"7\" y=\"115\"/><ellipse cx=\"22\" cy=\"131\" fill=\"#A9DCDF\" rx=\"11\" ry=\"11\" style=\"stroke:#A80036;stroke-width:1.0;\"/><path d=\"M22.9531,134.6563 Q22.9531,134.1563 23.2344,133.9844 Q23.5313,133.7969 24.0781,133.7969 L24.4688,133.7969 L24.0781,132.8125 L20.0313,132.8125 L19.6406,133.7969 L20.0313,133.7969 Q21.1406,133.7969 21.1406,134.6563 Q21.1406,135.5 20.0313,135.5 L17.7656,135.5 Q16.6406,135.5 16.6406,134.6563 Q16.6406,134.1406 16.9375,133.9688 Q17.2344,133.7969 17.7813,133.7969 L20.4219,127.2813 L19.3438,127.2813 Q18.2031,127.2813 18.2031,126.4375 Q18.2031,125.9219 18.5,125.7656 Q18.7969,125.5938 19.3438,125.5938 L23.0156,125.5938 L26.4063,133.7969 Q27.5625,133.7969 27.5625,134.6563 Q27.5625,135.5 26.4375,135.5 L24.0781,135.5 Q22.9531,135.5 22.9531,134.6563 Z M23.375,131.1094 L22.0469,127.8438 L20.7031,131.1094 L23.375,131.1094 Z \" fill=\"#000000\"/><text fill=\"#000000\" font-family=\"sans-serif\" font-size=\"12\" font-style=\"italic\" lengthAdjust=\"spacing\" textLength=\"98\" x=\"36\" y=\"135.8\">AbstractCollection</text><line style=\"stroke:#A80036;stroke-width:1.5;\" x1=\"8\" x2=\"136\" y1=\"147\" y2=\"147\"/><line style=\"stroke:#A80036;stroke-width:1.5;\" x1=\"8\" x2=\"136\" y1=\"155\" y2=\"155\"/><!--MD5=[3d4177ac58b4411586d067f34e84928f]\n",
       "class List--><rect codeLine=\"3\" fill=\"#FEFECE\" filter=\"url(#fsmzdywlff851)\" height=\"48\" id=\"List\" style=\"stroke:#A80036;stroke-width:1.5;\" width=\"51\" x=\"183.5\" y=\"7\"/><ellipse cx=\"198.5\" cy=\"23\" fill=\"#B4A7E5\" rx=\"11\" ry=\"11\" style=\"stroke:#A80036;stroke-width:1.0;\"/><path d=\"M201.1719,26.2969 Q201.7188,26.2969 202,26.4844 Q202.2813,26.6563 202.2813,27.1563 Q202.2813,28 201.1719,28 L196.0313,28 Q194.9063,28 194.9063,27.1563 Q194.9063,26.6563 195.1875,26.4844 Q195.4844,26.2969 196.0313,26.2969 L197.75,26.2969 L197.75,19.7813 L196.0313,19.7813 Q194.9063,19.7813 194.9063,18.9375 Q194.9063,18.4531 195.1875,18.2813 Q195.4844,18.0938 196.0313,18.0938 L201.1719,18.0938 Q201.7188,18.0938 202,18.2813 Q202.2813,18.4531 202.2813,18.9375 Q202.2813,19.7813 201.1719,19.7813 L199.4531,19.7813 L199.4531,26.2969 L201.1719,26.2969 Z \" fill=\"#000000\"/><text fill=\"#000000\" font-family=\"sans-serif\" font-size=\"12\" font-style=\"italic\" lengthAdjust=\"spacing\" textLength=\"19\" x=\"212.5\" y=\"27.8\">List</text><line style=\"stroke:#A80036;stroke-width:1.5;\" x1=\"184.5\" x2=\"233.5\" y1=\"39\" y2=\"39\"/><line style=\"stroke:#A80036;stroke-width:1.5;\" x1=\"184.5\" x2=\"233.5\" y1=\"47\" y2=\"47\"/><!--MD5=[c160724f8e3bb89ca8141a12554ac2e3]\n",
       "class Collection--><rect codeLine=\"4\" fill=\"#FEFECE\" filter=\"url(#fsmzdywlff851)\" height=\"48\" id=\"Collection\" style=\"stroke:#A80036;stroke-width:1.5;\" width=\"86\" x=\"51\" y=\"7\"/><ellipse cx=\"66\" cy=\"23\" fill=\"#B4A7E5\" rx=\"11\" ry=\"11\" style=\"stroke:#A80036;stroke-width:1.0;\"/><path d=\"M68.6719,26.2969 Q69.2188,26.2969 69.5,26.4844 Q69.7813,26.6563 69.7813,27.1563 Q69.7813,28 68.6719,28 L63.5313,28 Q62.4063,28 62.4063,27.1563 Q62.4063,26.6563 62.6875,26.4844 Q62.9844,26.2969 63.5313,26.2969 L65.25,26.2969 L65.25,19.7813 L63.5313,19.7813 Q62.4063,19.7813 62.4063,18.9375 Q62.4063,18.4531 62.6875,18.2813 Q62.9844,18.0938 63.5313,18.0938 L68.6719,18.0938 Q69.2188,18.0938 69.5,18.2813 Q69.7813,18.4531 69.7813,18.9375 Q69.7813,19.7813 68.6719,19.7813 L66.9531,19.7813 L66.9531,26.2969 L68.6719,26.2969 Z \" fill=\"#000000\"/><text fill=\"#000000\" font-family=\"sans-serif\" font-size=\"12\" font-style=\"italic\" lengthAdjust=\"spacing\" textLength=\"54\" x=\"80\" y=\"27.8\">Collection</text><line style=\"stroke:#A80036;stroke-width:1.5;\" x1=\"52\" x2=\"136\" y1=\"39\" y2=\"39\"/><line style=\"stroke:#A80036;stroke-width:1.5;\" x1=\"52\" x2=\"136\" y1=\"47\" y2=\"47\"/><!--MD5=[ab8871ed637f40707b866ba6597734bc]\n",
       "class ArrayList--><rect codeLine=\"13\" fill=\"#FEFECE\" filter=\"url(#fsmzdywlff851)\" height=\"74.3998\" id=\"ArrayList\" style=\"stroke:#A80036;stroke-width:1.5;\" width=\"115\" x=\"162.5\" y=\"223\"/><ellipse cx=\"193.25\" cy=\"239\" fill=\"#ADD1B2\" rx=\"11\" ry=\"11\" style=\"stroke:#A80036;stroke-width:1.0;\"/><path d=\"M192.6094,242.7813 Q193.4063,242.7813 193.9688,242.5938 Q194.5469,242.3906 194.7813,242.1719 Q195.0313,241.9375 195.2656,241.75 Q195.5156,241.5469 195.7344,241.5469 Q196.0781,241.5469 196.3281,241.8125 Q196.5938,242.0625 196.5938,242.3906 Q196.5938,243.125 195.4219,243.8125 Q194.2656,244.4844 192.5625,244.4844 Q190.4063,244.4844 188.9844,243.2188 Q187.5625,241.9531 187.5625,240.0156 L187.5625,238.8906 Q187.5625,236.8594 188.8906,235.4844 Q190.2188,234.0938 192.1875,234.0938 Q193.375,234.0938 194.5938,234.6719 L194.7656,234.75 Q195.0625,234.3438 195.4844,234.3438 Q195.9688,234.3438 196.1406,234.6406 Q196.3281,234.9219 196.3281,235.4688 L196.3281,236.8906 Q196.3281,238.0156 195.4844,238.0156 Q195.1719,238.0156 194.9688,237.8438 Q194.7813,237.6719 194.7344,237.5313 Q194.7031,237.375 194.6563,237.1094 Q194.5469,236.5938 194.0313,236.2813 Q193.5156,235.9688 193.0625,235.8906 Q192.625,235.7969 192.25,235.7969 Q190.9688,235.7969 190.1094,236.6719 Q189.2656,237.5469 189.2656,238.8906 L189.2656,239.9844 Q189.2656,241.2656 190.1719,242.0313 Q191.0781,242.7813 192.6094,242.7813 Z \" fill=\"#000000\"/><text fill=\"#000000\" font-family=\"sans-serif\" font-size=\"12\" lengthAdjust=\"spacing\" textLength=\"48\" x=\"210.75\" y=\"243.8\">ArrayList</text><line style=\"stroke:#A80036;stroke-width:1.5;\" x1=\"163.5\" x2=\"276.5\" y1=\"255\" y2=\"255\"/><text fill=\"#000000\" font-family=\"sans-serif\" font-size=\"11\" lengthAdjust=\"spacing\" textLength=\"103\" x=\"168.5\" y=\"269.9999\">Object[] elementData</text><line style=\"stroke:#A80036;stroke-width:1.5;\" x1=\"163.5\" x2=\"276.5\" y1=\"276.1999\" y2=\"276.1999\"/><text fill=\"#000000\" font-family=\"sans-serif\" font-size=\"11\" lengthAdjust=\"spacing\" textLength=\"26\" x=\"168.5\" y=\"291.1998\">size()</text><!--MD5=[00308d07b6a5721fb0cf5861877e6652]\n",
       "reverse link List to AbstractList--><path codeLine=\"6\" d=\"M213.46,75.02 C214.87,88.58 216.37,103.04 217.58,114.68 \" fill=\"none\" id=\"List-backto-AbstractList\" style=\"stroke:#A80036;stroke-width:1.0;\"/><polygon fill=\"none\" points=\"206.49,75.62,211.39,55,220.41,74.17,206.49,75.62\" style=\"stroke:#A80036;stroke-width:1.0;\"/><!--MD5=[1822909749df1453bdd84de7a60a3406]\n",
       "reverse link Collection to AbstractCollection--><path codeLine=\"7\" d=\"M85.07,75.02 C82.26,88.58 79.26,103.04 76.84,114.68 \" fill=\"none\" id=\"Collection-backto-AbstractCollection\" style=\"stroke:#A80036;stroke-width:1.0;\"/><polygon fill=\"none\" points=\"78.31,73.16,89.23,55,92.02,76.01,78.31,73.16\" style=\"stroke:#A80036;stroke-width:1.0;\"/><!--MD5=[0159284274f96a472eb2618ad803aaca]\n",
       "reverse link Collection to List--><path codeLine=\"9\" d=\"M157.39,31 C166.08,31 174.76,31 183.45,31 \" fill=\"none\" id=\"Collection-backto-List\" style=\"stroke:#A80036;stroke-width:1.0;\"/><polygon fill=\"none\" points=\"157.13,38,137.12,31,157.12,24,157.13,38\" style=\"stroke:#A80036;stroke-width:1.0;\"/><!--MD5=[7a3a52e8f65ef1a8d8d29530ea5cd870]\n",
       "reverse link AbstractCollection to AbstractList--><path codeLine=\"10\" d=\"M157.18,139 C162.24,139 167.3,139 172.36,139 \" fill=\"none\" id=\"AbstractCollection-backto-AbstractList\" style=\"stroke:#A80036;stroke-width:1.0;\"/><polygon fill=\"none\" points=\"157.04,146,137.04,139,157.04,132,157.04,146\" style=\"stroke:#A80036;stroke-width:1.0;\"/><!--MD5=[40e4bb1af59cca28d4643aaff05088cc]\n",
       "reverse link AbstractList to ArrayList--><path codeLine=\"11\" d=\"M220,183.43 C220,196.33 220,210.32 220,222.71 \" fill=\"none\" id=\"AbstractList-backto-ArrayList\" style=\"stroke:#A80036;stroke-width:1.0;\"/><polygon fill=\"none\" points=\"213,183.23,220,163.23,227,183.23,213,183.23\" style=\"stroke:#A80036;stroke-width:1.0;\"/><!--MD5=[8c57b88c7543ba66b17f20f1b341b7e0]\n",
       "@startuml\n",
       "abstract class AbstractList\n",
       "abstract AbstractCollection\n",
       "interface List\n",
       "interface Collection\n",
       "\n",
       "List <|- - AbstractList\n",
       "Collection <|- - AbstractCollection\n",
       "\n",
       "Collection <|- List\n",
       "AbstractCollection <|- AbstractList\n",
       "AbstractList <|- - ArrayList\n",
       "\n",
       "class ArrayList {\n",
       "  Object[] elementData\n",
       "  size()\n",
       "}\n",
       "@enduml\n",
       "\n",
       "PlantUML version 1.2021.8(Sat Jun 26 08:20:59 GMT 2021)\n",
       "(GPL source distribution)\n",
       "Java Runtime: OpenJDK Runtime Environment\n",
       "JVM: OpenJDK 64-Bit Server VM\n",
       "Default Encoding: UTF-8\n",
       "Language: en\n",
       "Country: US\n",
       "--></g></svg>"
      ],
      "text/plain": [
       "<IPython.core.display.SVG object>"
      ]
     },
     "metadata": {},
     "output_type": "display_data"
    }
   ],
   "source": [
    "%%kroki plantuml\n",
    "\n",
    "abstract class AbstractList\n",
    "abstract AbstractCollection\n",
    "interface List\n",
    "interface Collection\n",
    "\n",
    "List <|-- AbstractList\n",
    "Collection <|-- AbstractCollection\n",
    "\n",
    "Collection <|- List\n",
    "AbstractCollection <|- AbstractList\n",
    "AbstractList <|-- ArrayList\n",
    "\n",
    "class ArrayList {\n",
    "  Object[] elementData\n",
    "  size()\n",
    "}\n"
   ]
  },
  {
   "cell_type": "markdown",
   "id": "9b697610-fe5d-4863-9ba2-324d845add23",
   "metadata": {},
   "source": [
    "# Иерархия классов для рисования"
   ]
  },
  {
   "cell_type": "code",
   "execution_count": 3,
   "id": "7d6b964c-c7b8-459c-8f2c-4b91681a9126",
   "metadata": {},
   "outputs": [],
   "source": [
    "from abc import abstractmethod\n",
    "from ipycanvas import Canvas"
   ]
  },
  {
   "cell_type": "code",
   "execution_count": 4,
   "id": "50c966b7-fe58-4408-9e0e-4fc5a3e55e8e",
   "metadata": {},
   "outputs": [],
   "source": [
    "class Rectangle:\n",
    "    '''Используется для представления минимального прямоугольника, описывающего заданную фигуру.'''\n",
    "    \n",
    "    def __init__(self, x, y, width, height):\n",
    "        self.x = x\n",
    "        self.y = y\n",
    "        self.width = width\n",
    "        self.height = height\n",
    "    \n",
    "    def __str__(self):\n",
    "        return f'Rectangle ({self.x}, {self.y}) {self.width}x{self.height}'"
   ]
  },
  {
   "cell_type": "markdown",
   "id": "3c915a5b-cef1-4373-80f7-37a608ef750b",
   "metadata": {},
   "source": [
    "## View"
   ]
  },
  {
   "cell_type": "code",
   "execution_count": 5,
   "id": "e086b38f-0c95-44b8-812c-222e0a09c448",
   "metadata": {},
   "outputs": [],
   "source": [
    "class View:\n",
    "    '''Абстрактный базовый класс для представления и рисования фигур'''\n",
    "\n",
    "    @abstractmethod\n",
    "    def get_bounds(self):\n",
    "        ''' Возвращает размеры минимального прямоугольника, описывающего данную фигуру.'''\n",
    "        pass\n",
    "\n",
    "    @abstractmethod\n",
    "    def draw(self, canvas):\n",
    "        ''' \n",
    "        Рисует фигуру на холсте \n",
    "        \n",
    "        Параметры:\n",
    "        canvas - холст для рисования\n",
    "        '''     \n",
    "        pass\n",
    "    \n",
    "    @abstractmethod\n",
    "    def move(self, x, y):\n",
    "        ''' Перемещает верхний левый угол границы фигуры в координаты (x, y) '''     \n",
    "        pass\n",
    "\n",
    "    @abstractmethod\n",
    "    def align_vertical(self, view, alignment, offset):\n",
    "        ''' \n",
    "        Выравнивает фигуру по вертикалии относительно заданной фигуры\n",
    "        \n",
    "        Параметры:\n",
    "        view - фигура, относительно которой происходит выравнивание\n",
    "        alignment - выравнивание, возможные значения (view_текущая фигура):\n",
    "            top_top, top_center, top_bottom\n",
    "            center_top, center_center, center_bottom\n",
    "            bottom_top, bottom_cente, bottom_bottom\n",
    "        '''     \n",
    "        pass\n",
    "\n",
    "    @abstractmethod\n",
    "    def align_horisontal(self, view, alignment, offset):\n",
    "        ''' \n",
    "        Выравнивает фигуру по горизонтали относительно заданной фигуры\n",
    "        \n",
    "        Параметры:\n",
    "        view - фигура, относительно которой происходит выравнивание\n",
    "        alignment - выравнивание, возможные значения (view_текущая фигура):\n",
    "            left_left, left_center, left_right\n",
    "            center_left, center_center, center_right\n",
    "            right_left, rightcenter, right_right\n",
    "        '''     \n",
    "        pass\n",
    "  \n",
    "    "
   ]
  },
  {
   "cell_type": "markdown",
   "id": "6d4d5369-3ff1-4c4c-9758-cb104154e744",
   "metadata": {},
   "source": [
    "## BaseView"
   ]
  },
  {
   "cell_type": "code",
   "execution_count": 6,
   "id": "c22b6675-66a6-49ff-ab95-5c961e0ca44e",
   "metadata": {},
   "outputs": [],
   "source": [
    "class BaseView(View):\n",
    "    \n",
    "    def __init__(self, x, y, width, height):\n",
    "        '''задает границы минимального прямоугольника, описывающего заданную фигуру'''\n",
    "        self.bounds = Rectangle(x, y, width, height)\n",
    "\n",
    "    def getBounds(self):\n",
    "        return self.bounds;\n",
    "    \n",
    "    def move(self, x, y):\n",
    "        self.bounds.x = x\n",
    "        self.bounds.y = y\n",
    "        \n",
    "    def align_vertical(self, view, alignment, offset=0):\n",
    "        r1 = view.bounds\n",
    "        height = self.bounds.height\n",
    "\n",
    "        if alignment == 'top_top':            y = r1.y + offset\n",
    "        elif alignment == 'top_center':       y = r1.y - height/2\n",
    "        elif alignment == 'top_bottom':       y = r1.y - height - offset\n",
    "        \n",
    "        elif alignment == 'center_top':       y = r1.y + r1.height/2 + offset\n",
    "        elif alignment == 'center_center':    y = r1.y + r1.height/2 - height/2\n",
    "        elif alignment == 'center_bottom':    y = r1.y + r1.height/2 - height + offset\n",
    "        \n",
    "        elif alignment == 'bottom_top':       y = r1.y + r1.height + offset\n",
    "        elif alignment == 'bottom_center':    y = r1.y + r1.height - height/2\n",
    "        elif alignment == 'bottom_bottom':    y = r1.y + r1.height - height + offset\n",
    "\n",
    "        self.move(self.bounds.x, y)\n",
    "        \n",
    "    def align_horisontal(self, view, alignment, offset=0):\n",
    "        r1 = view.bounds\n",
    "        width = self.bounds.width\n",
    "        \n",
    "        if alignment == 'left_left':          x = r1.x + offset\n",
    "        elif alignment == 'left_center':      x = r1.x - width/2\n",
    "        elif alignment == 'left_right':       x = r1.x - width - offset\n",
    "        \n",
    "        elif alignment == 'center_left':      x = r1.x + r1.width/2 + offset\n",
    "        elif alignment == 'center_center':    x = r1.x + r1.width/2 - width/2\n",
    "        elif alignment == 'center_right':     x = r1.x + r1.width/2 - width + offset\n",
    "        \n",
    "        elif alignment == 'right_left':       x = r1.x + r1.width + offset\n",
    "        elif alignment == 'right_center':     x = r1.x + r1.width - width/2\n",
    "        elif alignment == 'right_right':      x = r1.x + r1.width - width + offset\n",
    "\n",
    "        self.move(x, self.bounds.y)    "
   ]
  },
  {
   "cell_type": "code",
   "execution_count": 7,
   "id": "e8d24550-bd6b-4f87-bee0-249f25f7dc5f",
   "metadata": {},
   "outputs": [],
   "source": [
    "# тест на выравниеание фигур друг относительно друга\n",
    "# ..."
   ]
  },
  {
   "cell_type": "markdown",
   "id": "f4c03e1b-a526-4a54-9648-6e29ec6ecf3b",
   "metadata": {},
   "source": [
    "## RectangleView"
   ]
  },
  {
   "cell_type": "code",
   "execution_count": 8,
   "id": "99766886-8773-4a44-8f99-eeb9e41d37e0",
   "metadata": {},
   "outputs": [],
   "source": [
    "class RectangleView(BaseView):\n",
    "    '''\n",
    "    Класс для рисования прямоугольника.\n",
    "    \n",
    "    Прямоугольник имеет следующие параметры:\n",
    "    x, y, width, height -положение и размер прямоугольника\n",
    "    fill_style - цвет и стиль заливки прямоугольника (может отсутствовать)\n",
    "    stroke_style - цвет и стиль границы прямоугольника (может отсутствовать)\n",
    "    \n",
    "    '''\n",
    "    \n",
    "    def __init__(self, x, y, width, height, fill_style=None, stroke_style=None):\n",
    "        super().__init__(x, y, width, height)\n",
    "        self.fill_style = fill_style\n",
    "        self.stroke_style = stroke_style\n",
    "\n",
    "    def from_rectangle(rectangle, fill_style=None, stroke_style=None):\n",
    "        return RectangleView(rectangle.x, rectangle.y, \n",
    "                             rectangle.width, rectangle.height,\n",
    "                             fill_style, stroke_style\n",
    "                            )\n",
    "        \n",
    "    def draw(self, canvas):\n",
    "        \n",
    "        if self.fill_style:\n",
    "            canvas.fill_style = self.fill_style\n",
    "            canvas.fill_rect(\n",
    "                self.bounds.x, \n",
    "                self.bounds.y, \n",
    "                self.bounds.width, \n",
    "                self.bounds.height\n",
    "            )            \n",
    "\n",
    "        if self.stroke_style:\n",
    "            canvas.stroke_style = self.stroke_style\n",
    "            canvas.stroke_rect(\n",
    "                self.bounds.x, \n",
    "                self.bounds.y, \n",
    "                self.bounds.width, \n",
    "                self.bounds.height\n",
    "            )               "
   ]
  },
  {
   "cell_type": "code",
   "execution_count": 9,
   "id": "f236608a-3029-4cf2-ba7b-1b627485d5a6",
   "metadata": {},
   "outputs": [
    {
     "data": {
      "application/vnd.jupyter.widget-view+json": {
       "model_id": "9aac8fc6ed504b7aa81eb39d14a05985",
       "version_major": 2,
       "version_minor": 0
      },
      "text/plain": [
       "Canvas(height=60, width=200)"
      ]
     },
     "metadata": {},
     "output_type": "display_data"
    }
   ],
   "source": [
    "# тест\n",
    "canvas = Canvas(width=200, height=60)\n",
    "\n",
    "rv = RectangleView(20, 10, 100, 50, fill_style=\"red\", stroke_style=\"black\")\n",
    "rv.draw(canvas)\n",
    "\n",
    "canvas"
   ]
  },
  {
   "cell_type": "markdown",
   "id": "48b2847d-fdb8-4d3c-bf00-ae424186dc6f",
   "metadata": {},
   "source": [
    "## TextView"
   ]
  },
  {
   "cell_type": "code",
   "execution_count": 10,
   "id": "18f10eb9-6189-4ab2-83fb-580817ac2201",
   "metadata": {},
   "outputs": [],
   "source": [
    "def textSize(x, y, text, font_size, font_name):\n",
    "    '''\n",
    "    Некоторая проблема - узнать размер отображения текста.\n",
    "    Напрямую библиотека pycanvas не имеет такого метода, поэтому мы делаем некоторую эвристику, чтобы угадать размер текста.\n",
    "    \n",
    "    Параметры:\n",
    "    x, y - координаты, используемые для рисования текста в pycanvas\n",
    "    text - текст, для которого рассчитывается размер\n",
    "    font_size - размер шрифта\n",
    "    \n",
    "    Возвращает Rectangle, описывающий размер заданного текста.\n",
    "    '''\n",
    "    k = 0.55\n",
    "    if font_name != 'monospace': \n",
    "        k = 0.47\n",
    "    \n",
    "    return Rectangle(x, y, font_size*len(text)*k, font_size*1)"
   ]
  },
  {
   "cell_type": "code",
   "execution_count": 11,
   "id": "15c66ec4-7b77-4b4b-8934-d4439f70d54e",
   "metadata": {},
   "outputs": [],
   "source": [
    "class TextView(BaseView):\n",
    "    '''\n",
    "    Класс для рисования текста.\n",
    "    \n",
    "    Текст имеет следующие параметры:\n",
    "    x, y - левая верхняя граница текста\n",
    "    text - строка текста, без переводов строки\n",
    "    font_size - размер шрифта, например 32\n",
    "    font_style - название шрифта, например 'serif'\n",
    "    fill_style или stroke_style - цвет и стиль текста\n",
    "    border - если True, то рисует прямоугольник с определенным размером текста \n",
    "    '''\n",
    "\n",
    "    #TODO\n"
   ]
  },
  {
   "cell_type": "code",
   "execution_count": 12,
   "id": "aa05be04-4112-4722-9395-5a7977400b16",
   "metadata": {},
   "outputs": [
    {
     "data": {
      "application/vnd.jupyter.widget-view+json": {
       "model_id": "cb2addb5d6f147a8bdd96f3d9bf68f0f",
       "version_major": 2,
       "version_minor": 0
      },
      "text/plain": [
       "Canvas(height=80, width=600)"
      ]
     },
     "metadata": {},
     "output_type": "display_data"
    }
   ],
   "source": [
    "# тест текста\n",
    "canvas = Canvas(width=600, height=80)\n",
    "\n",
    "view1 = TextView(10, 10, 'atgcggctaaaat', 16, 'monospace', border=True)\n",
    "view1.draw(canvas)\n",
    "\n",
    "view2 = TextView(10, 30, 'atgcggctaaaat atgcggctaaaat atgcggctaaaat', 16, 'monospace', border=True)\n",
    "view2.draw(canvas)\n",
    "\n",
    "view3 = TextView(10, 50, '150', 16, 'serif', fill_style='red', border=True)\n",
    "view3.draw(canvas)\n",
    "\n",
    "view4 = TextView(50, 50, '20', 16, 'serif', fill_style=None, stroke_style='blue', border=True)\n",
    "view4.draw(canvas)\n",
    "\n",
    "canvas"
   ]
  },
  {
   "cell_type": "markdown",
   "id": "9e390eb9-84ec-4240-b04a-764aa07a729a",
   "metadata": {},
   "source": [
    "## SequenceView"
   ]
  },
  {
   "cell_type": "code",
   "execution_count": 13,
   "id": "fef957e7-99e8-43aa-8351-c9739a94ac63",
   "metadata": {},
   "outputs": [],
   "source": [
    "class SequenceView(TextView):\n",
    "    ''' \n",
    "    Класс для рисования последовательности.\n",
    "    \n",
    "    Имеет следующие параметры:\n",
    "    x, y - левая верхняя граница последовательности\n",
    "    text - последовательность, без пробелов и без переводов строки\n",
    "    font_size - размер шрифта, например 16\n",
    "    '''\n",
    "\n",
    "    def __init__(self, x, y, text, font_size):\n",
    "        super().__init__(x, y, text, font_size, 'monospace')\n",
    "        self.font_size = font_size\n",
    "\n",
    "    def getBounds(self, start, end):\n",
    "        '''\n",
    "        Возвращает Rectangle для фрагмента последовательности \n",
    "        с заданными позициями [start, end] (считаются от 1-ой позиции). \n",
    "        '''\n",
    "    # TODO"
   ]
  },
  {
   "cell_type": "code",
   "execution_count": 14,
   "id": "6081e2a3-d495-4869-9676-8ababf9b152f",
   "metadata": {},
   "outputs": [
    {
     "data": {
      "application/vnd.jupyter.widget-view+json": {
       "model_id": "08d9602856b54352b89db6e851ac3546",
       "version_major": 2,
       "version_minor": 0
      },
      "text/plain": [
       "Canvas(height=30, width=600)"
      ]
     },
     "metadata": {},
     "output_type": "display_data"
    }
   ],
   "source": [
    "# тест последовательности и координат района\n",
    "canvas = Canvas(width=600, height=30)\n",
    "\n",
    "seq = SequenceView(10, 10, 'atgcggctaaaat', 16)\n",
    "seq.draw(canvas)\n",
    "\n",
    "r1 = seq.getBounds(1, 3)\n",
    "box1 = RectangleView.from_rectangle(r1, stroke_style = 'red')\n",
    "box1.draw(canvas)\n",
    "\n",
    "r2 = seq.getBounds(11, 13)\n",
    "box2 = RectangleView.from_rectangle(r2, stroke_style = 'blue')\n",
    "box2.draw(canvas)\n",
    "\n",
    "canvas"
   ]
  },
  {
   "cell_type": "markdown",
   "id": "548a9c6e-0f10-464a-b359-96132ce5ac1e",
   "metadata": {},
   "source": [
    "## CompositeView"
   ]
  },
  {
   "cell_type": "code",
   "execution_count": 15,
   "id": "3b90b01e-6723-4e3d-b812-51a70100f3f7",
   "metadata": {},
   "outputs": [],
   "source": [
    "class CompositeView(BaseView):\n",
    "    '''\n",
    "    Составная фигура - массив других фигур (View), которые можно двигать,\n",
    "    выравнивать и рисовать как единное целое.\n",
    "    \n",
    "    '''\n",
    "\n",
    "    # TODO\n"
   ]
  },
  {
   "cell_type": "code",
   "execution_count": 16,
   "id": "d2dd27c9-820a-4e05-80fa-a3ce7c651e36",
   "metadata": {},
   "outputs": [
    {
     "data": {
      "application/vnd.jupyter.widget-view+json": {
       "model_id": "4d0b221f90764adb9df2f1924fe5cd41",
       "version_major": 2,
       "version_minor": 0
      },
      "text/plain": [
       "Canvas(height=50, width=600)"
      ]
     },
     "metadata": {},
     "output_type": "display_data"
    }
   ],
   "source": [
    "# тест составной фигуры\n",
    "canvas = Canvas(width=600, height=50)\n",
    "\n",
    "composite = CompositeView()\n",
    "\n",
    "seq = SequenceView(10, 10, 'atgcggctaaaat', 16)\n",
    "composite.add(seq)\n",
    "\n",
    "r = seq.getBounds(1, 3)\n",
    "box = RectangleView.from_rectangle(r, stroke_style = 'red')\n",
    "box.align_vertical(seq, 'bottom_top', 5)\n",
    "composite.add(box)\n",
    "\n",
    "composite.draw(canvas)\n",
    "\n",
    "r = composite.bounds\n",
    "box = RectangleView.from_rectangle(r, stroke_style = 'blue')\n",
    "box.draw(canvas)\n",
    "\n",
    "canvas"
   ]
  },
  {
   "cell_type": "markdown",
   "id": "70c48dd8-74eb-494c-9ba2-84b6f34b65c5",
   "metadata": {},
   "source": [
    "# Модель"
   ]
  },
  {
   "cell_type": "code",
   "execution_count": 17,
   "id": "6fe392aa-49c4-42b8-9850-9e3ba3a4ccbf",
   "metadata": {},
   "outputs": [],
   "source": [
    "class Gene:\n",
    "    \n",
    "    def __init__(self, title, sequence, sites=[]):\n",
    "        self.title = title\n",
    "        self.sequence = sequence\n",
    "        self.sites = sites\n",
    "\n",
    "    def add(self, site):\n",
    "        assert site.start > 0, f\"Начало сайта должно быть > 0, {site.start}\"\n",
    "        assert site.start < site.end, f\"Начало сайта должно быть больше конца, {site.start} > {site.end}\"\n",
    "        assert site.end <= len(self.sequence), f\"Конец сайта не должен выходить за длину последовательности, {site.end} <= {len(self.sequence)}\"\n",
    "        \n",
    "        self.sites.append(site)\n",
    "        \n",
    "    def __str__(self):\n",
    "        return f'Gene {self.title}, sequence length {len(self.sequence)}, has {len(self.sites)} sites.'\n",
    "\n",
    "        \n",
    "class Site:\n",
    "\n",
    "    def __init__(self, title, start, end):\n",
    "        self.title = title\n",
    "        self.start = start\n",
    "        self.end = end"
   ]
  },
  {
   "cell_type": "code",
   "execution_count": 18,
   "id": "82832f9a-8f68-4378-8870-9336f53b0c2d",
   "metadata": {},
   "outputs": [
    {
     "name": "stdout",
     "output_type": "stream",
     "text": [
      "Gene p53 stub, sequence length 32, has 2 sites.\n"
     ]
    }
   ],
   "source": [
    "# тест гена\n",
    "\n",
    "gene = Gene('p53 stub', 'atagatatatatatattttaaaaatttggggg')\n",
    "gene.add(Site('site 1', 2, 10))\n",
    "gene.add(Site('site 1', 20, 27))\n",
    "print(gene)"
   ]
  },
  {
   "cell_type": "markdown",
   "id": "79b55093-1636-43a0-ade2-4828948e6cb1",
   "metadata": {},
   "source": [
    "# Gene view builder"
   ]
  },
  {
   "cell_type": "code",
   "execution_count": 19,
   "id": "25758743-010b-4dce-af3f-eabd4bcc3b0f",
   "metadata": {},
   "outputs": [],
   "source": [
    "class GeneViewBuilder:\n",
    "\n",
    "    # TODO\n",
    "        "
   ]
  },
  {
   "cell_type": "code",
   "execution_count": null,
   "id": "da6c90c8-bf18-41ae-8783-30c40b1eb693",
   "metadata": {},
   "outputs": [],
   "source": []
  },
  {
   "cell_type": "code",
   "execution_count": 20,
   "id": "b5669ea9-1d60-45c4-b323-71bd4e159b1c",
   "metadata": {},
   "outputs": [
    {
     "name": "stdout",
     "output_type": "stream",
     "text": [
      "Gene p53 stub, sequence length 32, has 4 sites.\n"
     ]
    },
    {
     "data": {
      "application/vnd.jupyter.widget-view+json": {
       "model_id": "eab7929b6c9c4417b5cd5eb1bdef58fd",
       "version_major": 2,
       "version_minor": 0
      },
      "text/plain": [
       "Canvas(height=150, width=600)"
      ]
     },
     "metadata": {},
     "output_type": "display_data"
    }
   ],
   "source": [
    "# тест отображения гена\n",
    "canvas = Canvas(width=600, height=150)\n",
    "\n",
    "gene = Gene('p53 stub', 'atagatatatatatattttaaaaatttggggg')\n",
    "gene.add(Site('site 1', 2, 10))\n",
    "gene.add(Site('site 1', 20, 27))\n",
    "print(gene)\n",
    "\n",
    "gene_view = GeneViewBuilder.gene_view(gene, CompositeView());\n",
    "gene_view.draw(canvas)\n",
    "\n",
    "canvas"
   ]
  }
 ],
 "metadata": {
  "kernelspec": {
   "display_name": "Python 3 (ipykernel)",
   "language": "python",
   "name": "python3"
  },
  "language_info": {
   "codemirror_mode": {
    "name": "ipython",
    "version": 3
   },
   "file_extension": ".py",
   "mimetype": "text/x-python",
   "name": "python",
   "nbconvert_exporter": "python",
   "pygments_lexer": "ipython3",
   "version": "3.9.0"
  }
 },
 "nbformat": 4,
 "nbformat_minor": 5
}
