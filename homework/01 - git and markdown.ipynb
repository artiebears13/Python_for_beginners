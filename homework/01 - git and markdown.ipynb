{
 "cells": [
  {
   "cell_type": "markdown",
   "id": "7d637ff5-e1b7-43b3-aad2-c8014915d8a7",
   "metadata": {},
   "source": [
    "# Прочитать дополнительные материалы\n",
    "\n",
    "[Начало работы с Git: подробный гайд для новичков](https://javarush.ru/groups/posts/2683-nachalo-rabotih-s-git-podrobnihy-gayd-dlja-novichkov)\n",
    "\n",
    "или\n",
    "\n",
    "[Официальная документация](https://git-scm.com/book/ru/v2/)\n",
    "* глава 2 - Основы Git\n",
    "* глава 3 - Ветвление Git\n",
    "\n",
    "Git fork. Зачем нужны форки и как с ними работать\n",
    "https://webdevkin.ru/posts/raznoe/git-fork"
   ]
  },
  {
   "cell_type": "markdown",
   "id": "e6146230-2fdc-4a10-a968-b73e2567c1a9",
   "metadata": {},
   "source": [
    "# Работа с Git"
   ]
  },
  {
   "cell_type": "markdown",
   "id": "e33ac1c9-dd1d-4335-9f94-16d8a131969f",
   "metadata": {},
   "source": [
    "* создать ветку в персональном репозитории test_1\n",
    "* переключиться на эту ветку"
   ]
  },
  {
   "cell_type": "code",
   "execution_count": null,
   "id": "70bb31ee-abf7-4648-ad1e-f9a27c3b3265",
   "metadata": {},
   "outputs": [],
   "source": [
    "# поле для решения задачи"
   ]
  },
  {
   "cell_type": "markdown",
   "id": "52dc5235-9d7d-4565-b696-1775ffd2fb56",
   "metadata": {},
   "source": [
    "# Работа с Markdown\n",
    "* создать заголовки 1, 2, 3 уровня\n",
    "* создать списки\n",
    "* создать таблицу\n",
    "* вставить картинку"
   ]
  },
  {
   "cell_type": "code",
   "execution_count": null,
   "id": "3e246bb9-7b41-493b-97a4-279d23db2838",
   "metadata": {},
   "outputs": [],
   "source": [
    "# поле для решения задачи"
   ]
  },
  {
   "cell_type": "code",
   "execution_count": null,
   "id": "5b8e2df1-f6d1-4ffa-9b2b-2c9f3d70480b",
   "metadata": {},
   "outputs": [],
   "source": [
    "# Работа с Git\n",
    "* добавить измененный файл в область индексирования\n",
    "* сделать коммит\n",
    "* перенести изменения из ветки test_1 в ветку master\n",
    "* внести изменения в персональный репозиторий на сервере"
   ]
  },
  {
   "cell_type": "code",
   "execution_count": null,
   "id": "5b1d958b-a97e-4501-af94-6d0db6d6935c",
   "metadata": {},
   "outputs": [],
   "source": [
    "# поле для решения задачи"
   ]
  },
  {
   "cell_type": "code",
   "execution_count": null,
   "id": "286b0a09-d8b3-43cf-b64d-2a7bee7ae791",
   "metadata": {},
   "outputs": [],
   "source": [
    "# поле для решения задачи"
   ]
  },
  {
   "cell_type": "code",
   "execution_count": null,
   "id": "909c1c78-1fc9-438c-ad8a-8567b11e6096",
   "metadata": {},
   "outputs": [],
   "source": [
    "# поле для решения задачи"
   ]
  },
  {
   "cell_type": "code",
   "execution_count": null,
   "id": "a78b4c6e-5e42-4d1e-b5d2-450985e5b153",
   "metadata": {},
   "outputs": [],
   "source": [
    "# поле для решения задачи"
   ]
  }
 ],
 "metadata": {
  "kernelspec": {
   "display_name": "Python 3 (ipykernel)",
   "language": "python",
   "name": "python3"
  },
  "language_info": {
   "codemirror_mode": {
    "name": "ipython",
    "version": 3
   },
   "file_extension": ".py",
   "mimetype": "text/x-python",
   "name": "python",
   "nbconvert_exporter": "python",
   "pygments_lexer": "ipython3",
   "version": "3.9.0"
  }
 },
 "nbformat": 4,
 "nbformat_minor": 5
}
