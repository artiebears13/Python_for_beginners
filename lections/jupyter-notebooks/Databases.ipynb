{
 "cells": [
  {
   "cell_type": "markdown",
   "id": "8cc43b9d-856a-4985-b2bc-34058903a76d",
   "metadata": {},
   "source": [
    "# Базы данных"
   ]
  },
  {
   "cell_type": "markdown",
   "id": "d4f189f8-41a6-4240-8c0e-4896cbcc5a2e",
   "metadata": {},
   "source": [
    "## Понятие реляционной базы данных\n",
    "\n",
    "[понятие и структура реляцинной БД](https://office-menu.ru/uroki-sql/40-opredelenie-baz-dannykh-relyatsionnye-bd)\n",
    "* первичный ключ таблицы\n",
    "* составной ключ\n",
    "* типы связей между таблицами"
   ]
  },
  {
   "cell_type": "markdown",
   "id": "79e05091-8460-49cb-8085-2bcee6bc866b",
   "metadata": {},
   "source": [
    "## Нормализация базы данных\n",
    "\n",
    "[Нормализация базы данных](https://info-comp.ru/database-normalization)\n",
    "* Нормализация – это метод проектирования базы данных, который позволяет привести базу данных к минимальной избыточности данных.\n",
    "* Избыточность данных\n",
    "\n",
    "Нормальные формы\n",
    "* [Табличный вид данных](https://info-comp.ru/zero-normal-form)\n",
    "<br/>независимость от порядка строк и столбцов\n",
    "\n",
    "* [1NF - первая нормальная форма - атомарность значений](https://info-comp.ru/first-normal-form)\n",
    "<br>в ячейках должны храниться атомарные значения\n",
    "\n",
    "* 2NF - [вторая нормальная форма - первичный ключ](https://info-comp.ru/second-normal-form)\n",
    "<br>все неключевые столбцы таблицы должны зависеть от полного ключа (в случае если он составной)\n",
    "<br>Таблица должна иметь правильный ключ, по которому можно идентифицировать каждую строку.\n",
    "<br>Если первичный ключ простой (т.е. состоит из одного столбца), то это требование автоматически выполняется.\n",
    "\n",
    "* [3NF - вторая нормальная форма - неключевые столбцы](https://info-comp.ru/second-normal-form)\n",
    "<br>Неключевые столбцы не зависят от значений других неключевых столбцов (нет транзитивной зависимости).\n",
    "<br>Нужно выносить все не ключевые поля, содержимое которых может относиться к нескольким записям таблицы в отдельные таблицы.\n",
    "\n",
    "* [BCNF - нормальная форма Бойса-Кодда] https://info-comp.ru/boyes-codd-normal-form\n",
    "<br>Часть составного первичного ключа не должна зависеть от неключевого столбца.\n",
    "<br>Таблицы, у которых первичный ключ простой, и они находятся в 3NF, автоматически находятся и в нормальной форме Бойса-Кодда.\n",
    "\n",
    "* [4NF - четвертая нормальная форма](https://info-comp.ru/fourth-normal-form)\n",
    "<br>В таблице не должно быть многозначных зависимостей. \n",
    "Пример многозначной зависимости для таблицы (A,B, C) -- A —> B и A —> C\n",
    "\n",
    "Другие варианты и примеры описания нормальных форм\n",
    "https://habr.com/ru/post/254773/\n",
    "http://www.bseu.by/it/tohod/lekcii4_5.htm"
   ]
  },
  {
   "cell_type": "markdown",
   "id": "3655a458-3899-4780-b2ef-31743b294a68",
   "metadata": {},
   "source": [
    "## ER проектирование БД\n",
    "\n",
    "* [Модель ER - сущность-связь](http://www.bseu.by/it/tohod/lekcii4_3.htm)\n",
    "\n",
    "* [ER проектирование БД](http://www.bseu.by/it/tohod/lekcii4_4.htm)\n",
    "\n",
    "* [ER диаграммы в PlantUML](https://plantuml.com/ru/ie-diagram)"
   ]
  },
  {
   "cell_type": "code",
   "execution_count": null,
   "id": "c512296e-c3cf-4b83-a262-737630b12b8b",
   "metadata": {},
   "outputs": [],
   "source": []
  },
  {
   "cell_type": "code",
   "execution_count": null,
   "id": "b1c02499-7129-42ec-a221-152cf27750af",
   "metadata": {},
   "outputs": [],
   "source": []
  },
  {
   "cell_type": "code",
   "execution_count": null,
   "id": "b9bfc1bf-bd75-4bb7-b8bc-b55efa8df411",
   "metadata": {},
   "outputs": [],
   "source": []
  }
 ],
 "metadata": {
  "kernelspec": {
   "display_name": "Python 3 (ipykernel)",
   "language": "python",
   "name": "python3"
  },
  "language_info": {
   "codemirror_mode": {
    "name": "ipython",
    "version": 3
   },
   "file_extension": ".py",
   "mimetype": "text/x-python",
   "name": "python",
   "nbconvert_exporter": "python",
   "pygments_lexer": "ipython3",
   "version": "3.9.0"
  }
 },
 "nbformat": 4,
 "nbformat_minor": 5
}
