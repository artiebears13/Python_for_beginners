{
 "cells": [
  {
   "cell_type": "markdown",
   "id": "c9e52484",
   "metadata": {
    "slideshow": {
     "slide_type": "slide"
    }
   },
   "source": [
    "### Исключения\n",
    "***\n",
    "\n",
    "Перед занятием необходимо установить через *pip* модули *pytest* и *ipytest*"
   ]
  },
  {
   "cell_type": "markdown",
   "id": "22ef9c03",
   "metadata": {},
   "source": [
    "Программа, написанная на языке Python при столкновении с ошибкой в ходе выполнения выполнит преждевременное завершение, а также выведет информацию об этой ошибке. Поскольку возникновение ошибок возможно в любой программе, очень важно иметь возможность их обнаружения и обработки без преждевременного завершения работы программы. Для того, чтобы решить эту задачу, можно, например, заставить все функции, которые используются в программе, возвращать отлавливать возможную ошибку и вощвращать код состояния. Однако данный подход приведёт только к чрезмерному усложнению структуры программы, а также к генерации большого количества одинакового кода"
   ]
  },
  {
   "cell_type": "code",
   "execution_count": null,
   "id": "99905ba4",
   "metadata": {
    "slideshow": {
     "slide_type": "slide"
    }
   },
   "outputs": [],
   "source": [
    "const ERROR = 1;\n",
    "const OK = 0;\n",
    "int save_to_file(filename) {\n",
    " int status;\n",
    " status = save_prefs_to_file(filename);\n",
    " if (status == ERROR) {\n",
    " ...обработка ошибки...\n",
    " }\n",
    " status = save_text_to_file(filename);\n",
    " if (status == ERROR) {\n",
    " ...обработка ошибки...\n",
    " }\n",
    " status = save_formats_to_file(filename);\n",
    " if (status == ERROR) {\n",
    " ...обработка ошибки...\n",
    " }\n",
    " .\n",
    " .\n",
    " .\n",
    "}\n",
    "\n",
    "int save_text_to_file(filename) {\n",
    " int status;\n",
    " status = ...низкоуровневый вызов для записи размера текста...\n",
    " if (status == ERROR) {\n",
    " return(ERROR);\n",
    " }\n",
    " status = ...низкоуровневый вызов для записи текстовых данных...\n",
    " if (status == ERROR) {\n",
    " return(ERROR);\n",
    " }\n",
    " .\n",
    " .\n",
    " ."
   ]
  },
  {
   "cell_type": "markdown",
   "id": "60e3ebcd",
   "metadata": {
    "slideshow": {
     "slide_type": "slide"
    }
   },
   "source": [
    "При решении подобной проблемы было бы полезно иметь некоторый механизм, позволяющий передавать \"на поверхность\" информацию как о самой ошибке, так и о месте её возникновения. Именно такой механизм и релизован в интерпретаторе Python. Речь идёт о механизме исключений. Данный механизм включает в себя **инициирование исключения -> перехват исключения -> обработка исключения обработчиком исключений**. При этом, для каждого типа исключений может быть свой код-обработчик."
   ]
  },
  {
   "cell_type": "markdown",
   "id": "fc1e9744",
   "metadata": {
    "slideshow": {
     "slide_type": "slide"
    }
   },
   "source": [
    "В общем виде синтаксис обработчика исключений выглядит так:"
   ]
  },
  {
   "cell_type": "code",
   "execution_count": null,
   "id": "f640cf4f",
   "metadata": {},
   "outputs": [],
   "source": [
    "try:\n",
    "    код_программы\n",
    "except тип_исключения1:\n",
    "    код_исключения1\n",
    "except тип_исключения2 as exc_2:\n",
    "    код_исключения2\n",
    "except:\n",
    "    обработка_исключения_по_умолчанию\n",
    "else: # опционально\n",
    "    код_если_не_было_ошибок\n",
    "finally: # опционально\n",
    "    код_который_выполняется_всегда"
   ]
  },
  {
   "cell_type": "code",
   "execution_count": 15,
   "id": "9e4cf112",
   "metadata": {
    "slideshow": {
     "slide_type": "slide"
    }
   },
   "outputs": [
    {
     "name": "stdout",
     "output_type": "stream",
     "text": [
      "a = 1\n",
      "b = 1\n",
      "a / b = 1.0\n"
     ]
    }
   ],
   "source": [
    "try:\n",
    "    a = int(input('a = '))\n",
    "    b = int(input('b = '))\n",
    "    print('a / b =', a/b)\n",
    "except ValueError as exc_1:\n",
    "    print(exc_1)\n",
    "except ZeroDivisionError as exc_2:\n",
    "    print('b == 0')\n",
    "    print(exc_2)"
   ]
  },
  {
   "cell_type": "code",
   "execution_count": 16,
   "id": "a62d3f80",
   "metadata": {
    "slideshow": {
     "slide_type": "slide"
    }
   },
   "outputs": [
    {
     "name": "stdout",
     "output_type": "stream",
     "text": [
      "Введите положительное число:\n",
      "2\n",
      "Квадратный корень 2 равен 1.4142135623730951\n"
     ]
    }
   ],
   "source": [
    "import math\n",
    "\n",
    "x = int(input('Введите положительное число:\\n'))\n",
    "print(f'Квадратный корень {x} равен {math.sqrt(x)}')"
   ]
  },
  {
   "cell_type": "code",
   "execution_count": null,
   "id": "e37c34cd",
   "metadata": {},
   "outputs": [],
   "source": [
    "\n",
    "x = int(input('Введите положительное число:\\n'))\n",
    "\n",
    "try:\n",
    "    print(f'Квадратный корень {x} равен {math.sqrt(x)}')\n",
    "except ValueError as ve:\n",
    "    print(f'{x} - отрицательное число')\n",
    "    "
   ]
  },
  {
   "cell_type": "markdown",
   "id": "d074c329",
   "metadata": {
    "slideshow": {
     "slide_type": "slide"
    }
   },
   "source": [
    "Инициировать исключения в Python могут как встренные функции, так и написанный вами код. Для этого используется команда **raise**. При вызове данной команды нормальное выполнение программы прерывается и в текущей цепочке вызовов ищется обработчик, способный обработать данное исключение. Если такой обработчик не будет найден, то программа завершится с сообщением об ошибке."
   ]
  },
  {
   "cell_type": "code",
   "execution_count": 12,
   "id": "3aefb727",
   "metadata": {
    "slideshow": {
     "slide_type": "slide"
    }
   },
   "outputs": [
    {
     "name": "stdout",
     "output_type": "stream",
     "text": [
      "a = 2\n",
      "b = 0\n",
      "b == 0\n",
      "ERROR: b == 0\n"
     ]
    }
   ],
   "source": [
    "try:\n",
    "    a = int(input('a = '))\n",
    "    b = int(input('b = '))\n",
    "    if b == 0:\n",
    "        raise ZeroDivisionError(\"ERROR: b == 0\")\n",
    "    print('a / b =', a/b)\n",
    "except ValueError as exc_1:\n",
    "    print(exc_1)\n",
    "except ZeroDivisionError as exc_2:\n",
    "    print(f'b == 0')\n",
    "    print(exc_2)"
   ]
  },
  {
   "cell_type": "markdown",
   "id": "d413195d",
   "metadata": {
    "slideshow": {
     "slide_type": "slide"
    }
   },
   "source": [
    "В ходе выполнения программы могут генерироваться разные типы исключений в зависимости от причины ошибки. В основе механизма исключений в Python лежит объектно-ориентированная парадигма. Python обладает довольно широким списком встроенных типов исключений:"
   ]
  },
  {
   "attachments": {
    "exceptions.png": {
     "image/png": "[encoded data removed]"
    }
   },
   "cell_type": "markdown",
   "id": "c471390a",
   "metadata": {
    "slideshow": {
     "slide_type": "slide"
    }
   },
   "source": [
    "![exceptions.png](attachment:exceptions.png)"
   ]
  },
  {
   "cell_type": "markdown",
   "id": "b7ccf4ed",
   "metadata": {
    "slideshow": {
     "slide_type": "slide"
    }
   },
   "source": [
    "#### Словарь/иерархия исключений:\n",
    "\n",
    "- BaseException - базовое исключение, от которого берут начало все остальные.\n",
    "\t- SystemExit - исключение, порождаемое функцией sys.exit при выходе из программы.\n",
    "\t- KeyboardInterrupt - порождается при прерывании программы пользователем (обычно сочетанием клавиш Ctrl+C).\n",
    "\t- GeneratorExit - порождается при вызове метода close объекта generator.\n",
    "\t- Exception - а вот тут уже заканчиваются полностью системные исключения (которые лучше не трогать) и начинаются обыкновенные, с которыми можно работать.\n",
    "\t\t- StopIteration - порождается встроенной функцией next, если в итераторе больше нет элементов.\n",
    "\t\t- ArithmeticError - арифметическая ошибка.\n",
    "\t\t\t- FloatingPointError - порождается при неудачном выполнении операции с плавающей запятой. На практике встречается нечасто.\n",
    "\t\t\t- OverflowError - возникает, когда результат арифметической операции слишком велик для представления. Не появляется при обычной работе с целыми числами (так как python поддерживает длинные числа), но может возникать в некоторых других случаях.\n",
    "\t\t\t- ZeroDivisionError - деление на ноль.\n",
    "\t\t- AssertionError - выражение в функции assert ложно.\n",
    "\t\t- AttributeError - объект не имеет данного атрибута (значения или метода).\n",
    "\t\t- BufferError - операция, связанная с буфером, не может быть выполнена.\n",
    "\t\t- EOFError - функция наткнулась на конец файла и не смогла прочитать то, что хотела.\n",
    "\t\t- ImportError - не удалось импортирование модуля или его атрибута.\n",
    "\t\t- LookupError - некорректный индекс или ключ.\n",
    "\t\t\t- IndexError - индекс не входит в диапазон элементов.\n",
    "\t\t\t- KeyError - несуществующий ключ (в словаре, множестве или другом объекте).\n",
    "\t\t- MemoryError - недостаточно памяти.\n",
    "\t\t- NameError - не найдено переменной с таким именем.\n",
    "\t\t\t- UnboundLocalError - сделана ссылка на локальную переменную в функции, но переменная не определена ранее.\n",
    "\t\t- OSError - ошибка, связанная с системой.\n",
    "\t\t\t- BlockingIOError\n",
    "\t\t\t- ChildProcessError - неудача при операции с дочерним процессом.\n",
    "\t\t\t- ConnectionError - базовый класс для исключений, связанных с подключениями.\n",
    "\t\t\t\t- BrokenPipeError\n",
    "\t\t\t\t- ConnectionAbortedError\n",
    "\t\t\t\t- ConnectionRefusedError\n",
    "\t\t\t\t- ConnectionResetError\n",
    "\t\t\t- FileExistsError - попытка создания файла или директории, которая уже существует.\n",
    "\t\t\t- FileNotFoundError - файл или директория не существует.\n",
    "\t\t\t- InterruptedError - системный вызов прерван входящим сигналом.\n",
    "\t\t\t- IsADirectoryError - ожидался файл, но это директория.\n",
    "\t\t\t- NotADirectoryError - ожидалась директория, но это файл.\n",
    "\t\t\t- PermissionError - не хватает прав доступа.\n",
    "\t\t\t- ProcessLookupError - указанного процесса не существует.\n",
    "\t\t\t- TimeoutError - закончилось время ожидания.\n",
    "\t\t- ReferenceError - попытка доступа к атрибуту со слабой ссылкой.\n",
    "\t\t- RuntimeError - возникает, когда исключение не попадает ни под одну из других категорий.\n",
    "\t\t- NotImplementedError - возникает, когда абстрактные методы класса требуют переопределения в дочерних классах.\n",
    "\t\t- SyntaxError - синтаксическая ошибка.\n",
    "\t\t\t- IndentationError - неправильные отступы.\n",
    "\t\t\t\t- TabError - смешивание в отступах табуляции и пробелов.\n",
    "\t\t- SystemError - внутренняя ошибка.\n",
    "\t\t- TypeError - операция применена к объекту несоответствующего типа.\n",
    "\t\t- ValueError - функция получает аргумент правильного типа, но некорректного значения.\n",
    "\t\t- UnicodeError - ошибка, связанная с кодированием / раскодированием unicode в строках.\n",
    "\t\t\t- UnicodeEncodeError - исключение, связанное с кодированием unicode.\n",
    "\t\t\t- UnicodeDecodeError - исключение, связанное с декодированием unicode.\n",
    "\t\t\t- UnicodeTranslateError - исключение, связанное с переводом unicode.\n",
    "\t\t- Warning - предупреждение.\n",
    "        \n",
    "*// <a href=\"https://tatyderb.gitbooks.io/python-express-course/content/chapter_exception/3_tree.html\">Источник</a>*\n"
   ]
  },
  {
   "cell_type": "markdown",
   "id": "b26adaa6",
   "metadata": {
    "slideshow": {
     "slide_type": "slide"
    }
   },
   "source": [
    "***\n",
    "Есть ли какая-то ошибка в данном случае?"
   ]
  },
  {
   "cell_type": "code",
   "execution_count": null,
   "id": "05465782",
   "metadata": {},
   "outputs": [],
   "source": [
    "try:\n",
    "    код_программы\n",
    "except ArithmeticError:\n",
    "    код_исключения1\n",
    "except ZeroDevision:\n",
    "    код_исключения2\n",
    "except Exception:\n",
    "    код_исключения3"
   ]
  },
  {
   "attachments": {
    "exceptions.png": {
     "image/png": "[encoded data removed]"
    }
   },
   "cell_type": "markdown",
   "id": "47de6c68",
   "metadata": {
    "slideshow": {
     "slide_type": "fragment"
    }
   },
   "source": [
    "![exceptions.png](attachment:exceptions.png)"
   ]
  },
  {
   "cell_type": "markdown",
   "id": "a765af31",
   "metadata": {
    "slideshow": {
     "slide_type": "slide"
    }
   },
   "source": [
    "***\n",
    "Засчёт использования парадигмы ООП достигается гибкость и расширяемость данного механизма. Каждый тип исключения представляет собой класс Python, наследующий от родительского типа исключения. Таким образом, можно говорить об их иерархической структуре. Помимо встроенных типов исключений, в языке Python есть возможность определять и генерировать собственные исключения:"
   ]
  },
  {
   "cell_type": "code",
   "execution_count": 11,
   "id": "b8e95125",
   "metadata": {
    "slideshow": {
     "slide_type": "slide"
    }
   },
   "outputs": [
    {
     "ename": "CustomError",
     "evalue": "Какое-то кастомное сообщение об ошибке",
     "output_type": "error",
     "traceback": [
      "\u001b[0;31m---------------------------------------------------------------------------\u001b[0m",
      "\u001b[0;31mCustomError\u001b[0m                               Traceback (most recent call last)",
      "\u001b[0;32m<ipython-input-11-a39d7bc0074b>\u001b[0m in \u001b[0;36m<module>\u001b[0;34m\u001b[0m\n\u001b[1;32m      2\u001b[0m     \u001b[0;32mpass\u001b[0m\u001b[0;34m\u001b[0m\u001b[0;34m\u001b[0m\u001b[0m\n\u001b[1;32m      3\u001b[0m \u001b[0;34m\u001b[0m\u001b[0m\n\u001b[0;32m----> 4\u001b[0;31m \u001b[0;32mraise\u001b[0m \u001b[0mCustomError\u001b[0m\u001b[0;34m(\u001b[0m\u001b[0;34m\"Какое-то кастомное сообщение об ошибке\"\u001b[0m\u001b[0;34m)\u001b[0m\u001b[0;34m\u001b[0m\u001b[0;34m\u001b[0m\u001b[0m\n\u001b[0m",
      "\u001b[0;31mCustomError\u001b[0m: Какое-то кастомное сообщение об ошибке"
     ]
    }
   ],
   "source": [
    "class CustomError(Exception): # Класс CustomError наследует функционал его родительского класса, Exception\n",
    "    pass\n",
    "\n",
    "raise CustomError('Какое-то кастомное сообщение об ошибке')"
   ]
  },
  {
   "cell_type": "markdown",
   "id": "f49c62a1",
   "metadata": {
    "slideshow": {
     "slide_type": "slide"
    }
   },
   "source": [
    "Как и в случае встроенных типов исключений, определённые вами исключения можно точно так же перехватыввать и обрабатывать:"
   ]
  },
  {
   "cell_type": "code",
   "execution_count": 2,
   "id": "f48b6ebf",
   "metadata": {
    "slideshow": {
     "slide_type": "subslide"
    }
   },
   "outputs": [
    {
     "name": "stdout",
     "output_type": "stream",
     "text": [
      "('Какое-то кастомное сообщение об ошибке', 'Название ошибки')\n",
      "('Какое-то кастомное сообщение об ошибке', 'Название ошибки')\n",
      "ERROR: Название ошибки\n",
      "ERROR: Какое-то кастомное сообщение об ошибке\n"
     ]
    }
   ],
   "source": [
    "class CustomError(Exception): # Класс CustomError наследует функционал его родительского класса, Exception\n",
    "    pass\n",
    "\n",
    "try:\n",
    "    raise CustomError('Какое-то кастомное сообщение об ошибке', 'Название ошибки')\n",
    "except CustomError as exc:\n",
    "    print(exc)\n",
    "    print(exc.args)\n",
    "    print('ERROR:', exc.args[1])\n",
    "    print('ERROR:', exc.args[0])"
   ]
  },
  {
   "cell_type": "markdown",
   "id": "ce4ff5be",
   "metadata": {
    "slideshow": {
     "slide_type": "slide"
    }
   },
   "source": [
    "Если исключение создается с несколькими аргументами, эти аргументы передаются\n",
    "обработчику в форме кортежа, к которому можно обратиться через переменную\n",
    "**args** объекта ошибки:"
   ]
  },
  {
   "cell_type": "code",
   "execution_count": null,
   "id": "5b159f31",
   "metadata": {
    "slideshow": {
     "slide_type": "subslide"
    }
   },
   "outputs": [],
   "source": [
    "class CustomError(Exception): # Класс CustomError наследует функционал его родительского класса, Exception\n",
    "    pass\n",
    "\n",
    "try:\n",
    "    raise CustomError('Какое-то кастомное сообщение об ошибке')\n",
    "except CustomError as exc:\n",
    "    print('ERROR:', exc)\n",
    "    "
   ]
  },
  {
   "cell_type": "markdown",
   "id": "19e3c5d3",
   "metadata": {
    "slideshow": {
     "slide_type": "slide"
    }
   },
   "source": [
    "***\n",
    "Если CustomError наследует от Exception, чем отличаются конструкции except Exception и except CustomError?"
   ]
  },
  {
   "cell_type": "markdown",
   "id": "ff87c92f",
   "metadata": {
    "slideshow": {
     "slide_type": "slide"
    }
   },
   "source": [
    "Есть ли ошибки в примере ниже?"
   ]
  },
  {
   "cell_type": "code",
   "execution_count": null,
   "id": "af6213f9",
   "metadata": {},
   "outputs": [],
   "source": [
    "try:\n",
    "    raise CustomError('Какое-то кастомное сообщение об ошибке')\n",
    "except Exception as exc_1:\n",
    "    print('Exception ERROR:', exc_1)\n",
    "except CustomError as exc_2:\n",
    "    print('CustomError ERROR:', exc_2)"
   ]
  },
  {
   "cell_type": "markdown",
   "id": "8967e916",
   "metadata": {
    "slideshow": {
     "slide_type": "slide"
    }
   },
   "source": [
    "### Менеджеры контекста и ключевое слово with"
   ]
  },
  {
   "cell_type": "code",
   "execution_count": null,
   "id": "492c7300",
   "metadata": {
    "slideshow": {
     "slide_type": "slide"
    }
   },
   "outputs": [],
   "source": [
    "try:\n",
    "    infile = open(filename)\n",
    "    data = infile.read()\n",
    "finally:\n",
    "    infile.close()"
   ]
  },
  {
   "cell_type": "markdown",
   "id": "946b1dcb",
   "metadata": {
    "slideshow": {
     "slide_type": "slide"
    }
   },
   "source": [
    "Однако, как вы уже знаете, существует более простой способ работы с файлом:"
   ]
  },
  {
   "cell_type": "code",
   "execution_count": null,
   "id": "df9772a0",
   "metadata": {},
   "outputs": [],
   "source": [
    "with open(filename) as infile:\n",
    "    data = infile.read()"
   ]
  },
  {
   "cell_type": "markdown",
   "id": "f13af36b",
   "metadata": {
    "slideshow": {
     "slide_type": "slide"
    }
   },
   "source": [
    "Менеджеры контекста превосходно подходят для таких задач, как установление и снятие блокировки ресурсов, закрытие файлов, закрепление транзакций в базах данных и т. д.<br/>\n",
    "Поскольку создание собственных менеджеров контекстов выходит за рамки данного курса, для знакомства с ними вы можете изучить документацию к встроенному модулю **contextlib**."
   ]
  },
  {
   "cell_type": "markdown",
   "id": "b8e9239d",
   "metadata": {
    "slideshow": {
     "slide_type": "slide"
    }
   },
   "source": [
    "### Команда assert"
   ]
  },
  {
   "cell_type": "markdown",
   "id": "b72aefdf",
   "metadata": {
    "slideshow": {
     "slide_type": "fragment"
    }
   },
   "source": [
    "Команда **assert** является специализированной формой команды **raise** и исользуется при обнаружении причины ошибки (отладке) программ:"
   ]
  },
  {
   "cell_type": "code",
   "execution_count": null,
   "id": "b101cbab",
   "metadata": {
    "slideshow": {
     "slide_type": "slide"
    }
   },
   "outputs": [],
   "source": [
    "assert выражение, аргумент"
   ]
  },
  {
   "cell_type": "markdown",
   "id": "c5341e82",
   "metadata": {
    "slideshow": {
     "slide_type": "subslide"
    }
   },
   "source": [
    "Аргумент является необязательным и может использоваться для передачи описания."
   ]
  },
  {
   "cell_type": "code",
   "execution_count": 8,
   "id": "281819a5",
   "metadata": {
    "scrolled": true,
    "slideshow": {
     "slide_type": "subslide"
    }
   },
   "outputs": [
    {
     "ename": "AssertionError",
     "evalue": "len(x) not > 5",
     "output_type": "error",
     "traceback": [
      "\u001b[0;31m---------------------------------------------------------------------------\u001b[0m",
      "\u001b[0;31mAssertionError\u001b[0m                            Traceback (most recent call last)",
      "\u001b[0;32m<ipython-input-8-52a42f33655e>\u001b[0m in \u001b[0;36m<module>\u001b[0;34m\u001b[0m\n\u001b[1;32m      1\u001b[0m \u001b[0mx\u001b[0m \u001b[0;34m=\u001b[0m \u001b[0;34m(\u001b[0m\u001b[0;36m1\u001b[0m\u001b[0;34m,\u001b[0m \u001b[0;36m2\u001b[0m\u001b[0;34m,\u001b[0m \u001b[0;36m3\u001b[0m\u001b[0;34m)\u001b[0m\u001b[0;34m\u001b[0m\u001b[0;34m\u001b[0m\u001b[0m\n\u001b[0;32m----> 2\u001b[0;31m \u001b[0;32massert\u001b[0m \u001b[0mlen\u001b[0m\u001b[0;34m(\u001b[0m\u001b[0mx\u001b[0m\u001b[0;34m)\u001b[0m \u001b[0;34m>\u001b[0m \u001b[0;36m5\u001b[0m\u001b[0;34m,\u001b[0m \u001b[0;34m\"len(x) not > 5\"\u001b[0m\u001b[0;34m\u001b[0m\u001b[0;34m\u001b[0m\u001b[0m\n\u001b[0m",
      "\u001b[0;31mAssertionError\u001b[0m: len(x) not > 5"
     ]
    }
   ],
   "source": [
    "x = (1, 2, 3)\n",
    "assert len(x) > 5, \"len(x) not > 5\""
   ]
  },
  {
   "cell_type": "code",
   "execution_count": 11,
   "id": "f6be62ad",
   "metadata": {
    "slideshow": {
     "slide_type": "slide"
    }
   },
   "outputs": [
    {
     "name": "stdout",
     "output_type": "stream",
     "text": [
      "7.33\n"
     ]
    },
    {
     "ename": "AssertionError",
     "evalue": "Нельзя делить на 0",
     "output_type": "error",
     "traceback": [
      "\u001b[0;31m---------------------------------------------------------------------------\u001b[0m",
      "\u001b[0;31mAssertionError\u001b[0m                            Traceback (most recent call last)",
      "\u001b[0;32m<ipython-input-11-10882c52b75e>\u001b[0m in \u001b[0;36m<module>\u001b[0;34m\u001b[0m\n\u001b[1;32m      6\u001b[0m \u001b[0mprint\u001b[0m\u001b[0;34m(\u001b[0m\u001b[0mresult\u001b[0m\u001b[0;34m)\u001b[0m\u001b[0;34m\u001b[0m\u001b[0;34m\u001b[0m\u001b[0m\n\u001b[1;32m      7\u001b[0m \u001b[0;34m\u001b[0m\u001b[0m\n\u001b[0;32m----> 8\u001b[0;31m \u001b[0ma\u001b[0m \u001b[0;34m=\u001b[0m \u001b[0mdivide\u001b[0m\u001b[0;34m(\u001b[0m\u001b[0;36m15\u001b[0m\u001b[0;34m,\u001b[0m\u001b[0;36m0\u001b[0m\u001b[0;34m)\u001b[0m\u001b[0;34m\u001b[0m\u001b[0;34m\u001b[0m\u001b[0m\n\u001b[0m\u001b[1;32m      9\u001b[0m \u001b[0mprint\u001b[0m\u001b[0;34m(\u001b[0m\u001b[0ma\u001b[0m\u001b[0;34m)\u001b[0m\u001b[0;34m\u001b[0m\u001b[0;34m\u001b[0m\u001b[0m\n",
      "\u001b[0;32m<ipython-input-11-10882c52b75e>\u001b[0m in \u001b[0;36mdivide\u001b[0;34m(x, y)\u001b[0m\n\u001b[1;32m      1\u001b[0m \u001b[0;32mdef\u001b[0m \u001b[0mdivide\u001b[0m\u001b[0;34m(\u001b[0m\u001b[0mx\u001b[0m\u001b[0;34m,\u001b[0m \u001b[0my\u001b[0m\u001b[0;34m)\u001b[0m\u001b[0;34m:\u001b[0m\u001b[0;34m\u001b[0m\u001b[0;34m\u001b[0m\u001b[0m\n\u001b[0;32m----> 2\u001b[0;31m     \u001b[0;32massert\u001b[0m \u001b[0my\u001b[0m \u001b[0;34m!=\u001b[0m \u001b[0;36m0\u001b[0m \u001b[0;34m,\u001b[0m \u001b[0;34m'Нельзя делить на 0'\u001b[0m\u001b[0;34m\u001b[0m\u001b[0;34m\u001b[0m\u001b[0m\n\u001b[0m\u001b[1;32m      3\u001b[0m     \u001b[0;32mreturn\u001b[0m \u001b[0mround\u001b[0m\u001b[0;34m(\u001b[0m\u001b[0mx\u001b[0m\u001b[0;34m/\u001b[0m\u001b[0my\u001b[0m\u001b[0;34m,\u001b[0m \u001b[0;36m2\u001b[0m\u001b[0;34m)\u001b[0m\u001b[0;34m\u001b[0m\u001b[0;34m\u001b[0m\u001b[0m\n\u001b[1;32m      4\u001b[0m \u001b[0;34m\u001b[0m\u001b[0m\n\u001b[1;32m      5\u001b[0m \u001b[0mresult\u001b[0m \u001b[0;34m=\u001b[0m \u001b[0mdivide\u001b[0m\u001b[0;34m(\u001b[0m\u001b[0;36m22\u001b[0m\u001b[0;34m,\u001b[0m\u001b[0;36m3\u001b[0m\u001b[0;34m)\u001b[0m\u001b[0;34m\u001b[0m\u001b[0;34m\u001b[0m\u001b[0m\n",
      "\u001b[0;31mAssertionError\u001b[0m: Нельзя делить на 0"
     ]
    }
   ],
   "source": [
    "def divide(x, y):\n",
    "    assert y != 0 , 'Нельзя делить на 0'\n",
    "    return round(x/y, 2)\n",
    "\n",
    "result = divide(22,3)\n",
    "print(result)\n",
    "\n",
    "a = divide(15,0)\n",
    "print(a)\n"
   ]
  },
  {
   "cell_type": "markdown",
   "id": "fd4e7d95",
   "metadata": {
    "slideshow": {
     "slide_type": "slide"
    }
   },
   "source": [
    "Если системная переменная \\__debug__ равна True, то инициируется исключение AssertionError с необязательным аргументом.</br>\n",
    "Для отключения переменной \\__debug__ следует запустить интерпретатор Python с ключом -O или -OO или присвоить системной переменной PYTHONOPTIMIZE значение True."
   ]
  },
  {
   "cell_type": "markdown",
   "id": "92a918ab",
   "metadata": {
    "slideshow": {
     "slide_type": "slide"
    }
   },
   "source": [
    "### Написание тестов. Библиотека pytest\n",
    "Необходимые библиотеки: pytest, ipytest"
   ]
  },
  {
   "cell_type": "markdown",
   "id": "b4e9ca80",
   "metadata": {
    "slideshow": {
     "slide_type": "fragment"
    }
   },
   "source": [
    "**Зачем писать тесты?**\n",
    "- Тесты проверяют работоспособность кода\n",
    "- Тесты проверяют исполнение контрактов поведения кода\n",
    "- Тесты позволяют проверять взаимодействие старого и нового кода\n",
    "- Тесты поощряют написание кода слабого зацепления\n",
    "- Тесты могут выступать в роли документации к коду\n",
    "- Тесты позволяют легче осознать, когда пора переходить к работе над другими задачами"
   ]
  },
  {
   "cell_type": "markdown",
   "id": "e2fa4999",
   "metadata": {
    "slideshow": {
     "slide_type": "slide"
    }
   },
   "source": [
    "Условно тесты можно поделить на **юнит тесты** и **интеграционные тесты**. \n",
    "\n",
    "Основная функция **юнит тестов** - проверка работоспособности отдельных компонентов программы (например, функции). В свою очередь, **интеграционные тесты** созданы для проверки функционирования комплекса модулей и/или всей системы."
   ]
  },
  {
   "cell_type": "markdown",
   "id": "524d6432",
   "metadata": {
    "slideshow": {
     "slide_type": "slide"
    }
   },
   "source": [
    "Для написания тестов в стандартной библиотеке Python существует модуль **unittest**. Однако в рамках данной лекции мы будем рассматривать наисание тестов при помощи библиотеки **pytest**. При выполнении домашнего задания вы сможете получить общее представление о встроенном модуле **unittest**. "
   ]
  },
  {
   "cell_type": "markdown",
   "id": "8f4bfb1a",
   "metadata": {
    "slideshow": {
     "slide_type": "slide"
    }
   },
   "source": [
    "#### Написание тестов при помощи библиотеки pytest"
   ]
  },
  {
   "cell_type": "code",
   "execution_count": 6,
   "id": "4bfcc454",
   "metadata": {
    "slideshow": {
     "slide_type": "-"
    }
   },
   "outputs": [
    {
     "ename": "ModuleNotFoundError",
     "evalue": "No module named 'pytest'",
     "output_type": "error",
     "traceback": [
      "\u001b[0;31m---------------------------------------------------------------------------\u001b[0m",
      "\u001b[0;31mModuleNotFoundError\u001b[0m                       Traceback (most recent call last)",
      "Cell \u001b[0;32mIn [6], line 1\u001b[0m\n\u001b[0;32m----> 1\u001b[0m \u001b[38;5;28;01mimport\u001b[39;00m \u001b[38;5;21;01mpytest\u001b[39;00m\n\u001b[1;32m      2\u001b[0m \u001b[38;5;28;01mimport\u001b[39;00m \u001b[38;5;21;01mipytest\u001b[39;00m \u001b[38;5;66;03m# библиотека для запуска тестов pytest в jupyter-ноутбуке\u001b[39;00m\n\u001b[1;32m      4\u001b[0m \u001b[38;5;28;01mdef\u001b[39;00m \u001b[38;5;21mpower\u001b[39m(x, y):\n",
      "\u001b[0;31mModuleNotFoundError\u001b[0m: No module named 'pytest'"
     ]
    }
   ],
   "source": [
    "import pytest\n",
    "import ipytest # библиотека для запуска тестов pytest в jupyter-ноутбуке\n",
    "\n",
    "def power(x, y):\n",
    "    return x ** y\n",
    "\n",
    "def test_on_power():\n",
    "    assert power(2, 8) == 256\n"
   ]
  },
  {
   "cell_type": "code",
   "execution_count": 23,
   "id": "6f64b892",
   "metadata": {
    "scrolled": true
   },
   "outputs": [
    {
     "name": "stdout",
     "output_type": "stream",
     "text": [
      "F                                                                                            [100%]\n",
      "============================================= FAILURES =============================================\n",
      "__________________________________________ test_on_power ___________________________________________\n",
      "\n",
      "    def test_on_power():\n",
      ">       assert power(2, 8) == 254\n",
      "E       AssertionError\n",
      "\n",
      "<ipython-input-20-7350afeafd18>:8: AssertionError\n",
      "===================================== short test summary info ======================================\n",
      "FAILED tmpx3lf0948.py::test_on_power - AssertionError\n"
     ]
    }
   ],
   "source": [
    "ipytest.run('-qq')"
   ]
  },
  {
   "cell_type": "code",
   "execution_count": 39,
   "id": "668659e8",
   "metadata": {
    "slideshow": {
     "slide_type": "slide"
    }
   },
   "outputs": [],
   "source": [
    "import pytest\n",
    "import ipytest # библиотека для запуска тестов pytest в jupyter-ноутбуке\n",
    "\n",
    "def division(x, y):\n",
    "    return x / y\n",
    "\n",
    "def test_on_zero_division():\n",
    "    with pytest.raises(ZeroDivisionError): \n",
    "        division(1, 0)"
   ]
  },
  {
   "cell_type": "code",
   "execution_count": 40,
   "id": "4a873b79",
   "metadata": {},
   "outputs": [
    {
     "name": "stdout",
     "output_type": "stream",
     "text": [
      "F.                                                                                           [100%]\n",
      "============================================= FAILURES =============================================\n",
      "__________________________________________ test_on_power ___________________________________________\n",
      "\n",
      "    def test_on_power():\n",
      ">       assert power(2, 8) == 254\n",
      "E       AssertionError\n",
      "\n",
      "<ipython-input-20-7350afeafd18>:8: AssertionError\n",
      "===================================== short test summary info ======================================\n",
      "FAILED tmpzqhmgig7.py::test_on_power - AssertionError\n"
     ]
    }
   ],
   "source": [
    "ipytest.run('-qq')"
   ]
  },
  {
   "cell_type": "markdown",
   "id": "5750ff84",
   "metadata": {
    "slideshow": {
     "slide_type": "slide"
    }
   },
   "source": [
    "Используя библиотеку pytest можно также создавать параметризованные тесты"
   ]
  },
  {
   "cell_type": "code",
   "execution_count": 41,
   "id": "61abe651",
   "metadata": {},
   "outputs": [],
   "source": [
    "def sym_size(line):\n",
    "    return len(line)\n",
    "\n",
    "@pytest.mark.parametrize(\n",
    "    ('line', 'expected_size'), [\n",
    "        ('AAAAAAAA', 8),\n",
    "        ('Bb!@#$%^&*', 10),\n",
    "        ('Bb!@# $%^&*', 10)\n",
    "    ]\n",
    ")\n",
    "def test_on_sym_size(line, expected_size):\n",
    "    assert sym_size(line) == expected_size\n",
    "    "
   ]
  },
  {
   "cell_type": "code",
   "execution_count": 42,
   "id": "d53c816a",
   "metadata": {},
   "outputs": [
    {
     "name": "stdout",
     "output_type": "stream",
     "text": [
      "F...F                                                                                        [100%]\n",
      "============================================= FAILURES =============================================\n",
      "__________________________________________ test_on_power ___________________________________________\n",
      "\n",
      "    def test_on_power():\n",
      ">       assert power(2, 8) == 254\n",
      "E       AssertionError\n",
      "\n",
      "<ipython-input-20-7350afeafd18>:8: AssertionError\n",
      "_________________________________ test_on_sym_size[Bb!@# $%^&*-10] _________________________________\n",
      "\n",
      "line = 'Bb!@# $%^&*', expected_size = 10\n",
      "\n",
      "    @pytest.mark.parametrize(\n",
      "        ('line', 'expected_size'), [\n",
      "            ('AAAAAAAA', 8),\n",
      "            ('Bb!@#$%^&*', 10),\n",
      "            ('Bb!@# $%^&*', 10)\n",
      "        ]\n",
      "    )\n",
      "    def test_on_sym_size(line, expected_size):\n",
      ">       assert sym_size(line) == expected_size\n",
      "E       AssertionError\n",
      "\n",
      "<ipython-input-41-f134011aeb3b>:12: AssertionError\n",
      "===================================== short test summary info ======================================\n",
      "FAILED tmphgueti4h.py::test_on_power - AssertionError\n",
      "FAILED tmphgueti4h.py::test_on_sym_size[Bb!@# $%^&*-10] - AssertionError\n"
     ]
    }
   ],
   "source": [
    "ipytest.run('-qq')"
   ]
  },
  {
   "cell_type": "markdown",
   "id": "66710d51",
   "metadata": {},
   "source": [
    "### Домашнее задание\n",
    "В рамках домашнего задания ознакомьтесь с докладом Марии Зеленовой. Её лекция поспособствует более полному формированию у вас представления о том, в чём состоит тестирование программ, какие бывают тесты, а также зачем и как и писать.<br/>\n",
    "- Видео: https://www.youtube.com/watch?v=2-EBSIRs0H4\n",
    "- Расшифровка: https://habr.com/ru/company/yandex/blog/517266/<br/>\n",
    "\\* некоторые материалы и примеры при подготовке лекции были взяты из этого доклада"
   ]
  }
 ],
 "metadata": {
  "celltoolbar": "Slideshow",
  "kernelspec": {
   "display_name": "Python 3 (ipykernel)",
   "language": "python",
   "name": "python3"
  },
  "language_info": {
   "codemirror_mode": {
    "name": "ipython",
    "version": 3
   },
   "file_extension": ".py",
   "mimetype": "text/x-python",
   "name": "python",
   "nbconvert_exporter": "python",
   "pygments_lexer": "ipython3",
   "version": "3.9.2"
  },
  "toc": {
   "base_numbering": 1,
   "nav_menu": {},
   "number_sections": false,
   "sideBar": false,
   "skip_h1_title": false,
   "title_cell": "Table of Contents",
   "title_sidebar": "Contents",
   "toc_cell": false,
   "toc_position": {},
   "toc_section_display": false,
   "toc_window_display": false
  }
 },
 "nbformat": 4,
 "nbformat_minor": 5
}
