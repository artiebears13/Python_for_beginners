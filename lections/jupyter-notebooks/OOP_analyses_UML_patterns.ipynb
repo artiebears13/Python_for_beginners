{
 "cells": [
  {
   "cell_type": "markdown",
   "id": "9ad0412b-c770-4eb7-a5ea-1e9679173c0c",
   "metadata": {},
   "source": [
    "# Объектно-ориентированное проектирование и дизайн\n"
   ]
  },
  {
   "cell_type": "markdown",
   "id": "cb20b742-23ec-4ed3-ba18-c0dd647ba409",
   "metadata": {
    "slideshow": {
     "slide_type": "slide"
    },
    "tags": []
   },
   "source": [
    "## ООП - моделирование предметной области\n",
    "\n",
    "В основе ООП лежит моделирование предметной области (DDD - Domen Driven Development).\n",
    "\n",
    "Этим занимается архитектор.\n",
    "\n",
    "Материалы\n",
    "* [Что такое объектно-ориентированное программирование?](https://docs.microsoft.com/ru-ru/learn/modules/python-object-oriented-programming/2-what-is-oop)"
   ]
  },
  {
   "cell_type": "markdown",
   "id": "32221c05-c0bd-498f-b0be-35f4da9a29d9",
   "metadata": {
    "slideshow": {
     "slide_type": "slide"
    },
    "tags": []
   },
   "source": [
    "Независимо от парадигмы программы используют для решения проблем одну последовательность действий:\n",
    "\n",
    "* __Ввод данных__ - данные считываются из какого-либо источника, которым может быть хранилище данных, например файловая система или база данных.\n",
    "* __Обработка__ - данные интерпретируются и, возможно, изменяются для подготовки к отображению.\n",
    "* __Вывод данных__ - данные представляются таким образом, чтобы их могли прочитать и использовать физический пользователь или система.\n"
   ]
  },
  {
   "cell_type": "markdown",
   "id": "5f1ff18b-df37-463b-a3f5-9721c826f04f",
   "metadata": {
    "slideshow": {
     "slide_type": "slide"
    },
    "tags": []
   },
   "source": [
    "Для выполнения моделирования нужно уметь определять субъектов, необходимые данные и тип возникающего взаимодействия.\n",
    "\n",
    "__1 шаг - идентификация субъектов (классов)__. Они называются субъектами, поскольку действуют и выполняют действие. \n",
    "\n",
    "Например, принтер (субъект) выводит данные на печать (действие).\n",
    "\n",
    "![image.png](https://docs.microsoft.com/ru-ru/learn/modules/python-object-oriented-programming/media/printer.png)\n",
    "\n",
    "__2 шаг- определение поведения (функций классов)__. Определив субъекты, вы смотрите, что они делают, — это их поведение. \n",
    "\n",
    "__3 шаг - определение данных, необходимых для выполнения действий (аргументы фукнций)__. Для этого вы просматриваете описания субъектов и данные, необходимые для выполнения действия. \n",
    "\n",
    "__4 шаг - определение свойств субъектов (аттрибутов классов)__."
   ]
  },
  {
   "cell_type": "markdown",
   "id": "13e7a872-8167-4772-beb9-fd20ddbb6a18",
   "metadata": {
    "slideshow": {
     "slide_type": "slide"
    },
    "tags": []
   },
   "source": [
    "## Пример - система управление счетами\n",
    "\n",
    "Рассмотрим систему управления счетами. \n",
    "\n",
    "Многие компании получают счета, которые нужно вовремя оплачивать. Задержка платежей приводит к штрафам за просрочку и, соответственно, к потере средств. Перед оплатой счет нужно обработать. Обычно счет проходит через несколько рук, прежде чем будет где-либо зарегистрирован и оплачен.\n",
    "\n",
    "Обычно процесс начинается с этапа начальной сортировки, когда счет отправляется в соответствующий отдел. Затем счет проверяется на правильность и утверждается пользователем, имеющим соответствующий уровень авторизации. Наконец, счет оплачивается. В малом предприятии все эти действия может выполнять владелец. В крупной компании в этой процедуре может принимать участие множество людей и процессов, что превращает управление счетами в сложную деятельность.\n",
    "\n",
    "![image.png](https://docs.microsoft.com/ru-ru/learn/modules/python-object-oriented-programming/media/sort-invoice.png)"
   ]
  },
  {
   "cell_type": "markdown",
   "id": "0d41bb96-f497-422f-9d03-7963e53d4a59",
   "metadata": {
    "slideshow": {
     "slide_type": "slide"
    },
    "tags": []
   },
   "source": [
    "Если вы считаете, что проблемная область включает этапы, входные данные, обработку и выходные данные, то можете начать заполнение, как показано в следующей таблице.\n",
    "\n",
    "\n",
    "| Этап | Данные (субъект, объект) |\n",
    "| ---- | --- |\n",
    "| Входные данные | Счет |\n",
    "| Обработка | Сортировка, утверждение, отклонение |\n",
    "| Выходные данные | Платеж |\n",
    "\n",
    "В приведенной выше таблице описывается, что происходит на каждом этапе. \n",
    "\n",
    "Вы смогли найти данные, что происходит с данными во время обработки и конечный результат, которым является платеж. \n",
    "\n",
    "На этом этапе еще можно решить рабочий процесс управления счетами с любой парадигмой на выбор. Как перевести его в ООП?"
   ]
  },
  {
   "cell_type": "markdown",
   "id": "99eea0ea-b9ef-4d28-9b72-b63da828d983",
   "metadata": {
    "slideshow": {
     "slide_type": "slide"
    },
    "tags": []
   },
   "source": [
    "__Найти объекты, данные и поведение__\n",
    "\n",
    "Чтобы найти различные артефакты системы, задайте следующие вопросы:\n",
    "\n",
    "* __Кто__ и _с кем_ <u>взаимодействует</u>?\n",
    "* __Кто__ <u>что делает</u> и _с кем_?\n",
    "\n",
    "__Субъект__ <u>использует</u> _объект (данные)_.\n",
    "\n",
    "Ответы на эти вопросы помогут вам определиться с инструкциями. "
   ]
  },
  {
   "cell_type": "markdown",
   "id": "a71e444e-1517-4ee1-8af1-1d90e1fe4d19",
   "metadata": {
    "slideshow": {
     "slide_type": "slide"
    },
    "tags": []
   },
   "source": [
    "Давайте выделим в этих инструкциях различные артефакты, чтобы стало понятно, какие части важны для нашей системы.\n",
    "\n",
    "* __Почтовая служба__ <u>доставляет</u> _счет_ в _систему_.\n",
    "* _Счет_ <u>сортируется</u> с помощью _справочного кода_ __системой__ или вручную __сортировщиком__, чтобы _счет_ <u>попал</u> в соответствующий _отдел_.\n",
    "* _Счет_ <u>утверждается или отклоняется</u> __утверждающим лицом__ с учетом таких факторов, как, например, _правильность и размер суммы_.\n",
    "* _Счет_ <u>оплачивается</u> __обработчиком платежей__ с использованием _предоставленной платежной информации_."
   ]
  },
  {
   "cell_type": "markdown",
   "id": "8bb04dca-e00a-4a29-beb9-71f41f389b51",
   "metadata": {
    "slideshow": {
     "slide_type": "slide"
    },
    "tags": []
   },
   "source": [
    "Теперь можно извлечь объекты, данные и поведение из предложений и упорядочить их в таблице следующим образом:\n",
    "\n",
    "|Этап | Субъект | Поведение | Данные |\n",
    "|-----| --------| --------- | ------ |\n",
    "|Входные данные | Почтовая служба | Доставляет | Счет |\n",
    "|Входные данные | Система | Получает | Счет |\n",
    "|Обработка | Сортировщики или система | Сортирует или направляет | Счет (ссылочный код) |\n",
    "|Обработка | Утверждающий | Утверждает или отклоняет | Счет (сумма) |\n",
    "|Выходные данные| Обработчик платежей | Оплачивает | Счет (платежная информация) |"
   ]
  },
  {
   "cell_type": "markdown",
   "id": "de54da8f-a783-4330-928b-545dec55ade6",
   "metadata": {
    "slideshow": {
     "slide_type": "slide"
    },
    "tags": []
   },
   "source": [
    "Первоначальное описание системы управления счетами существенно изменилось. \n",
    "* Были найдены субъекты (объекты). \n",
    "* Были обнаружены и сгруппированы с идентифицированными объектами важные данные. \n",
    "* Также было обнаружено поведение, что позволило понять, какие субъекты (объекты) взаимодействуют друг с другом. \n",
    "\n",
    "В результате вы смогли точно определить, кто какие действия выполняет и с кем. \n",
    "\n",
    "К этому моменту вы уже выполнили первоначальный анализ, положив отличное начало. \n",
    "Но остается вопрос: как превратить этот анализ в код? Ответ на этот вопрос мы будем рассматривать в данном модуле.\n",
    "\n",
    "Примечание\n",
    "В реальности система управления счетами гораздо сложнее и может требовать намного больше данных и логики. Такое моделирование системы означает, что у вас есть структурированный подход к обдумыванию проблемы."
   ]
  },
  {
   "cell_type": "markdown",
   "id": "13e7ef98-5253-4498-93fc-0413fbb8e0aa",
   "metadata": {
    "slideshow": {
     "slide_type": "slide"
    },
    "tags": []
   },
   "source": [
    "## UML - Unified Modelling Language\n",
    "\n",
    "* https://evergreens.com.ua/ru/articles/uml-diagrams.html\n",
    "* https://worksolutions.ru/blog/why-use-uml/\n",
    "* http://www.kgau.ru/istiki/umk/mbp/ch16.html"
   ]
  },
  {
   "cell_type": "markdown",
   "id": "76a5c156-da93-4b84-afd6-243573e57854",
   "metadata": {},
   "source": [
    "### PlantUML и Kroki\n",
    "\n",
    "* [PlantUML](https://plantuml.com/ru/) - текстовый формат для рисования UML диаграмм\n",
    "* [kroki](https://kroki.io/) - сервер, поддерживающий множество текстовых форматов и движков для представления диаграмм\n",
    "* [cell magics](https://github.com/sunhwan/jupyter-kroki-magic https://ipython.readthedocs.io/en/stable/config/custommagics.html#defining-magics) "
   ]
  },
  {
   "cell_type": "code",
   "execution_count": 2,
   "id": "ee5070b8-5489-4d8f-a47d-1446c0d27f2d",
   "metadata": {
    "slideshow": {
     "slide_type": "slide"
    },
    "tags": []
   },
   "outputs": [],
   "source": [
    "# поддержка типа клеток %%kroki\n",
    "import requests\n",
    "from IPython.display import SVG, display\n",
    "from IPython.core.magic import register_cell_magic\n",
    "\n",
    "diagrams_supported = set(['blockdiag', 'seqdiag', 'mermaid', 'actdiag', 'nwdiag',\n",
    "                          'packetdiag', 'rackdiag', 'erd', 'nomnoml', 'plantuml',\n",
    "                          'umlet', 'wavedrom', 'bpmn', 'bytefield', 'pikchr',\n",
    "                          'graphviz', 'vega', 'vega-lite', 'ditaa', 'svgbob'])\n",
    "\n",
    "\n",
    "@register_cell_magic\n",
    "def kroki(line, cell):\n",
    "        \"simple wrapper for kroki.io\"\n",
    "        \n",
    "        if line not in diagrams_supported:\n",
    "            raise NotImplemented\n",
    "            \n",
    "        url = 'https://kroki.io'\n",
    "        r = requests.post(f'{url}/{line}/svg', json={'diagram_source': cell})\n",
    "        if r.status_code == 200:\n",
    "            return display(SVG(r.text))\n",
    "        else:\n",
    "            raise ValueError"
   ]
  },
  {
   "cell_type": "code",
   "execution_count": 3,
   "id": "ecc9cbf3-66f3-4960-9bfa-9c449606dce6",
   "metadata": {},
   "outputs": [
    {
     "data": {
      "image/svg+xml": [
       "<svg xmlns=\"http://www.w3.org/2000/svg\" xmlns:xlink=\"http://www.w3.org/1999/xlink\" contentScriptType=\"application/ecmascript\" contentStyleType=\"text/css\" height=\"311px\" preserveAspectRatio=\"none\" style=\"width:291px;height:311px;background:#FFFFFF;\" version=\"1.1\" viewBox=\"0 0 291 311\" width=\"291px\" zoomAndPan=\"magnify\"><defs><filter height=\"300%\" id=\"fsmzdywlff851\" width=\"300%\" x=\"-1\" y=\"-1\"><feGaussianBlur result=\"blurOut\" stdDeviation=\"2.0\"/><feColorMatrix in=\"blurOut\" result=\"blurOut2\" type=\"matrix\" values=\"0 0 0 0 0 0 0 0 0 0 0 0 0 0 0 0 0 0 .4 0\"/><feOffset dx=\"4.0\" dy=\"4.0\" in=\"blurOut2\" result=\"blurOut3\"/><feBlend in=\"SourceGraphic\" in2=\"blurOut3\" mode=\"normal\"/></filter></defs><g><!--MD5=[b4fa10df80476353258f72a232547d63]\n",
       "class AbstractList--><rect codeLine=\"1\" fill=\"#FEFECE\" filter=\"url(#fsmzdywlff851)\" height=\"48\" id=\"AbstractList\" style=\"stroke:#A80036;stroke-width:1.5;\" width=\"95\" x=\"172.5\" y=\"115\"/><ellipse cx=\"187.5\" cy=\"131\" fill=\"#A9DCDF\" rx=\"11\" ry=\"11\" style=\"stroke:#A80036;stroke-width:1.0;\"/><path d=\"M188.4531,134.6563 Q188.4531,134.1563 188.7344,133.9844 Q189.0313,133.7969 189.5781,133.7969 L189.9688,133.7969 L189.5781,132.8125 L185.5313,132.8125 L185.1406,133.7969 L185.5313,133.7969 Q186.6406,133.7969 186.6406,134.6563 Q186.6406,135.5 185.5313,135.5 L183.2656,135.5 Q182.1406,135.5 182.1406,134.6563 Q182.1406,134.1406 182.4375,133.9688 Q182.7344,133.7969 183.2813,133.7969 L185.9219,127.2813 L184.8438,127.2813 Q183.7031,127.2813 183.7031,126.4375 Q183.7031,125.9219 184,125.7656 Q184.2969,125.5938 184.8438,125.5938 L188.5156,125.5938 L191.9063,133.7969 Q193.0625,133.7969 193.0625,134.6563 Q193.0625,135.5 191.9375,135.5 L189.5781,135.5 Q188.4531,135.5 188.4531,134.6563 Z M188.875,131.1094 L187.5469,127.8438 L186.2031,131.1094 L188.875,131.1094 Z \" fill=\"#000000\"/><text fill=\"#000000\" font-family=\"sans-serif\" font-size=\"12\" font-style=\"italic\" lengthAdjust=\"spacing\" textLength=\"63\" x=\"201.5\" y=\"135.8\">AbstractList</text><line style=\"stroke:#A80036;stroke-width:1.5;\" x1=\"173.5\" x2=\"266.5\" y1=\"147\" y2=\"147\"/><line style=\"stroke:#A80036;stroke-width:1.5;\" x1=\"173.5\" x2=\"266.5\" y1=\"155\" y2=\"155\"/><!--MD5=[8e34b16d8d8f96f4a11290cd523ed859]\n",
       "class AbstractCollection--><rect codeLine=\"2\" fill=\"#FEFECE\" filter=\"url(#fsmzdywlff851)\" height=\"48\" id=\"AbstractCollection\" style=\"stroke:#A80036;stroke-width:1.5;\" width=\"130\" x=\"7\" y=\"115\"/><ellipse cx=\"22\" cy=\"131\" fill=\"#A9DCDF\" rx=\"11\" ry=\"11\" style=\"stroke:#A80036;stroke-width:1.0;\"/><path d=\"M22.9531,134.6563 Q22.9531,134.1563 23.2344,133.9844 Q23.5313,133.7969 24.0781,133.7969 L24.4688,133.7969 L24.0781,132.8125 L20.0313,132.8125 L19.6406,133.7969 L20.0313,133.7969 Q21.1406,133.7969 21.1406,134.6563 Q21.1406,135.5 20.0313,135.5 L17.7656,135.5 Q16.6406,135.5 16.6406,134.6563 Q16.6406,134.1406 16.9375,133.9688 Q17.2344,133.7969 17.7813,133.7969 L20.4219,127.2813 L19.3438,127.2813 Q18.2031,127.2813 18.2031,126.4375 Q18.2031,125.9219 18.5,125.7656 Q18.7969,125.5938 19.3438,125.5938 L23.0156,125.5938 L26.4063,133.7969 Q27.5625,133.7969 27.5625,134.6563 Q27.5625,135.5 26.4375,135.5 L24.0781,135.5 Q22.9531,135.5 22.9531,134.6563 Z M23.375,131.1094 L22.0469,127.8438 L20.7031,131.1094 L23.375,131.1094 Z \" fill=\"#000000\"/><text fill=\"#000000\" font-family=\"sans-serif\" font-size=\"12\" font-style=\"italic\" lengthAdjust=\"spacing\" textLength=\"98\" x=\"36\" y=\"135.8\">AbstractCollection</text><line style=\"stroke:#A80036;stroke-width:1.5;\" x1=\"8\" x2=\"136\" y1=\"147\" y2=\"147\"/><line style=\"stroke:#A80036;stroke-width:1.5;\" x1=\"8\" x2=\"136\" y1=\"155\" y2=\"155\"/><!--MD5=[3d4177ac58b4411586d067f34e84928f]\n",
       "class List--><rect codeLine=\"3\" fill=\"#FEFECE\" filter=\"url(#fsmzdywlff851)\" height=\"48\" id=\"List\" style=\"stroke:#A80036;stroke-width:1.5;\" width=\"51\" x=\"183.5\" y=\"7\"/><ellipse cx=\"198.5\" cy=\"23\" fill=\"#B4A7E5\" rx=\"11\" ry=\"11\" style=\"stroke:#A80036;stroke-width:1.0;\"/><path d=\"M201.1719,26.2969 Q201.7188,26.2969 202,26.4844 Q202.2813,26.6563 202.2813,27.1563 Q202.2813,28 201.1719,28 L196.0313,28 Q194.9063,28 194.9063,27.1563 Q194.9063,26.6563 195.1875,26.4844 Q195.4844,26.2969 196.0313,26.2969 L197.75,26.2969 L197.75,19.7813 L196.0313,19.7813 Q194.9063,19.7813 194.9063,18.9375 Q194.9063,18.4531 195.1875,18.2813 Q195.4844,18.0938 196.0313,18.0938 L201.1719,18.0938 Q201.7188,18.0938 202,18.2813 Q202.2813,18.4531 202.2813,18.9375 Q202.2813,19.7813 201.1719,19.7813 L199.4531,19.7813 L199.4531,26.2969 L201.1719,26.2969 Z \" fill=\"#000000\"/><text fill=\"#000000\" font-family=\"sans-serif\" font-size=\"12\" font-style=\"italic\" lengthAdjust=\"spacing\" textLength=\"19\" x=\"212.5\" y=\"27.8\">List</text><line style=\"stroke:#A80036;stroke-width:1.5;\" x1=\"184.5\" x2=\"233.5\" y1=\"39\" y2=\"39\"/><line style=\"stroke:#A80036;stroke-width:1.5;\" x1=\"184.5\" x2=\"233.5\" y1=\"47\" y2=\"47\"/><!--MD5=[c160724f8e3bb89ca8141a12554ac2e3]\n",
       "class Collection--><rect codeLine=\"4\" fill=\"#FEFECE\" filter=\"url(#fsmzdywlff851)\" height=\"48\" id=\"Collection\" style=\"stroke:#A80036;stroke-width:1.5;\" width=\"86\" x=\"51\" y=\"7\"/><ellipse cx=\"66\" cy=\"23\" fill=\"#B4A7E5\" rx=\"11\" ry=\"11\" style=\"stroke:#A80036;stroke-width:1.0;\"/><path d=\"M68.6719,26.2969 Q69.2188,26.2969 69.5,26.4844 Q69.7813,26.6563 69.7813,27.1563 Q69.7813,28 68.6719,28 L63.5313,28 Q62.4063,28 62.4063,27.1563 Q62.4063,26.6563 62.6875,26.4844 Q62.9844,26.2969 63.5313,26.2969 L65.25,26.2969 L65.25,19.7813 L63.5313,19.7813 Q62.4063,19.7813 62.4063,18.9375 Q62.4063,18.4531 62.6875,18.2813 Q62.9844,18.0938 63.5313,18.0938 L68.6719,18.0938 Q69.2188,18.0938 69.5,18.2813 Q69.7813,18.4531 69.7813,18.9375 Q69.7813,19.7813 68.6719,19.7813 L66.9531,19.7813 L66.9531,26.2969 L68.6719,26.2969 Z \" fill=\"#000000\"/><text fill=\"#000000\" font-family=\"sans-serif\" font-size=\"12\" font-style=\"italic\" lengthAdjust=\"spacing\" textLength=\"54\" x=\"80\" y=\"27.8\">Collection</text><line style=\"stroke:#A80036;stroke-width:1.5;\" x1=\"52\" x2=\"136\" y1=\"39\" y2=\"39\"/><line style=\"stroke:#A80036;stroke-width:1.5;\" x1=\"52\" x2=\"136\" y1=\"47\" y2=\"47\"/><!--MD5=[ab8871ed637f40707b866ba6597734bc]\n",
       "class ArrayList--><rect codeLine=\"13\" fill=\"#FEFECE\" filter=\"url(#fsmzdywlff851)\" height=\"74.3998\" id=\"ArrayList\" style=\"stroke:#A80036;stroke-width:1.5;\" width=\"115\" x=\"162.5\" y=\"223\"/><ellipse cx=\"193.25\" cy=\"239\" fill=\"#ADD1B2\" rx=\"11\" ry=\"11\" style=\"stroke:#A80036;stroke-width:1.0;\"/><path d=\"M192.6094,242.7813 Q193.4063,242.7813 193.9688,242.5938 Q194.5469,242.3906 194.7813,242.1719 Q195.0313,241.9375 195.2656,241.75 Q195.5156,241.5469 195.7344,241.5469 Q196.0781,241.5469 196.3281,241.8125 Q196.5938,242.0625 196.5938,242.3906 Q196.5938,243.125 195.4219,243.8125 Q194.2656,244.4844 192.5625,244.4844 Q190.4063,244.4844 188.9844,243.2188 Q187.5625,241.9531 187.5625,240.0156 L187.5625,238.8906 Q187.5625,236.8594 188.8906,235.4844 Q190.2188,234.0938 192.1875,234.0938 Q193.375,234.0938 194.5938,234.6719 L194.7656,234.75 Q195.0625,234.3438 195.4844,234.3438 Q195.9688,234.3438 196.1406,234.6406 Q196.3281,234.9219 196.3281,235.4688 L196.3281,236.8906 Q196.3281,238.0156 195.4844,238.0156 Q195.1719,238.0156 194.9688,237.8438 Q194.7813,237.6719 194.7344,237.5313 Q194.7031,237.375 194.6563,237.1094 Q194.5469,236.5938 194.0313,236.2813 Q193.5156,235.9688 193.0625,235.8906 Q192.625,235.7969 192.25,235.7969 Q190.9688,235.7969 190.1094,236.6719 Q189.2656,237.5469 189.2656,238.8906 L189.2656,239.9844 Q189.2656,241.2656 190.1719,242.0313 Q191.0781,242.7813 192.6094,242.7813 Z \" fill=\"#000000\"/><text fill=\"#000000\" font-family=\"sans-serif\" font-size=\"12\" lengthAdjust=\"spacing\" textLength=\"48\" x=\"210.75\" y=\"243.8\">ArrayList</text><line style=\"stroke:#A80036;stroke-width:1.5;\" x1=\"163.5\" x2=\"276.5\" y1=\"255\" y2=\"255\"/><text fill=\"#000000\" font-family=\"sans-serif\" font-size=\"11\" lengthAdjust=\"spacing\" textLength=\"103\" x=\"168.5\" y=\"269.9999\">Object[] elementData</text><line style=\"stroke:#A80036;stroke-width:1.5;\" x1=\"163.5\" x2=\"276.5\" y1=\"276.1999\" y2=\"276.1999\"/><text fill=\"#000000\" font-family=\"sans-serif\" font-size=\"11\" lengthAdjust=\"spacing\" textLength=\"26\" x=\"168.5\" y=\"291.1998\">size()</text><!--MD5=[00308d07b6a5721fb0cf5861877e6652]\n",
       "reverse link List to AbstractList--><path codeLine=\"6\" d=\"M213.46,75.02 C214.87,88.58 216.37,103.04 217.58,114.68 \" fill=\"none\" id=\"List-backto-AbstractList\" style=\"stroke:#A80036;stroke-width:1.0;\"/><polygon fill=\"none\" points=\"206.49,75.62,211.39,55,220.41,74.17,206.49,75.62\" style=\"stroke:#A80036;stroke-width:1.0;\"/><!--MD5=[1822909749df1453bdd84de7a60a3406]\n",
       "reverse link Collection to AbstractCollection--><path codeLine=\"7\" d=\"M85.07,75.02 C82.26,88.58 79.26,103.04 76.84,114.68 \" fill=\"none\" id=\"Collection-backto-AbstractCollection\" style=\"stroke:#A80036;stroke-width:1.0;\"/><polygon fill=\"none\" points=\"78.31,73.16,89.23,55,92.02,76.01,78.31,73.16\" style=\"stroke:#A80036;stroke-width:1.0;\"/><!--MD5=[0159284274f96a472eb2618ad803aaca]\n",
       "reverse link Collection to List--><path codeLine=\"9\" d=\"M157.39,31 C166.08,31 174.76,31 183.45,31 \" fill=\"none\" id=\"Collection-backto-List\" style=\"stroke:#A80036;stroke-width:1.0;\"/><polygon fill=\"none\" points=\"157.13,38,137.12,31,157.12,24,157.13,38\" style=\"stroke:#A80036;stroke-width:1.0;\"/><!--MD5=[7a3a52e8f65ef1a8d8d29530ea5cd870]\n",
       "reverse link AbstractCollection to AbstractList--><path codeLine=\"10\" d=\"M157.18,139 C162.24,139 167.3,139 172.36,139 \" fill=\"none\" id=\"AbstractCollection-backto-AbstractList\" style=\"stroke:#A80036;stroke-width:1.0;\"/><polygon fill=\"none\" points=\"157.04,146,137.04,139,157.04,132,157.04,146\" style=\"stroke:#A80036;stroke-width:1.0;\"/><!--MD5=[40e4bb1af59cca28d4643aaff05088cc]\n",
       "reverse link AbstractList to ArrayList--><path codeLine=\"11\" d=\"M220,183.43 C220,196.33 220,210.32 220,222.71 \" fill=\"none\" id=\"AbstractList-backto-ArrayList\" style=\"stroke:#A80036;stroke-width:1.0;\"/><polygon fill=\"none\" points=\"213,183.23,220,163.23,227,183.23,213,183.23\" style=\"stroke:#A80036;stroke-width:1.0;\"/><!--MD5=[8c57b88c7543ba66b17f20f1b341b7e0]\n",
       "@startuml\n",
       "abstract class AbstractList\n",
       "abstract AbstractCollection\n",
       "interface List\n",
       "interface Collection\n",
       "\n",
       "List <|- - AbstractList\n",
       "Collection <|- - AbstractCollection\n",
       "\n",
       "Collection <|- List\n",
       "AbstractCollection <|- AbstractList\n",
       "AbstractList <|- - ArrayList\n",
       "\n",
       "class ArrayList {\n",
       "  Object[] elementData\n",
       "  size()\n",
       "}\n",
       "@enduml\n",
       "\n",
       "PlantUML version 1.2021.8(Sat Jun 26 08:20:59 GMT 2021)\n",
       "(GPL source distribution)\n",
       "Java Runtime: OpenJDK Runtime Environment\n",
       "JVM: OpenJDK 64-Bit Server VM\n",
       "Default Encoding: UTF-8\n",
       "Language: en\n",
       "Country: US\n",
       "--></g></svg>"
      ],
      "text/plain": [
       "<IPython.core.display.SVG object>"
      ]
     },
     "metadata": {},
     "output_type": "display_data"
    }
   ],
   "source": [
    "%%kroki plantuml\n",
    "\n",
    "abstract class AbstractList\n",
    "abstract AbstractCollection\n",
    "interface List\n",
    "interface Collection\n",
    "\n",
    "List <|-- AbstractList\n",
    "Collection <|-- AbstractCollection\n",
    "\n",
    "Collection <|- List\n",
    "AbstractCollection <|- AbstractList\n",
    "AbstractList <|-- ArrayList\n",
    "\n",
    "class ArrayList {\n",
    "  Object[] elementData\n",
    "  size()\n",
    "}"
   ]
  },
  {
   "cell_type": "markdown",
   "id": "639bc93f-c90a-4bf9-8cb6-fbdc2ee3010d",
   "metadata": {
    "slideshow": {
     "slide_type": "slide"
    },
    "tags": []
   },
   "source": [
    "## Паттерны проектирования\n",
    "\n",
    "Есть набор шаблонов проектирования (Design patterns) - как построить набор \n",
    "и взаимоотношение классов в определенном контексте для решения определенной задачи.\n",
    "\n",
    "[Философские предпосылки паттернов проектирования](https://gitlab.sirius-web.org/courses/python-for-beginners/-/raw/master/lections/presentations/roots%20of%20design%20patterns.ppt)\n",
    "\n",
    "Ресурсы:\n",
    "* [Каталог паттернов GoF](https://refactoring.guru/ru/design-patterns)\n",
    "* [Паттерны GoF на Python](https://github.com/pkolt/design_patterns)\n",
    "* [Шпаргалка по GoF паттернам](https://habr.com/ru/post/210288/)\n",
    "\n",
    "<img src=\"https://habrastorage.org/r/w1560/getpro/habr/post_images/66e/310/342/66e31034214f6fa11f949b24325ae995.jpg\">"
   ]
  }
 ],
 "metadata": {
  "kernelspec": {
   "display_name": "Python 3 (ipykernel)",
   "language": "python",
   "name": "python3"
  },
  "language_info": {
   "codemirror_mode": {
    "name": "ipython",
    "version": 3
   },
   "file_extension": ".py",
   "mimetype": "text/x-python",
   "name": "python",
   "nbconvert_exporter": "python",
   "pygments_lexer": "ipython3",
   "version": "3.9.0"
  }
 },
 "nbformat": 4,
 "nbformat_minor": 5
}
