{
 "cells": [
  {
   "cell_type": "markdown",
   "id": "79667551",
   "metadata": {
    "slideshow": {
     "slide_type": "slide"
    }
   },
   "source": [
    "# Функции\n",
    "\n",
    "Что такое функция? Функция это такой объект в Python, который может принимать аргументы, а также возвращать результат. По сути, функция - это такой изолированный участок кода, в котором можно производить какое-то действие и получать результат этого действия обратно в код. Чтобы было понятнее представим, что код - это цех по производству. Рассмотрим 2 цеха на рисунке а и б:"
   ]
  },
  {
   "cell_type": "markdown",
   "id": "c1e4aba8",
   "metadata": {
    "slideshow": {
     "slide_type": "slide"
    }
   },
   "source": [
    "Видно, что на рисунке б, все гораздо понятнее, структурированее. Сразу же можно понять, где какой отдел, кто за что отвечает, а на рисунке а просто какая-то сутоха. Вот также и с кодом - функции это невероятно мощный инструмент для того, чтобы во первых структурировать код, делать его более читаемым, а самое главное функции позволяют удалять дубликаты кода, т.е. если к примеру, у вас в коде 10 раз повторяется открытие файла, можно его записать 1 раз в функцию и дальше обращаться к ней и не дублировать множество раз код. В Python функции определяются ключевым словом def. Общая запись функции выглядит следующим образом:  \n",
    "def 'название_функции'(аргумент1, аргумент2, аргумент3 .....):  \n",
    "    return  \n",
    "    \n",
    "Названия функций должны также разделяться нижним подчеркиванием, хотя допускается использование заглавной буквы для разделения: названиеФункции, но в случаях если в коде уже используется такой стиль. Функции могут передаваться аргументы, а могу и не передаваться, тогда ничего передавать ей в скобочках не нужно.  Также после двоеточия идет какой-то блок выполняющий какие-то действия и если необходимо, чтобы функция вернула что-то на выходе, то это прописывается в return. Важно помнить, что return может вернуть лишь 1 объект любого типа данных, поэтому если есть необходимость вернуть, к примеру, в результате несколько чисел - стоит положить результаты в список (или кортеж, словарь и т.п.). Рассмотрим на самом простом примере функцию складывающую числа:"
   ]
  },
  {
   "cell_type": "code",
   "execution_count": 9,
   "id": "e545226e",
   "metadata": {
    "slideshow": {
     "slide_type": "slide"
    }
   },
   "outputs": [
    {
     "data": {
      "text/plain": [
       "6"
      ]
     },
     "execution_count": 9,
     "metadata": {},
     "output_type": "execute_result"
    }
   ],
   "source": [
    "def count_numbers(n1, n2):\n",
    "    return n1 + n2\n",
    "\n",
    "count_numbers(1,5)\n"
   ]
  },
  {
   "cell_type": "markdown",
   "id": "0a8028ef",
   "metadata": {
    "slideshow": {
     "slide_type": "slide"
    }
   },
   "source": [
    "## Аргументы передаваемые функции\n",
    "\n",
    "В функцию могут передаваться любое количество аргументов, которое будет указано функции. Передать параметр можно 2 способами и в зависимости от этого передача называется либо позиционная передача, либо передача аргументов по имени. В примере ранее был пример передачи параметров по позиции, т.е. сначала идет аргумент n1 затем идет аргумент n2. Тогда, когда мы вызываем функцию, т.е. прописываем ее имя и начинаем передвать ей аргументы, то число, которое будет записано первым будет n1, а которое запишется второым будет n2. Лучше показать на примере, для этого создадим новую функцию, которая будет возводить n1 в степень n2, а также будет печатать внутри функции с помощью print() переданные аргументы. При этом print() не надо возвращать в return, т.к. функция - это просто изолированный участок кода, так что print() там будет работать, как и в обычном коде без функции."
   ]
  },
  {
   "cell_type": "code",
   "execution_count": 11,
   "id": "2df105ac",
   "metadata": {
    "slideshow": {
     "slide_type": "slide"
    }
   },
   "outputs": [
    {
     "name": "stdout",
     "output_type": "stream",
     "text": [
      "Аргумент n1 = 2\n",
      "Аргумент n2 = 5\n"
     ]
    },
    {
     "data": {
      "text/plain": [
       "32"
      ]
     },
     "execution_count": 11,
     "metadata": {},
     "output_type": "execute_result"
    }
   ],
   "source": [
    "def numbers_with_print(n1,n2):\n",
    "    print('Аргумент n1 =', n1)\n",
    "    print('Аргумент n2 =', n2)\n",
    "    return n1 ** n2\n",
    "\n",
    "numbers_with_print(2,5)"
   ]
  },
  {
   "cell_type": "code",
   "execution_count": 12,
   "id": "61b02dbc",
   "metadata": {
    "slideshow": {
     "slide_type": "fragment"
    }
   },
   "outputs": [
    {
     "name": "stdout",
     "output_type": "stream",
     "text": [
      "Аргумент n1 = 5\n",
      "Аргумент n2 = 2\n"
     ]
    },
    {
     "data": {
      "text/plain": [
       "25"
      ]
     },
     "execution_count": 12,
     "metadata": {},
     "output_type": "execute_result"
    }
   ],
   "source": [
    "numbers_with_print(5,2)"
   ]
  },
  {
   "cell_type": "markdown",
   "id": "697cc144",
   "metadata": {
    "slideshow": {
     "slide_type": "slide"
    }
   },
   "source": [
    "Как видно из примеров, аргументы в функции поменялись, т.к. изменились позиции во время передачи ргументов передаваемые функции и как следствие результат тоже изменился. Это и назвается позиционной передачей аргументов. Теперь рассмотрим передачу аргументов по имени для той же самой функции. Для этого просто необходимо написать какому аргументу, какое значение при передаче вы хотите присвоить и все. И в таком случае уже будет не важно, какой по счету передается аргуент. рАссмотрим примеры:"
   ]
  },
  {
   "cell_type": "code",
   "execution_count": 13,
   "id": "4fbd04ab",
   "metadata": {
    "slideshow": {
     "slide_type": "slide"
    }
   },
   "outputs": [
    {
     "name": "stdout",
     "output_type": "stream",
     "text": [
      "Аргумент n1 = 2\n",
      "Аргумент n2 = 5\n"
     ]
    },
    {
     "data": {
      "text/plain": [
       "32"
      ]
     },
     "execution_count": 13,
     "metadata": {},
     "output_type": "execute_result"
    }
   ],
   "source": [
    "numbers_with_print(n1 = 2, n2 = 5)"
   ]
  },
  {
   "cell_type": "code",
   "execution_count": 15,
   "id": "a47eeb09",
   "metadata": {
    "slideshow": {
     "slide_type": "fragment"
    }
   },
   "outputs": [
    {
     "name": "stdout",
     "output_type": "stream",
     "text": [
      "Аргумент n1 = 2\n",
      "Аргумент n2 = 5\n"
     ]
    },
    {
     "data": {
      "text/plain": [
       "32"
      ]
     },
     "execution_count": 15,
     "metadata": {},
     "output_type": "execute_result"
    }
   ],
   "source": [
    "numbers_with_print(n2 = 5, n1 = 2)"
   ]
  },
  {
   "cell_type": "markdown",
   "id": "fa9984e7",
   "metadata": {
    "slideshow": {
     "slide_type": "slide"
    }
   },
   "source": [
    "## Функции с неопределенным количеством переменных\n",
    "Но может возникнуть ситуация, когда не понятно, сколько вообще может быть переадно аргументов функции. В таком случае аргументв функции помечается звездочкой * и все переменные записываются в кортеж из которого и затем можно достать. Рассмотрим такой пример, где функция принимает 1 аргумент, но передается ей в вызове 3."
   ]
  },
  {
   "cell_type": "code",
   "execution_count": 8,
   "id": "52d2c3a1",
   "metadata": {
    "slideshow": {
     "slide_type": "slide"
    }
   },
   "outputs": [
    {
     "name": "stdout",
     "output_type": "stream",
     "text": [
      "1\n",
      "3\n",
      "5\n"
     ]
    },
    {
     "data": {
      "text/plain": [
       "9"
      ]
     },
     "execution_count": 8,
     "metadata": {},
     "output_type": "execute_result"
    }
   ],
   "source": [
    "def multiple_args(*args):\n",
    "    s = 0\n",
    "    for a in args:\n",
    "        print(a)\n",
    "        s += a\n",
    "    return s\n",
    "    \n",
    "\n",
    "multiple_args(1,3,5)\n"
   ]
  },
  {
   "cell_type": "code",
   "execution_count": 22,
   "id": "ed0bc337",
   "metadata": {
    "slideshow": {
     "slide_type": "slide"
    }
   },
   "outputs": [
    {
     "name": "stdout",
     "output_type": "stream",
     "text": [
      "Аргумент n1 =  1\n",
      "Аргумент n2 =  3\n",
      "(5, 78, 12)\n"
     ]
    }
   ],
   "source": [
    "# Комбинация из определенных и неопределенных аргументов у функции\n",
    "def hybrid_args(n1, n2, *others):\n",
    "    print('Аргумент n1 = ', n1)\n",
    "    print('Аргумент n2 = ', n2)\n",
    "    print(others)\n",
    "\n",
    "hybrid_args(1,3,5,78,12)"
   ]
  },
  {
   "cell_type": "markdown",
   "id": "41cfa30d",
   "metadata": {
    "slideshow": {
     "slide_type": "slide"
    }
   },
   "source": [
    "Также такой вариант доступен и для передачи аргументов по названию. В таком случае все переданные переменные по названию будут записываться в словарь, где ключ это название переданного аргумента, а значение, переданное данному аргументу значние. Для этого перед переменной необходимо указат символ с 2 звездочками:"
   ]
  },
  {
   "cell_type": "code",
   "execution_count": 23,
   "id": "cf6e178c",
   "metadata": {
    "slideshow": {
     "slide_type": "fragment"
    }
   },
   "outputs": [
    {
     "name": "stdout",
     "output_type": "stream",
     "text": [
      "Аргумент n1 =  1\n",
      "{'n2': 3, 'n3': 'Еще один аргумент'}\n"
     ]
    }
   ],
   "source": [
    "def names_hybrid_args(n1, **others):\n",
    "    print('Аргумент n1 = ', n1)\n",
    "    print(others)\n",
    "\n",
    "names_hybrid_args(n1 = 1, n2 = 3, n3 = 'Еще один аргумент')"
   ]
  },
  {
   "cell_type": "markdown",
   "id": "215b3135",
   "metadata": {
    "slideshow": {
     "slide_type": "slide"
    }
   },
   "source": [
    "## Передача изменяемых аргументов в функцию\n",
    "\n",
    "Следующим интересным моментом является передача изменяемых объектов, как аргументы в функцию, таких как списки или словари. Если в случае когда передавались неизменяемые аргументы вроде строк и чисел все понятно - с ними ничего не произойдет, то с изменяемыми объектами другая ситуация. К примеру, если в функцию передать список и изменить его внутри функции, то исходный список, который передавался изменится."
   ]
  },
  {
   "cell_type": "code",
   "execution_count": 6,
   "id": "b8b05bdb",
   "metadata": {
    "slideshow": {
     "slide_type": "slide"
    }
   },
   "outputs": [
    {
     "name": "stdout",
     "output_type": "stream",
     "text": [
      "Исходный список: [2, 'line', 5]\n",
      "Список после вызова функции: [2, 'line', 5, 'appended line']\n"
     ]
    }
   ],
   "source": [
    "def changing_args(arg1):\n",
    "    # Добавим новую строку в аргумент arg1\n",
    "    arg1.append('appended line')\n",
    "    \n",
    "arg = [2,'line', 5]\n",
    "\n",
    "print('Исходный список:', arg)\n",
    "changing_args(arg)\n",
    "print('Список после вызова функции:', arg)\n",
    "    "
   ]
  },
  {
   "cell_type": "markdown",
   "id": "147a001b",
   "metadata": {
    "slideshow": {
     "slide_type": "slide"
    }
   },
   "source": [
    "## Присваивание функций в переменные\n",
    "\n",
    "Разобравшись в том, что такое функции и самое главное как их использовать посмотрим как можно хранить и вызывать функции еще. Часто можно положить функцию в переменную, т.е. чтобы обращаться не к функции напрямую, а к переменной."
   ]
  },
  {
   "cell_type": "code",
   "execution_count": 36,
   "id": "55e455ea",
   "metadata": {
    "slideshow": {
     "slide_type": "fragment"
    }
   },
   "outputs": [
    {
     "data": {
      "text/plain": [
       "7"
      ]
     },
     "execution_count": 36,
     "metadata": {},
     "output_type": "execute_result"
    }
   ],
   "source": [
    "# Упаковка функции в переменную\n",
    "counter = count_numbers\n",
    "counter(2,5)\n"
   ]
  },
  {
   "cell_type": "markdown",
   "id": "505bb61e",
   "metadata": {
    "slideshow": {
     "slide_type": "slide"
    }
   },
   "source": [
    "Также можно положить результат работы функции в переменную. Не стоит путать это с упаковкой функции в переменную! Т.к. когда в переменную записывается результат работы, это значит что там записана не функция, а то, что функция возвращает через return, т.е. обратиться в этом случае к функции через переменную нельзя. Такая запись очень похожа на упаковку функции в переменную, поэтому стоит внимательно за этим следить"
   ]
  },
  {
   "cell_type": "code",
   "execution_count": 37,
   "id": "ec880a59",
   "metadata": {
    "slideshow": {
     "slide_type": "fragment"
    }
   },
   "outputs": [
    {
     "data": {
      "text/plain": [
       "7"
      ]
     },
     "execution_count": 37,
     "metadata": {},
     "output_type": "execute_result"
    }
   ],
   "source": [
    "# Запись результата работы функции в переменную\n",
    "count_result = count_numbers(3,4)\n",
    "count_result"
   ]
  },
  {
   "cell_type": "markdown",
   "id": "c1835231",
   "metadata": {
    "slideshow": {
     "slide_type": "slide"
    }
   },
   "source": [
    "Также как и в переменную, функцию можно положить в список, кортеж или словарь и тогда обращение к ней можно делать как к элементу выбранного типа данных. Это может пригодится, что бы производить вызов нескольких функций подряд в цикле, к примеру."
   ]
  },
  {
   "cell_type": "code",
   "execution_count": 14,
   "id": "73b7e637",
   "metadata": {
    "slideshow": {
     "slide_type": "fragment"
    }
   },
   "outputs": [
    {
     "name": "stdout",
     "output_type": "stream",
     "text": [
      "Результат вызова функции count_numbers из списка = 63\n",
      "\n",
      " Начало функции multiple_args: \n",
      "\n",
      "20\n",
      "43\n",
      "54\n",
      "88\n",
      "Результат вызова функции multiple_args из списка = 205\n"
     ]
    }
   ],
   "source": [
    "# Упаковка функций в список\n",
    "\n",
    "list_of_functions = [count_numbers, multiple_args]\n",
    "print('Результат вызова функции count_numbers из списка =', list_of_functions[0](20, 43), \n",
    "      end='\\n\\n Начало функции multiple_args: \\n\\n')\n",
    "print('Результат вызова функции multiple_args из списка =', list_of_functions[1](20, 43, 54, 88))\n"
   ]
  },
  {
   "cell_type": "markdown",
   "id": "8308630c",
   "metadata": {
    "slideshow": {
     "slide_type": "slide"
    }
   },
   "source": [
    "## lambda выражения - локальные функции\n",
    "\n",
    "И последним, что будет тут описано это lambda функции. Это очень удобный объект в Python, т.к. позволяет не писать отдельную функцию через def для коротких операций, а создавать функции прямо на месте. Главное отличие lambda от def - они локальные и могут выполнить лишь только 1 действие. Поэтому lambda не требует наличие return чтобы вернуть результат действия, она это делает автоматически. Во всем остальном lambda очень похожи на обычные функции, конструкция вызова выглядит следующим образом:\n",
    "lambda 'аргумент' : 'действие с аргументом'. Также как и обычные функции, labmda можно упаковывать в переменные, списки и другие объекты. Чтобы вызвать функцию, достаточно либо присвоить ее какой-то переменной или же просто в круглых скобочках после прописать передаваемые аргументы. Только в этом случае и вся фукция должна быть в круглых скобочках. Гораздо проще будет понять что такое lambda на примерах. Вспомним самую первую функцию count, где n1 + n2 и все. Такое короткое и простое выражение гораздо удобнее было бы записать именно с помощью labda выражений. Попробуем это сделать:\n"
   ]
  },
  {
   "cell_type": "code",
   "execution_count": 7,
   "id": "7d65ddda",
   "metadata": {
    "slideshow": {
     "slide_type": "slide"
    }
   },
   "outputs": [
    {
     "data": {
      "text/plain": [
       "3"
      ]
     },
     "execution_count": 7,
     "metadata": {},
     "output_type": "execute_result"
    }
   ],
   "source": [
    "# Присовоение переменной labmda функций\n",
    "c = lambda n1, n2: n1 + n2\n",
    "c(1,2)"
   ]
  },
  {
   "cell_type": "code",
   "execution_count": 8,
   "id": "0f2c3bfa",
   "metadata": {
    "slideshow": {
     "slide_type": "fragment"
    }
   },
   "outputs": [
    {
     "data": {
      "text/plain": [
       "3"
      ]
     },
     "execution_count": 8,
     "metadata": {},
     "output_type": "execute_result"
    }
   ],
   "source": [
    "# неподсредственный вызов lambda\n",
    "(lambda n1, n2: n1 + n2)(1,2)"
   ]
  },
  {
   "cell_type": "code",
   "execution_count": 9,
   "id": "bb91eb37",
   "metadata": {
    "slideshow": {
     "slide_type": "slide"
    }
   },
   "outputs": [
    {
     "name": "stdout",
     "output_type": "stream",
     "text": [
      "Сложение 7\n",
      "Вычитание -1\n",
      "Возведение в степень 81\n"
     ]
    }
   ],
   "source": [
    "# упаковка lambda функций в список\n",
    "\n",
    "list_with_lambda = [lambda n1, n2: n1 + n2, \n",
    "                    lambda n1, n2: n1 -n2,\n",
    "                    lambda n1, n2: n1 ** n2\n",
    "                   ]\n",
    "print('Сложение', list_with_lambda[0](3,4))\n",
    "print('Вычитание', list_with_lambda[1](3,4))\n",
    "print('Возведение в степень', list_with_lambda[2](3,4))"
   ]
  },
  {
   "cell_type": "code",
   "execution_count": 16,
   "id": "a7c34452",
   "metadata": {
    "slideshow": {
     "slide_type": "slide"
    }
   },
   "outputs": [
    {
     "data": {
      "text/plain": [
       "[('c', 6), ('a', 11), ('b', 13)]"
      ]
     },
     "execution_count": 16,
     "metadata": {},
     "output_type": "execute_result"
    }
   ],
   "source": [
    "# lambda для сортировки\n",
    "\n",
    "list_tuples = [('a', 11), ('b', 13), ('c', 6)]\n",
    "list_tuples.sort(key=lambda e: e[1])\n",
    "list_tuples"
   ]
  },
  {
   "cell_type": "markdown",
   "id": "68cc4f5b",
   "metadata": {
    "slideshow": {
     "slide_type": "slide"
    }
   },
   "source": [
    "Также в заклчении стоит сказать пару слов про функции-генераторы. Это очень узкоспециализированные функции у которых вместо return прописывается ключевое слово yield. Эти функции необходимы для итерирования каких-то списков, например или каких-то других объектов. Их основная особенность в том, что yield возвращает переданный ей объект не в конце действия функции, а каждое действие цикла. Т.е. если есть переменная x внутри функции и она каждый раз увеличивается на 1, и в цикле прописана yield x, то затем можно прописать простой цикл for и вывести значение x на каждом шаге цикла. Это просто более лаконичный способо создания цикла внутри функции."
   ]
  },
  {
   "cell_type": "code",
   "execution_count": 12,
   "id": "830066d1",
   "metadata": {
    "slideshow": {
     "slide_type": "slide"
    }
   },
   "outputs": [
    {
     "name": "stdout",
     "output_type": "stream",
     "text": [
      "0\n",
      "1\n",
      "2\n",
      "3\n",
      "4\n"
     ]
    }
   ],
   "source": [
    "# Создание генератора с числами \n",
    "def generator():\n",
    "        x = 0\n",
    "        while x < 5:\n",
    "            yield x\n",
    "            x +=1\n",
    "for e in generator():\n",
    "    print(e)"
   ]
  },
  {
   "cell_type": "code",
   "execution_count": 25,
   "id": "2793e3b3",
   "metadata": {
    "slideshow": {
     "slide_type": "slide"
    }
   },
   "outputs": [
    {
     "name": "stdout",
     "output_type": "stream",
     "text": [
      "['Итеррация № 1']\n",
      "['Итеррация № 1', 'Итеррация № 2']\n",
      "['Итеррация № 1', 'Итеррация № 2', 'Итеррация № 3']\n",
      "['Итеррация № 1', 'Итеррация № 2', 'Итеррация № 3', 'Итеррация № 4']\n",
      "['Итеррация № 1', 'Итеррация № 2', 'Итеррация № 3', 'Итеррация № 4', 'Итеррация № 5']\n"
     ]
    }
   ],
   "source": [
    "# Создание генератора со списками \n",
    "def generator():\n",
    "        x = []\n",
    "        while len(x) < 5:\n",
    "            x.append('Итеррация № {}'.format(len(x) + 1))\n",
    "            yield x\n",
    "\n",
    "for e in generator():\n",
    "    print(e)"
   ]
  },
  {
   "cell_type": "code",
   "execution_count": 26,
   "id": "7312a00f",
   "metadata": {
    "slideshow": {
     "slide_type": "slide"
    }
   },
   "outputs": [
    {
     "data": {
      "text/plain": [
       "['Итеррация № 1']"
      ]
     },
     "execution_count": 26,
     "metadata": {},
     "output_type": "execute_result"
    }
   ],
   "source": [
    "# Пример такой же функции, но с return вместо yiedl\n",
    "def not_generator():\n",
    "        x = []\n",
    "        while len(x) < 5:\n",
    "            x.append('Итеррация № {}'.format(len(x) + 1))\n",
    "            return x\n",
    "\n",
    "not_generator()"
   ]
  },
  {
   "cell_type": "code",
   "execution_count": 27,
   "id": "e43b834a",
   "metadata": {
    "slideshow": {
     "slide_type": "slide"
    }
   },
   "outputs": [
    {
     "data": {
      "text/plain": [
       "['Итеррация № 1',\n",
       " 'Итеррация № 2',\n",
       " 'Итеррация № 3',\n",
       " 'Итеррация № 4',\n",
       " 'Итеррация № 5']"
      ]
     },
     "execution_count": 27,
     "metadata": {},
     "output_type": "execute_result"
    }
   ],
   "source": [
    "def not_generator():\n",
    "        x = []\n",
    "        while len(x) < 5:\n",
    "            x.append('Итеррация № {}'.format(len(x) + 1))\n",
    "        return x\n",
    "\n",
    "not_generator()"
   ]
  }
 ],
 "metadata": {
  "celltoolbar": "Slideshow",
  "kernelspec": {
   "display_name": "Python 3",
   "language": "python",
   "name": "python3"
  },
  "language_info": {
   "codemirror_mode": {
    "name": "ipython",
    "version": 3
   },
   "file_extension": ".py",
   "mimetype": "text/x-python",
   "name": "python",
   "nbconvert_exporter": "python",
   "pygments_lexer": "ipython3",
   "version": "3.8.8"
  }
 },
 "nbformat": 4,
 "nbformat_minor": 5
}
