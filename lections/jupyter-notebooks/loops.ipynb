{
 "cells": [
  {
   "cell_type": "markdown",
   "metadata": {
    "slideshow": {
     "slide_type": "slide"
    }
   },
   "source": [
    "## Управляющие конструкции. Циклы\n",
    "***"
   ]
  },
  {
   "cell_type": "markdown",
   "metadata": {
    "slideshow": {
     "slide_type": "slide"
    }
   },
   "source": [
    "### Цикл while. Общая схемa"
   ]
  },
  {
   "cell_type": "code",
   "execution_count": null,
   "metadata": {
    "slideshow": {
     "slide_type": "fragment"
    }
   },
   "outputs": [],
   "source": [
    "while <логическое условие>:\n",
    "    действие_1\n",
    "    действие_2\n",
    "    ...\n",
    "else: \n",
    "    действие_3\n",
    "    действие_4\n",
    "    ..."
   ]
  },
  {
   "cell_type": "code",
   "execution_count": 4,
   "metadata": {
    "slideshow": {
     "slide_type": "slide"
    }
   },
   "outputs": [
    {
     "name": "stdout",
     "output_type": "stream",
     "text": [
      "a = 4\n",
      "a = 3\n",
      "a = 2\n",
      "a = 1\n",
      "a = 0\n",
      "Цикл завершён без ошибок!\n"
     ]
    }
   ],
   "source": [
    "a = 4\n",
    "while a >= 0:\n",
    "    print('a =', a)\n",
    "    a -= 1\n",
    "else: \n",
    "    print('Цикл завершён без ошибок!')"
   ]
  },
  {
   "cell_type": "markdown",
   "metadata": {
    "slideshow": {
     "slide_type": "slide"
    }
   },
   "source": [
    "### Прерывание цикла. Команда break\n",
    "Команда **break** немедленно завершает цикл без выполнения завершающей части (при наличии секции else)."
   ]
  },
  {
   "cell_type": "code",
   "execution_count": null,
   "metadata": {
    "slideshow": {
     "slide_type": "slide"
    }
   },
   "outputs": [],
   "source": [
    "a = int(input('Введите число: '))\n",
    "while a != 0:\n",
    "    if not a % 2:\n",
    "        print('Было введено чётное число', a)\n",
    "        break\n",
    "    a = int(input())\n",
    "else:\n",
    "    print('Ни одного чётного числа замечено не было')\n"
   ]
  },
  {
   "cell_type": "code",
   "execution_count": null,
   "metadata": {
    "slideshow": {
     "slide_type": "slide"
    }
   },
   "outputs": [],
   "source": [
    "while <логическое условие>:\n",
    "    действие_1\n",
    "    действие_2\n",
    "    ...\n",
    "    if <логическое условие>:\n",
    "        break\n",
    "else: \n",
    "    действие_3\n",
    "    действие_4\n",
    "    ..."
   ]
  },
  {
   "cell_type": "code",
   "execution_count": null,
   "metadata": {
    "slideshow": {
     "slide_type": "fragment"
    }
   },
   "outputs": [],
   "source": [
    "while <логическое условие>:\n",
    "    действие_1\n",
    "    действие_2\n",
    "    ...\n",
    "    if <логическое условие>:\n",
    "        break\n",
    "действие_3\n",
    "действие_4\n",
    "..."
   ]
  },
  {
   "cell_type": "markdown",
   "metadata": {
    "slideshow": {
     "slide_type": "slide"
    }
   },
   "source": [
    "Если команда **break** отсутствует в теле цикла, то эти две формы цикла **while** делают одно и то же:"
   ]
  },
  {
   "cell_type": "code",
   "execution_count": null,
   "metadata": {
    "slideshow": {
     "slide_type": "fragment"
    }
   },
   "outputs": [],
   "source": [
    "a = 10\n",
    "while a > 1:\n",
    "    if a % 2 == 0:\n",
    "        print(a)\n",
    "    a -= 1\n",
    "else:\n",
    "    print('Done!')"
   ]
  },
  {
   "cell_type": "code",
   "execution_count": null,
   "metadata": {
    "slideshow": {
     "slide_type": "fragment"
    }
   },
   "outputs": [],
   "source": [
    "a = 10\n",
    "while a > 1:\n",
    "    if a % 2 == 0:\n",
    "        print(a)\n",
    "    a -= 1\n",
    "print('Done!')"
   ]
  },
  {
   "cell_type": "markdown",
   "metadata": {
    "slideshow": {
     "slide_type": "slide"
    }
   },
   "source": [
    "### Отмена текущей итерации цикла. Команда continue\n",
    "Команда **continue** пропускает оставшуюся часть тела цикла; условие проверяется снова, и цикл продолжается как обычно\n"
   ]
  },
  {
   "cell_type": "code",
   "execution_count": null,
   "metadata": {
    "slideshow": {
     "slide_type": "fragment"
    }
   },
   "outputs": [],
   "source": [
    "while <логическое условие>:\n",
    "    действие_1\n",
    "    действие_2\n",
    "    ...\n",
    "    if <логическое условие>:\n",
    "        continue\n",
    "else: \n",
    "    действие_3\n",
    "    действие_4\n",
    "    ..."
   ]
  },
  {
   "cell_type": "code",
   "execution_count": 1,
   "metadata": {
    "slideshow": {
     "slide_type": "slide"
    }
   },
   "outputs": [
    {
     "name": "stdout",
     "output_type": "stream",
     "text": [
      "Введите верхнюю границу: 10\n",
      "8\n",
      "7\n",
      "5\n",
      "4\n",
      "2\n",
      "1\n",
      "Цикл завершён\n"
     ]
    }
   ],
   "source": [
    "n = int(input('Введите верхнюю границу: '))\n",
    "while n > 0:\n",
    "    n -= 1\n",
    "    if not n % 3:\n",
    "        continue\n",
    "    print(n)\n",
    "print('Цикл завершён')"
   ]
  },
  {
   "cell_type": "markdown",
   "metadata": {
    "slideshow": {
     "slide_type": "slide"
    }
   },
   "source": [
    "### Цикл for\n"
   ]
  },
  {
   "cell_type": "markdown",
   "metadata": {},
   "source": [
    "Если у вас есть опыт программирования на других языках программирования, например на Java, то при упоминании цикла for у вас в голове возникает конструкция вида:"
   ]
  },
  {
   "cell_type": "code",
   "execution_count": null,
   "metadata": {},
   "outputs": [],
   "source": [
    "for(int i = 0; i < 10; i++) {\n",
    "    действие_1\n",
    "    действие_2\n",
    "    ...\n",
    "}"
   ]
  },
  {
   "cell_type": "markdown",
   "metadata": {
    "slideshow": {
     "slide_type": "slide"
    }
   },
   "source": [
    "Однако в Python цикл **for** перебирает  значения, возвращаемые любым итерируемым объектом, то есть любым объектом, который может сгенерировать последовательность значений."
   ]
  },
  {
   "cell_type": "code",
   "execution_count": null,
   "metadata": {
    "slideshow": {
     "slide_type": "subslide"
    }
   },
   "outputs": [],
   "source": [
    "for элемент in последовательность:\n",
    "    действие_1\n",
    "    действие_2\n",
    "    ...\n",
    "else:\n",
    "    действие_3\n",
    "    действие_4\n",
    "    ..."
   ]
  },
  {
   "cell_type": "markdown",
   "metadata": {
    "slideshow": {
     "slide_type": "slide"
    }
   },
   "source": [
    "#### Что такое последовательность?\n",
    "В качестве последовательности могут выступать элементы списка, кортежа или строки.\n",
    "Итерируемый объект также может быть специальной функцией с именем range или специальной разновидностью функций — так называемым *генератором*, или *генераторным выражением*.\n"
   ]
  },
  {
   "cell_type": "code",
   "execution_count": null,
   "metadata": {
    "slideshow": {
     "slide_type": "slide"
    }
   },
   "outputs": [],
   "source": [
    "element_list = [5, '21', 15.0, (3,), 42, 333] # задаём список\n",
    "\n",
    "for e in element_list:\n",
    "    if not isinstance(e, int): # является ли элемент списка целым числом\n",
    "        continue # пропуск текущей итерации цикла\n",
    "    if not e % 3: # проверка делимости нацело на 3. Если остаток от деления равен 0, то 0 будет проинтерпретировано как False\n",
    "        print(\"Элемент списка, делящийся на 3 нацело: %d\" % e)\n",
    "        break"
   ]
  },
  {
   "cell_type": "markdown",
   "metadata": {
    "slideshow": {
     "slide_type": "slide"
    }
   },
   "source": [
    "### Использование цикла for для распаковки кортежей"
   ]
  },
  {
   "cell_type": "markdown",
   "metadata": {},
   "source": [
    "Допустим у нас есть список трёхэлементных кортежей и нам необходимо посчитать значение суммы чисел для каждого кортежа. Опираясь на ранее описанный материал программа может выглядеть следующим образом:"
   ]
  },
  {
   "cell_type": "code",
   "execution_count": null,
   "metadata": {
    "slideshow": {
     "slide_type": "slide"
    }
   },
   "outputs": [],
   "source": [
    "list_of_tuples = [(1, 5, 3), (2, 7, 2), (12, 4, 2)]\n",
    "result = [] # заводим пустой список\n",
    "for t in list_of_tuples:\n",
    "    result.append(t[0] + t[1] + t[2])\n",
    "\n",
    "print(result)"
   ]
  },
  {
   "cell_type": "markdown",
   "metadata": {
    "slideshow": {
     "slide_type": "slide"
    }
   },
   "source": [
    "Однако в Python есть более элегантное решение подобных задач."
   ]
  },
  {
   "cell_type": "code",
   "execution_count": 2,
   "metadata": {
    "slideshow": {
     "slide_type": "fragment"
    }
   },
   "outputs": [
    {
     "name": "stdout",
     "output_type": "stream",
     "text": [
      "[9, 11, 18]\n"
     ]
    }
   ],
   "source": [
    "list_of_tuples = [(1, 5, 3), (2, 7, 2), (12, 4, 2)]\n",
    "result = [] # заводим пустой список\n",
    "for x, y, z in list_of_tuples:\n",
    "    result.append(x + y + z)\n",
    "\n",
    "print(result)"
   ]
  },
  {
   "cell_type": "markdown",
   "metadata": {
    "slideshow": {
     "slide_type": "fragment"
    }
   },
   "source": [
    "В данном случае, после ключевого слова for вместо одной переменной идёт кортеж x, y, z. Переменная x будет соответствовать элемену с индексом 0, а y и z - переменные с индексами 1 и 2 соответственно."
   ]
  },
  {
   "cell_type": "markdown",
   "metadata": {
    "slideshow": {
     "slide_type": "slide"
    }
   },
   "source": [
    "Данный метод работает только если список состоит из кортежей одинакового размера. В противном случае, программа звершится с ошибкой вида\n",
    "**ValueError: not enough values to unpack** или **ValueError: too many values to unpack**."
   ]
  },
  {
   "cell_type": "code",
   "execution_count": 5,
   "metadata": {
    "slideshow": {
     "slide_type": "slide"
    }
   },
   "outputs": [
    {
     "ename": "ValueError",
     "evalue": "too many values to unpack (expected 2)",
     "output_type": "error",
     "traceback": [
      "\u001b[0;31m---------------------------------------------------------------------------\u001b[0m",
      "\u001b[0;31mValueError\u001b[0m                                Traceback (most recent call last)",
      "\u001b[0;32m<ipython-input-5-c3be863d444f>\u001b[0m in \u001b[0;36m<module>\u001b[0;34m\u001b[0m\n\u001b[1;32m      1\u001b[0m \u001b[0mlist_of_tuples\u001b[0m \u001b[0;34m=\u001b[0m \u001b[0;34m[\u001b[0m\u001b[0;34m(\u001b[0m\u001b[0;36m1\u001b[0m\u001b[0;34m,\u001b[0m \u001b[0;36m5\u001b[0m\u001b[0;34m)\u001b[0m\u001b[0;34m,\u001b[0m \u001b[0;34m(\u001b[0m\u001b[0;36m2\u001b[0m\u001b[0;34m,\u001b[0m \u001b[0;36m7\u001b[0m\u001b[0;34m)\u001b[0m\u001b[0;34m,\u001b[0m \u001b[0;34m(\u001b[0m\u001b[0;36m12\u001b[0m\u001b[0;34m,\u001b[0m \u001b[0;36m4\u001b[0m\u001b[0;34m,\u001b[0m \u001b[0;36m3\u001b[0m\u001b[0;34m)\u001b[0m\u001b[0;34m]\u001b[0m\u001b[0;34m\u001b[0m\u001b[0;34m\u001b[0m\u001b[0m\n\u001b[1;32m      2\u001b[0m \u001b[0mresult\u001b[0m \u001b[0;34m=\u001b[0m \u001b[0;34m[\u001b[0m\u001b[0;34m]\u001b[0m \u001b[0;31m# заводим пустой список\u001b[0m\u001b[0;34m\u001b[0m\u001b[0;34m\u001b[0m\u001b[0m\n\u001b[0;32m----> 3\u001b[0;31m \u001b[0;32mfor\u001b[0m \u001b[0mx\u001b[0m\u001b[0;34m,\u001b[0m \u001b[0my\u001b[0m \u001b[0;32min\u001b[0m \u001b[0mlist_of_tuples\u001b[0m\u001b[0;34m:\u001b[0m\u001b[0;34m\u001b[0m\u001b[0;34m\u001b[0m\u001b[0m\n\u001b[0m\u001b[1;32m      4\u001b[0m     \u001b[0mresult\u001b[0m\u001b[0;34m.\u001b[0m\u001b[0mappend\u001b[0m\u001b[0;34m(\u001b[0m\u001b[0mx\u001b[0m \u001b[0;34m+\u001b[0m \u001b[0my\u001b[0m\u001b[0;34m)\u001b[0m\u001b[0;34m\u001b[0m\u001b[0;34m\u001b[0m\u001b[0m\n\u001b[1;32m      5\u001b[0m \u001b[0;34m\u001b[0m\u001b[0m\n",
      "\u001b[0;31mValueError\u001b[0m: too many values to unpack (expected 2)"
     ]
    }
   ],
   "source": [
    "list_of_tuples = [(1, 5), (2, 7), (12, 4, 3)]\n",
    "result = [] # заводим пустой список\n",
    "for x, y in list_of_tuples:\n",
    "    result.append(x + y)\n",
    " \n",
    "print(result)"
   ]
  },
  {
   "cell_type": "markdown",
   "metadata": {
    "slideshow": {
     "slide_type": "slide"
    }
   },
   "source": [
    "#### Функция range\n",
    "Иногда требуется выполнить цикл с явно заданными индексами (например, позициями значений в списке). Для этих целий можно использовать функцию **range()**. Функция **range** не строит список целых чисел, а создаёт специальный объект диапозона, который выдает целые числа по запросу:"
   ]
  },
  {
   "cell_type": "code",
   "execution_count": 6,
   "metadata": {
    "slideshow": {
     "slide_type": "slide"
    }
   },
   "outputs": [
    {
     "data": {
      "text/plain": [
       "range(2, 5)"
      ]
     },
     "execution_count": 6,
     "metadata": {},
     "output_type": "execute_result"
    }
   ],
   "source": [
    "range(2, 5)"
   ]
  },
  {
   "cell_type": "code",
   "execution_count": 7,
   "metadata": {},
   "outputs": [
    {
     "name": "stdout",
     "output_type": "stream",
     "text": [
      "<class 'range'>\n"
     ]
    }
   ],
   "source": [
    "print(type(range(2, 5)))"
   ]
  },
  {
   "cell_type": "code",
   "execution_count": 8,
   "metadata": {
    "scrolled": false
   },
   "outputs": [
    {
     "name": "stdout",
     "output_type": "stream",
     "text": [
      "[2, 3, 4]\n"
     ]
    }
   ],
   "source": [
    "print(list(range(2, 5))\n",
    "     )"
   ]
  },
  {
   "cell_type": "code",
   "execution_count": 3,
   "metadata": {
    "slideshow": {
     "slide_type": "slide"
    }
   },
   "outputs": [
    {
     "name": "stdout",
     "output_type": "stream",
     "text": [
      "0 a\n",
      "1 b\n",
      "2 c\n",
      "3 d\n",
      "4 e\n",
      "5 f\n",
      "6 g\n",
      "7 h\n"
     ]
    }
   ],
   "source": [
    "s = 'abcdefgh'\n",
    "for i in range(0, len(s)):\n",
    "    print(i, s[i])"
   ]
  },
  {
   "cell_type": "markdown",
   "metadata": {
    "slideshow": {
     "slide_type": "slide"
    }
   },
   "source": [
    "В функции **range()** можно также явным образом указывать шаг приращения:"
   ]
  },
  {
   "cell_type": "code",
   "execution_count": 4,
   "metadata": {
    "scrolled": true
   },
   "outputs": [
    {
     "name": "stdout",
     "output_type": "stream",
     "text": [
      "[1, 3, 5, 7, 9]\n",
      "[10, 9, 8, 7, 6, 5]\n"
     ]
    }
   ],
   "source": [
    "print(list(range(1, 10, 2)))\n",
    "print(list(range(10, 4, -1)))"
   ]
  },
  {
   "cell_type": "markdown",
   "metadata": {
    "slideshow": {
     "slide_type": "slide"
    }
   },
   "source": [
    "### range() vs enumirate()"
   ]
  },
  {
   "cell_type": "markdown",
   "metadata": {},
   "source": [
    "Очень часто можно столкнуться с тем, что в процессе перебора элементов списка (или других итерируемых объектов) нам необходимо отслеживать индекс элемента. Обычно первым приходит в голову решение вида:"
   ]
  },
  {
   "cell_type": "code",
   "execution_count": 5,
   "metadata": {},
   "outputs": [
    {
     "name": "stdout",
     "output_type": "stream",
     "text": [
      "0 2\n",
      "1 5\n",
      "2 6\n",
      "3 1\n"
     ]
    }
   ],
   "source": [
    "some_list = [2, 5, 6, 1]\n",
    "for i in range(0, len(some_list)):\n",
    "    print(i, some_list[i])"
   ]
  },
  {
   "cell_type": "markdown",
   "metadata": {
    "slideshow": {
     "slide_type": "slide"
    }
   },
   "source": [
    "Однако в данном подходе мы не итерируемся по элементам списка, а используем вспомогательную переменную i. Для решения этой задачи есть более элегантное решение. Для этого необходимо использовать функцию **enumerate**. Эта функция принимает в качестве аргумента любой итерируемый объект и для каждого элемента возвращает двухэлементный кортеж (индекс, элемент). Таким образом можно \"пронумеровывать\" строки, списки, кортежи, словари и другие последовательности."
   ]
  },
  {
   "cell_type": "code",
   "execution_count": 6,
   "metadata": {
    "slideshow": {
     "slide_type": "slide"
    }
   },
   "outputs": [
    {
     "name": "stdout",
     "output_type": "stream",
     "text": [
      "(0, 2)\n",
      "(1, 5)\n",
      "(2, 6)\n",
      "(3, 1)\n"
     ]
    }
   ],
   "source": [
    "some_list = [2, 5, 6, 1]\n",
    "for e in enumerate(some_list):\n",
    "    print(e) "
   ]
  },
  {
   "cell_type": "markdown",
   "metadata": {
    "slideshow": {
     "slide_type": "fragment"
    }
   },
   "source": [
    "А поскольку в данном подходе мы получаем набор кортежей, их можно распаковать:"
   ]
  },
  {
   "cell_type": "code",
   "execution_count": 10,
   "metadata": {
    "slideshow": {
     "slide_type": "fragment"
    }
   },
   "outputs": [
    {
     "name": "stdout",
     "output_type": "stream",
     "text": [
      "0 2\n",
      "1 5\n",
      "2 6\n",
      "3 1\n"
     ]
    }
   ],
   "source": [
    "some_list = [2, 5, 6, 1]\n",
    "for i, e in enumerate(some_list):\n",
    "    print(i, e)"
   ]
  },
  {
   "cell_type": "markdown",
   "metadata": {
    "slideshow": {
     "slide_type": "slide"
    }
   },
   "source": [
    "Также функция **enumerate()** позволяет указывать с какого числа начинать индексацию элементов последовательности"
   ]
  },
  {
   "cell_type": "code",
   "execution_count": 12,
   "metadata": {
    "scrolled": true
   },
   "outputs": [
    {
     "name": "stdout",
     "output_type": "stream",
     "text": [
      "1 2\n",
      "2 5\n",
      "3 6\n",
      "4 1\n"
     ]
    }
   ],
   "source": [
    "some_list = [2, 5, 6, 1]\n",
    "for i, e in enumerate(some_list, 1):\n",
    "    print(i, e)"
   ]
  },
  {
   "cell_type": "markdown",
   "metadata": {
    "slideshow": {
     "slide_type": "slide"
    }
   },
   "source": [
    "### Генераторы (comprehensions)\n"
   ]
  },
  {
   "cell_type": "markdown",
   "metadata": {},
   "source": [
    "При решении практических задач очень часто цикл **for** используется для перебора, модификации или фильтрации последовательности."
   ]
  },
  {
   "cell_type": "code",
   "execution_count": 13,
   "metadata": {},
   "outputs": [
    {
     "name": "stdout",
     "output_type": "stream",
     "text": [
      "[1, 4, 27, 256]\n"
     ]
    }
   ],
   "source": [
    "x = [1, 2, 3, 4]\n",
    "x_power = []\n",
    "for item in x:\n",
    "    x_power.append(item ** item)\n",
    "print(x_power)"
   ]
  },
  {
   "cell_type": "markdown",
   "metadata": {
    "slideshow": {
     "slide_type": "slide"
    }
   },
   "source": [
    "Данный паттерн используется настолько часто, что для него существует специальная сокращённая запись:"
   ]
  },
  {
   "cell_type": "code",
   "execution_count": 14,
   "metadata": {},
   "outputs": [
    {
     "name": "stdout",
     "output_type": "stream",
     "text": [
      "[1, 4, 27, 256]\n"
     ]
    }
   ],
   "source": [
    "x = [1, 2, 3, 4]\n",
    "x_power = [item ** item for item in x]\n",
    "print(x_power)"
   ]
  },
  {
   "cell_type": "markdown",
   "metadata": {
    "slideshow": {
     "slide_type": "slide"
    }
   },
   "source": [
    "Такая сокращённая запись назвыается **генератором**.Генератор по своей сути является однострочной записью цикла for, позволяющей генерировать списки и словари из последовательности. В общем виде синтаксис генераторов можно прдеставить так:"
   ]
  },
  {
   "cell_type": "code",
   "execution_count": null,
   "metadata": {},
   "outputs": [],
   "source": [
    "x = [1, 2, 3, 4]\n",
    "x_power = [item ** item for item in x]\n",
    "print(x_power)"
   ]
  },
  {
   "cell_type": "code",
   "execution_count": null,
   "metadata": {
    "slideshow": {
     "slide_type": "-"
    }
   },
   "outputs": [],
   "source": [
    "новый_список = [выражение1 for переменная in старый_список if выражение2]\n",
    "\n",
    "новый_словарь_1 = {выражение1:выражение2 for переменная in список if выражение3}\n",
    "\n",
    "новый_словарь_2 = {выражение1 for переменная in список if выражение2:выражение3}"
   ]
  },
  {
   "cell_type": "markdown",
   "metadata": {
    "slideshow": {
     "slide_type": "slide"
    }
   },
   "source": [
    "В основной части генератора присутствует запись, напоминающая цикл for, позволяющая итерироваться по заданной последовательности. Полученная переменная со значением из списка, в свою очередь, участвует в выражении, результат которого будет помещён в новый список или словарь. При этом условное выражение является необязательным элементов. Благодаря ему можно отфильтровать значения последовательности при создании нового списка или словаря."
   ]
  },
  {
   "cell_type": "code",
   "execution_count": 15,
   "metadata": {
    "scrolled": true,
    "slideshow": {
     "slide_type": "slide"
    }
   },
   "outputs": [
    {
     "data": {
      "text/plain": [
       "[2, 4, 8, 16, 32, 64, 128, 256, 512]"
      ]
     },
     "execution_count": 15,
     "metadata": {},
     "output_type": "execute_result"
    }
   ],
   "source": [
    "some_list = [1, 2, 3, 4, 5, 6, 7, 8, 9]\n",
    "[2 ** item for item in some_list]"
   ]
  },
  {
   "cell_type": "markdown",
   "metadata": {
    "slideshow": {
     "slide_type": "fragment"
    }
   },
   "source": [
    "Следует отметить, что для генерации словарей необходимо задать как ключ, так и значение. Например, скрипт по созданию словаря, в котором значения являляются степенями двойки ключей выглядит так:"
   ]
  },
  {
   "cell_type": "code",
   "execution_count": 16,
   "metadata": {
    "slideshow": {
     "slide_type": "fragment"
    }
   },
   "outputs": [
    {
     "data": {
      "text/plain": [
       "{1: 2, 2: 4, 3: 8, 4: 16, 5: 32, 6: 64, 7: 128, 8: 256, 9: 512}"
      ]
     },
     "execution_count": 16,
     "metadata": {},
     "output_type": "execute_result"
    }
   ],
   "source": [
    "some_list = [1, 2, 3, 4, 5, 6, 7, 8, 9]\n",
    "{item : 2 ** item for item in some_list}"
   ]
  },
  {
   "cell_type": "markdown",
   "metadata": {
    "slideshow": {
     "slide_type": "slide"
    }
   },
   "source": [
    "Команда **if** может использоваться для фильтрации элементов из исходного списка:"
   ]
  },
  {
   "cell_type": "code",
   "execution_count": 17,
   "metadata": {
    "slideshow": {
     "slide_type": "fragment"
    }
   },
   "outputs": [
    {
     "name": "stdout",
     "output_type": "stream",
     "text": [
      "[2, 4, 6, 8]\n",
      "[4, 16, 64, 256]\n"
     ]
    }
   ],
   "source": [
    "some_list = [1, 2, 3, 4, 5, 6, 7, 8, 9]\n",
    "print([item for item in some_list if item % 2 == 0])\n",
    "print([2 ** item for item in some_list if item % 2 == 0])"
   ]
  },
  {
   "cell_type": "code",
   "execution_count": 18,
   "metadata": {
    "slideshow": {
     "slide_type": "slide"
    }
   },
   "outputs": [
    {
     "name": "stdout",
     "output_type": "stream",
     "text": [
      "['LL', 'oo', 'rr', 'ee', 'mm', 'ii', 'pp', 'ss', 'uu', 'mm', 'dd', 'oo', 'll', 'oo', 'rr', 'ss', 'ii', 'tt', 'aa', 'mm', 'ee', 'tt']\n"
     ]
    },
    {
     "data": {
      "text/plain": [
       "'LLoorreemmiippssuummddoolloorrssiittaammeett'"
      ]
     },
     "execution_count": 18,
     "metadata": {},
     "output_type": "execute_result"
    }
   ],
   "source": [
    "s = 'Lorem ipsum dolor sit amet'\n",
    "print([2 * char for char in s if char != ' '])\n",
    "''.join([2 * char for char in s if char != ' '])"
   ]
  },
  {
   "cell_type": "markdown",
   "metadata": {
    "slideshow": {
     "slide_type": "slide"
    }
   },
   "source": [
    "### Выражения-генераторы"
   ]
  },
  {
   "cell_type": "markdown",
   "metadata": {},
   "source": [
    "Иногда прихожится работать с большими объёмами данных. Поскольку генераторы возвращают список или словарь, их использование в данном контексте может оказаться весьма затратным. Для подобных случаев можно использовать выражения-генераторы. Внешне они напоминают генераторы, но вместо квадратных скобочек используются круглые. В отличие от генераторов, выражения-генераторы возвращают не список, а объект-генератор, который может использоваться в цикле for."
   ]
  },
  {
   "cell_type": "code",
   "execution_count": 19,
   "metadata": {
    "slideshow": {
     "slide_type": "slide"
    }
   },
   "outputs": [
    {
     "data": {
      "text/plain": [
       "<generator object <genexpr> at 0x7fc026f91200>"
      ]
     },
     "execution_count": 19,
     "metadata": {},
     "output_type": "execute_result"
    }
   ],
   "source": [
    "some_list = [1, 2, 3, 4, 5, 6, 7, 8, 9]\n",
    "(10 * x for x in some_list)"
   ]
  },
  {
   "cell_type": "code",
   "execution_count": 21,
   "metadata": {
    "slideshow": {
     "slide_type": "slide"
    }
   },
   "outputs": [
    {
     "name": "stdout",
     "output_type": "stream",
     "text": [
      "10\n",
      "20\n",
      "30\n",
      "40\n",
      "50\n"
     ]
    }
   ],
   "source": [
    "some_list = [1, 2, 3, 4, 5]\n",
    "mod_list = (10 * x for x in some_list)\n",
    "for m in mod_list:\n",
    "    print(m)"
   ]
  }
 ],
 "metadata": {
  "celltoolbar": "Slideshow",
  "kernelspec": {
   "display_name": "Python 3",
   "language": "python",
   "name": "python3"
  },
  "language_info": {
   "codemirror_mode": {
    "name": "ipython",
    "version": 3
   },
   "file_extension": ".py",
   "mimetype": "text/x-python",
   "name": "python",
   "nbconvert_exporter": "python",
   "pygments_lexer": "ipython3",
   "version": "3.8.5"
  },
  "toc": {
   "base_numbering": 1,
   "nav_menu": {},
   "number_sections": false,
   "sideBar": false,
   "skip_h1_title": false,
   "title_cell": "Table of Contents",
   "title_sidebar": "Contents",
   "toc_cell": false,
   "toc_position": {},
   "toc_section_display": false,
   "toc_window_display": false
  }
 },
 "nbformat": 4,
 "nbformat_minor": 5
}
